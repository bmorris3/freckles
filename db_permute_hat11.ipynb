{
 "cells": [
  {
   "cell_type": "code",
   "execution_count": 1,
   "metadata": {},
   "outputs": [],
   "source": [
    "%matplotlib inline\n",
    "import matplotlib.pyplot as plt\n",
    "import numpy as np\n",
    "from toolkit import slice_spectrum, concatenate_spectra, bands_TiO, match_spectra, SimpleSpectrum\n",
    "import astropy.units as u\n",
    "from scipy.optimize import fmin_l_bfgs_b"
   ]
  },
  {
   "cell_type": "code",
   "execution_count": 2,
   "metadata": {},
   "outputs": [],
   "source": [
    "def plot_spliced_spectrum(observed_spectrum, model_flux, other_model=None):\n",
    "    n_chunks = len(observed_spectrum.wavelength_splits)\n",
    "    fig, ax = plt.subplots(n_chunks, 1, figsize=(8, 10))\n",
    "\n",
    "    for i, inds in enumerate(observed_spectrum.wavelength_splits):\n",
    "        min_ind, max_ind = inds\n",
    "        \n",
    "        ax[i].errorbar(observed_spectrum.wavelength[min_ind:max_ind].value, \n",
    "                       observed_spectrum.flux[min_ind:max_ind], \n",
    "                       0.025*np.ones(max_ind-min_ind))\n",
    "        ax[i].plot(observed_spectrum.wavelength[min_ind:max_ind], \n",
    "                   model_flux[min_ind:max_ind])\n",
    "        \n",
    "        if other_model is not None:\n",
    "            ax[i].plot(observed_spectrum.wavelength[min_ind:max_ind], \n",
    "                       other_model[min_ind:max_ind], alpha=0.4)\n",
    "        \n",
    "        ax[i].set_xlim([observed_spectrum.wavelength[min_ind].value,\n",
    "                        observed_spectrum.wavelength[max_ind-1].value])\n",
    "        ax[i].set_ylim([0.9*observed_spectrum.flux[min_ind:max_ind].min(), \n",
    "                        1.1])\n",
    "\n",
    "    return fig, ax"
   ]
  },
  {
   "cell_type": "code",
   "execution_count": 7,
   "metadata": {},
   "outputs": [],
   "source": [
    "import h5py\n",
    "\n",
    "archive = h5py.File('/Users/bmmorris/git/aesop/notebooks/spectra.hdf5', 'r+')"
   ]
  },
  {
   "cell_type": "code",
   "execution_count": 9,
   "metadata": {},
   "outputs": [
    {
     "data": {
      "text/plain": [
       "['2017-03-17T05:47:24.899', '2017-03-17T05:54:59.760']"
      ]
     },
     "execution_count": 9,
     "metadata": {},
     "output_type": "execute_result"
    }
   ],
   "source": [
    "list(archive['HD110833'])"
   ]
  },
  {
   "cell_type": "code",
   "execution_count": 11,
   "metadata": {},
   "outputs": [],
   "source": [
    "targets = list(archive)\n",
    "spectrum1 = archive['HATP11']['2017-06-12T07:28:06.310'] # K4\n",
    "wavelength1 = spectrum1['wavelength'][:]\n",
    "flux1 = spectrum1['flux'][:]\n",
    "target = SimpleSpectrum(wavelength1, flux1, dispersion_unit=u.Angstrom)\n",
    "\n",
    "spec_band = []\n",
    "\n",
    "first_n_bands = 5\n",
    "width = 3\n",
    "\n",
    "for band in bands_TiO[:first_n_bands]:\n",
    "    target_slice = slice_spectrum(target, band.min-width*u.Angstrom, band.max+width*u.Angstrom)\n",
    "    target_slice.flux /= target_slice.flux.max()\n",
    "    spec_band.append(target_slice)\n",
    "\n",
    "target_slices = concatenate_spectra(spec_band)\n",
    "\n",
    "spectrum2 = archive['HD110833']['2017-03-17T05:47:24.899']#archive[target][time]\n",
    "wavelength2 = spectrum2['wavelength'][:]\n",
    "flux2 = spectrum2['flux'][:]\n",
    "source1 = SimpleSpectrum(wavelength2, flux2, dispersion_unit=u.Angstrom)\n",
    "\n",
    "spec_band = []\n",
    "for band, inds in zip(bands_TiO[:first_n_bands], target_slices.wavelength_splits):\n",
    "    target_slice = slice_spectrum(source1, band.min-width*u.Angstrom, band.max+width*u.Angstrom, \n",
    "                                  force_length=abs(np.diff(inds))[0])\n",
    "    target_slice.flux /= target_slice.flux.max()\n",
    "    spec_band.append(target_slice)\n",
    "\n",
    "source1_slices = concatenate_spectra(spec_band)"
   ]
  },
  {
   "cell_type": "code",
   "execution_count": 12,
   "metadata": {},
   "outputs": [],
   "source": [
    "def chi2(p, target, comp1, comp2):\n",
    "    model, residuals = instr_model(target, comp1, comp2, *p)\n",
    "    return residuals"
   ]
  },
  {
   "cell_type": "code",
   "execution_count": 14,
   "metadata": {},
   "outputs": [
    {
     "name": "stderr",
     "output_type": "stream",
     "text": [
      "/Users/bmmorris/anaconda/lib/python3.5/site-packages/scipy/signal/windows.py:1217: RuntimeWarning: divide by zero encountered in true_divide\n",
      "  w = np.exp(-n ** 2 / sig2)\n"
     ]
    },
    {
     "name": "stdout",
     "output_type": "stream",
     "text": [
      "51Peg 0.42806957353 6.09214322861e-06\n",
      "51Peg 0.428078807984 1.96138066803e-05\n",
      "51Peg 0.428072923665 1.53755209764e-06\n",
      "51Peg 0.428073951612 6.15176791769e-07\n",
      "GJ4099 0.618733355549 5.77051345254e-05\n",
      "GJ4099 0.618720496293 2.74433351389e-05\n",
      "GJ702B 0.576631718331 0.210954989501\n",
      "GJ9781A 0.572638098543 0.257955595409\n",
      "HD10697 0.593622437945 1.04349002481e-06\n",
      "HD113827 0.597915763633 0.0209035290242\n",
      "HD122120 0.40864549387 1.0\n",
      "HD127506 0.428098252953 0.000266886523805\n",
      "HD129333 0.428074013646 4.83805932232e-07\n",
      "HD134319 0.607604136269 7.58745973016e-06\n",
      "HD14039 0.607604298033 1.71321492459e-05\n",
      "HD14039 0.59806811558 7.21880356334e-07\n",
      "HD148467 0.428074563009 2.56852699546e-05\n",
      "HD149957 0.587426504339 0.168839380539\n",
      "HD151288 0.590949372554 0.0619337749524\n",
      "HD175742 0.428067713178 3.69214278677e-06\n",
      "HD178126 0.428710996301 0.000482217800509\n",
      "HD182488 0.428078074116 3.28444428633e-05\n",
      "HD182488 0.428081763488 9.24040711543e-05\n",
      "HD182488 0.42808033602 1.67874711352e-05\n",
      "HD182488 0.428079098458 2.04128781565e-05\n",
      "HD200560 0.428073765376 1.04586905706e-06\n",
      "HD209290 0.607597812215 1.07447157975e-05\n",
      "HD210277 0.428072076377 2.81821617654e-05\n",
      "HD210277 0.428065514487 5.74893404838e-05\n",
      "HD220182 0.428219409207 0.000387889317222\n",
      "HD221639 0.609090862215 0.0424315863937\n",
      "HD221639 0.606369384488 0.0449746351288\n",
      "HD222107 0.428085380404 3.57302406714e-05\n",
      "HD222107 0.428070413759 5.14789183304e-06\n",
      "HD266611 0.606675762496 0.0227082849072\n",
      "HD266611 0.606829258708 0.0219498522849\n",
      "HD266611 0.606924747909 0.020795518407\n",
      "HD34411 0.428075046149 1.2547882701e-05\n",
      "HD34411 0.42807128615 7.90420580692e-06\n",
      "HD38230 0.607600478368 1.83478600877e-05\n",
      "HD38230 0.428073773168 9.73056826694e-07\n",
      "HD39587 0.428076681195 6.07188548891e-06\n",
      "HD39587 0.428102482289 3.4195417218e-05\n",
      "HD41593 0.428073597771 3.20483838655e-05\n",
      "HD41593 0.428102423722 0.000139461920054\n",
      "HD42250 0.61872779426 3.21613665854e-06\n",
      "HD42250 0.618724482321 1.03582951277e-05\n",
      "HD42250 0.618730109083 8.45869248614e-06\n",
      "HD42250 0.618728192003 4.07381081716e-06\n",
      "HD45088 0.618724593158 8.02371006881e-07\n",
      "HD45088 0.598075903464 1.35706568795e-05\n",
      "HD47752 0.42807338355 1.57937328968e-05\n",
      "HD47752 0.428087720332 9.84768422526e-05\n",
      "HD47752 0.428094279421 0.000176958426378\n",
      "HD47752 0.428069366622 1.46281949654e-05\n",
      "HD50692 0.428074508294 1.22862901711e-06\n",
      "HD5857 0.42833567182 0.00119856567455\n",
      "HD62613 0.428840175696 0.00111281128139\n",
      "HD6497 0.696388083121 0.828610028752\n",
      "HD6497 0.72398554672 0.862073888142\n",
      "HD67767 1.09387862546 0.909785416614\n",
      "HD67767 1.06257238094 0.865171261391\n",
      "HD68017 0.618731031451 1.13707297343e-05\n",
      "HD68017 0.59807336692 2.67199590436e-06\n",
      "HD73667 0.428079392566 1.47795342756e-05\n",
      "HD79555 0.607597368372 0.000241868933713\n",
      "HD79555 0.466534621792 0.210597634582\n",
      "HD79555 0.428076028705 1.21664820438e-05\n",
      "HD82106 0.618729137025 8.77182532497e-05\n",
      "HD82106 0.618727063088 2.36020582753e-05\n",
      "HD82106 0.632264518116 0.00518357538842\n",
      "HD86728 0.618727616546 2.38460771605e-06\n",
      "HD86728 0.428071510588 8.41818292157e-07\n",
      "HD87884 0.618725906776 1.25220956076e-05\n",
      "HD87884 0.428075130748 4.37069037002e-06\n",
      "HD87884 0.428077101758 1.15974594322e-05\n",
      "HD88230 0.601854652018 0.0603725892587\n",
      "HD89744 0.428075741758 2.34882655301e-06\n",
      "HD98230 0.598075734343 4.10296092156e-06\n",
      "HD98230 0.428092525955 3.23832061876e-05\n",
      "HD98230 0.428073468901 6.47802602387e-07\n",
      "HR8832 0.428063314589 0.000169235745865\n",
      "HR8832 0.427637232699 0.0111955887476\n",
      "KIC9652680 0.618725412559 3.84113965449e-06\n",
      "KIC9652680 0.618727629271 2.51071737902e-07\n",
      "KIC9652680 0.61872733495 3.87391765738e-07\n",
      "KIC9652680 0.607598197489 9.81079878517e-07\n",
      "KIC9652680 0.618727254524 2.54300472846e-07\n",
      "KIC9652680 0.618726755096 3.42227760507e-07\n",
      "KIC9652680 0.433148549907 0.00362613054852\n",
      "KIC9652680 0.60759592895 3.70001233644e-06\n",
      "KIC9652680 0.618725046501 1.26663573149e-06\n",
      "KIC9652680 0.607598639491 1.94810901775e-06\n",
      "KIC9652680 0.618727597896 8.71430912228e-07\n",
      "KIC9652680 0.618728289752 5.05259265479e-07\n",
      "KIC9652680 0.428393876643 0.000247886307689\n",
      "KIC9652680 0.618727440764 3.60424605735e-07\n",
      "KIC9652680 0.607597728321 7.29144621794e-08\n",
      "sigmaDraconis 0.618725182126 9.75867154701e-07\n",
      "sigmaDraconis 0.60759580817 2.08713119977e-05\n"
     ]
    }
   ],
   "source": [
    "from toolkit import instr_model\n",
    "from astropy.utils.console import ProgressBar\n",
    "bfgs_options_fast = dict(epsilon=1e-3, approx_grad=True,\n",
    "                         m=10, maxls=20)\n",
    "bfgs_options_precise = dict(epsilon=1e-3, approx_grad=True,\n",
    "                            m=30, maxls=50)\n",
    "\n",
    "target_list = []\n",
    "time_list = []\n",
    "residuals_list = []\n",
    "area_list = []\n",
    "counter = 0\n",
    "for target in archive: \n",
    "    for time in archive[target]:\n",
    "        counter +=1 \n",
    "\n",
    "for target in archive: \n",
    "    for time in archive[target]:\n",
    "        if target != 'HATP11' and target != 'HD110833':\n",
    "\n",
    "            spectrum3 = archive[target][time]\n",
    "            wavelength3 = spectrum3['wavelength'][:]\n",
    "            flux3 = spectrum3['flux'][:]\n",
    "            source2 = SimpleSpectrum(wavelength3, flux3, dispersion_unit=u.Angstrom)\n",
    "\n",
    "            spec_band = []\n",
    "            for band, inds in zip(bands_TiO[:first_n_bands], target_slices.wavelength_splits):\n",
    "                target_slice = slice_spectrum(source2, band.min-width*u.Angstrom, band.max+width*u.Angstrom, \n",
    "                                              force_length=abs(np.diff(inds))[0])\n",
    "                target_slice.flux /= target_slice.flux.max()\n",
    "                spec_band.append(target_slice)\n",
    "\n",
    "            source2_slices = concatenate_spectra(spec_band)\n",
    "\n",
    "            bounds = [[-30, 0], [0, 15]] + first_n_bands*[[-2, 2]]\n",
    "            initp = [-0.5, 1] + first_n_bands*[0.0]\n",
    "\n",
    "            result = fmin_l_bfgs_b(chi2, initp, bounds=bounds, \n",
    "                                   args=(target_slices, source1_slices, source2_slices),\n",
    "                                   **bfgs_options_precise)\n",
    "\n",
    "            model, resid = instr_model(target_slices, source1_slices, source2_slices, *result[0])\n",
    "\n",
    "            target_list.append(target)\n",
    "            time_list.append(time)\n",
    "            residuals_list.append(resid)\n",
    "            area_list.append(np.exp(result[0][0]))\n",
    "            print(target, resid, np.exp(result[0][0]))"
   ]
  },
  {
   "cell_type": "code",
   "execution_count": 15,
   "metadata": {},
   "outputs": [],
   "source": [
    "first_percentile = np.percentile(residuals_list, 2)"
   ]
  },
  {
   "cell_type": "code",
   "execution_count": 16,
   "metadata": {},
   "outputs": [
    {
     "name": "stdout",
     "output_type": "stream",
     "text": [
      "HD122120 2017-06-15T03:52:13.690 0.40864549387 1.0\n",
      "HR8832 2017-09-05T04:40:59.710 0.427637232699 0.0111955887476\n"
     ]
    }
   ],
   "source": [
    "for target, time, resid, area in zip(target_list, time_list, residuals_list, area_list):\n",
    "    if first_percentile > resid: \n",
    "        print(target, time, resid, area)"
   ]
  },
  {
   "cell_type": "code",
   "execution_count": null,
   "metadata": {},
   "outputs": [],
   "source": []
  }
 ],
 "metadata": {
  "kernelspec": {
   "display_name": "Python 3",
   "language": "python",
   "name": "python3"
  },
  "language_info": {
   "codemirror_mode": {
    "name": "ipython",
    "version": 3
   },
   "file_extension": ".py",
   "mimetype": "text/x-python",
   "name": "python",
   "nbconvert_exporter": "python",
   "pygments_lexer": "ipython3",
   "version": "3.5.4"
  }
 },
 "nbformat": 4,
 "nbformat_minor": 2
}
