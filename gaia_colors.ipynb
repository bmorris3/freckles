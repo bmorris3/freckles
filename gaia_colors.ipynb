{
 "cells": [
  {
   "cell_type": "markdown",
   "metadata": {},
   "source": [
    "# Compute gaia colors"
   ]
  },
  {
   "cell_type": "code",
   "execution_count": 109,
   "metadata": {},
   "outputs": [],
   "source": [
    "%matplotlib inline\n",
    "import matplotlib.pyplot as plt\n",
    "import numpy as np\n",
    "import json\n",
    "from astropy.io import fits\n",
    "from glob import glob\n",
    "import astropy.units as u\n",
    "from astropy.io import ascii\n",
    "from astropy.table import Table\n",
    "\n",
    "data_start = 3\n",
    "gaia = ascii.read('temperatures/gaia.tsv',\n",
    "                  data_start=data_start, delimiter='\\t')"
   ]
  },
  {
   "cell_type": "code",
   "execution_count": 110,
   "metadata": {},
   "outputs": [],
   "source": [
    "ext = [float(s) if len(s.strip()) > 0 else 0 for s in gaia['E(BP-RP)'].data]"
   ]
  },
  {
   "cell_type": "code",
   "execution_count": 111,
   "metadata": {},
   "outputs": [
    {
     "data": {
      "text/plain": [
       "(array([ 15.,  17.,  17.,   1.,   1.,   0.,   1.,   0.,   0.,   1.]),\n",
       " array([ 0.6427 ,  0.89971,  1.15672,  1.41373,  1.67074,  1.92775,\n",
       "         2.18476,  2.44177,  2.69878,  2.95579,  3.2128 ]),\n",
       " <a list of 10 Patch objects>)"
      ]
     },
     "execution_count": 111,
     "metadata": {},
     "output_type": "execute_result"
    },
    {
     "data": {
      "image/png": "[encoded data removed]",
      "text/plain": [
       "<Figure size 432x288 with 1 Axes>"
      ]
     },
     "metadata": {},
     "output_type": "display_data"
    }
   ],
   "source": [
    "plt.hist(gaia['BP-RP'].data.data - np.array(ext))"
   ]
  },
  {
   "cell_type": "code",
   "execution_count": 131,
   "metadata": {},
   "outputs": [],
   "source": [
    "colors = {}\n",
    "\n",
    "for s, color in zip(gaia['_1'], gaia['BP-RP'].data.data - np.array(ext)):\n",
    "    colors[s.strip().replace(' ', '').replace('-', '')] = color"
   ]
  },
  {
   "cell_type": "code",
   "execution_count": 133,
   "metadata": {},
   "outputs": [
    {
     "data": {
      "text/plain": [
       "1.1152"
      ]
     },
     "execution_count": 133,
     "metadata": {},
     "output_type": "execute_result"
    }
   ],
   "source": [
    "colors['HATP11']"
   ]
  },
  {
   "cell_type": "code",
   "execution_count": 134,
   "metadata": {},
   "outputs": [],
   "source": [
    "json.dump(colors, open('colors.json', 'w'))"
   ]
  },
  {
   "cell_type": "markdown",
   "metadata": {},
   "source": [
    "# Compute grid of colors for model atmospheres"
   ]
  },
  {
   "cell_type": "code",
   "execution_count": 56,
   "metadata": {},
   "outputs": [],
   "source": [
    "paths = glob('/Users/bmmorris/git/freckles/data/lte*BT-Settl.spec.fits')\n",
    "\n",
    "phoenix_wavelengths = fits.getdata(paths[0])['Wavelength'] \n",
    "\n",
    "temperatures = []\n",
    "model_fluxes = []\n",
    "\n",
    "for path in sorted(paths):\n",
    "    hdu = fits.open(path)\n",
    "    temperatures.append(hdu[1].header['PHXTEFF'])\n",
    "    interp_flux = np.interp(phoenix_wavelengths, hdu[1].data['Wavelength'], hdu[1].data['Flux'])\n",
    "    model_fluxes.append(interp_flux)\n",
    "    \n",
    "model_fluxes = np.vstack(model_fluxes)\n",
    "temperatures = np.array(temperatures)"
   ]
  },
  {
   "cell_type": "code",
   "execution_count": 62,
   "metadata": {},
   "outputs": [],
   "source": [
    "wavelength_unit = u.Unit(hdu[1].header['TUNIT1'])\n",
    "flux_unit = u.Unit(hdu[1].header['TUNIT2'])"
   ]
  },
  {
   "cell_type": "markdown",
   "metadata": {},
   "source": [
    "Read in Gaia bandpasses: "
   ]
  },
  {
   "cell_type": "code",
   "execution_count": 74,
   "metadata": {},
   "outputs": [],
   "source": [
    "b = ascii.read('filters/GAIA_GAIA2r.Gbp.dat.txt')\n",
    "r = ascii.read('filters/GAIA_GAIA2r.Grp.dat.txt')\n",
    "wl_b, trans_b = b['col1']*u.Angstrom, b['col2']\n",
    "wl_r, trans_r = r['col1']*u.Angstrom, r['col2']\n",
    "\n",
    "wavelength = phoenix_wavelengths * wavelength_unit\n",
    "trans_b_phoenix = np.interp(wavelength.to(u.Angstrom).value, wl_b.to(u.Angstrom).value, trans_b)\n",
    "trans_r_phoenix = np.interp(wavelength.to(u.Angstrom).value, wl_r.to(u.Angstrom).value, trans_r)"
   ]
  },
  {
   "cell_type": "markdown",
   "metadata": {},
   "source": [
    "Read in Vega: "
   ]
  },
  {
   "cell_type": "code",
   "execution_count": 75,
   "metadata": {},
   "outputs": [],
   "source": [
    "a = fits.open('data/alpha_lyr_mod_002.fits')\n",
    "vega_wavelength = a[1].data['Wavelength'] * u.Angstrom\n",
    "vega_flux = a[1].data['Flux'] * u.Unit('erg / (s * cm^2 * Angstrom)')\n",
    "\n",
    "trans_b_vega = np.interp(vega_wavelength.to(u.Angstrom).value, wl_b.to(u.Angstrom).value, trans_b)\n",
    "trans_r_vega = np.interp(vega_wavelength.to(u.Angstrom).value, wl_r.to(u.Angstrom).value, trans_r)"
   ]
  },
  {
   "cell_type": "code",
   "execution_count": 77,
   "metadata": {},
   "outputs": [],
   "source": [
    "bminusr = []\n",
    "\n",
    "for temperature in temperatures: \n",
    "    \n",
    "    wavelength = phoenix_wavelengths * wavelength_unit\n",
    "    flux = model_fluxes[np.argmin(np.abs(temperatures-temperature)), :] * flux_unit\n",
    "    \n",
    "#     plt.plot(wavelength, flux)\n",
    "    \n",
    "    B = -2.5 * np.log10(np.trapz(flux * wavelength * trans_b_phoenix, wavelength) / \n",
    "                        np.trapz(vega_flux * vega_wavelength * trans_b_vega, vega_wavelength))\n",
    "    R = -2.5 * np.log10(np.trapz(flux * wavelength * trans_r_phoenix, wavelength) / \n",
    "                        np.trapz(vega_flux * vega_wavelength * trans_r_vega, vega_wavelength))\n",
    "\n",
    "    bminusr.append(B-R)"
   ]
  },
  {
   "cell_type": "code",
   "execution_count": 104,
   "metadata": {},
   "outputs": [
    {
     "data": {
      "image/png": "[encoded data removed]",
      "text/plain": [
       "<Figure size 288x216 with 1 Axes>"
      ]
     },
     "metadata": {},
     "output_type": "display_data"
    }
   ],
   "source": [
    "plt.figure(figsize=(4,3))\n",
    "plt.plot(temperatures, bminusr, '.-')\n",
    "plt.xlabel('$T_\\mathrm{eff}$', fontsize=14)\n",
    "plt.ylabel('BP-RP', fontsize=14)\n",
    "plt.show()"
   ]
  },
  {
   "cell_type": "code",
   "execution_count": 184,
   "metadata": {},
   "outputs": [],
   "source": [
    "from astropy.modeling.blackbody import blackbody_lambda\n",
    "\n",
    "eqvir_hot_oneal04 = np.interp(4519, temperatures, bminusr)\n",
    "eqvir_cool_oneal04 = np.interp(3350, temperatures, bminusr)\n",
    "\n",
    "fS = 0.45\n",
    "R_lambda = (blackbody_lambda(7054, 3350)/blackbody_lambda(7054, 4519)).value\n",
    "\n",
    "W_Q = (1 - fS) / ((fS * R_lambda) + (1 - fS))\n",
    "W_S = (fS * R_lambda) / ((fS * R_lambda) + (1 - fS))\n",
    "\n",
    "\n",
    "composite = 2.5*np.log10(W_Q * 10**(eqvir_hot_oneal04/2.5) + W_S * 10**(eqvir_cool_oneal04/2.5))"
   ]
  },
  {
   "cell_type": "code",
   "execution_count": 185,
   "metadata": {},
   "outputs": [
    {
     "data": {
      "text/plain": [
       "1.5806705998769894"
      ]
     },
     "execution_count": 185,
     "metadata": {},
     "output_type": "execute_result"
    }
   ],
   "source": [
    "composite"
   ]
  },
  {
   "cell_type": "code",
   "execution_count": 186,
   "metadata": {},
   "outputs": [
    {
     "data": {
      "text/plain": [
       "15.539159979785724"
      ]
     },
     "execution_count": 186,
     "metadata": {},
     "output_type": "execute_result"
    }
   ],
   "source": [
    "observed = [1.4960, np.sqrt(0.0040**2+0.0037**2)]\n",
    "(composite - observed[0])/observed[1]"
   ]
  },
  {
   "cell_type": "code",
   "execution_count": 180,
   "metadata": {},
   "outputs": [
    {
     "name": "stdout",
     "output_type": "stream",
     "text": [
      "1.50118549235\n"
     ]
    },
    {
     "data": {
      "text/plain": [
       "0.9516667562496377"
      ]
     },
     "execution_count": 180,
     "metadata": {},
     "output_type": "execute_result"
    }
   ],
   "source": [
    "eqvir_hot_morris = 1.3428#np.interp(4514, temperatures, bminusr)\n",
    "eqvir_cool_morris = 2.1969#np.interp(3846, temperatures, bminusr)\n",
    "\n",
    "fS = 0.25\n",
    "R_lambda = (blackbody_lambda(7054, 3846)/blackbody_lambda(7054, 4514)).value\n",
    "\n",
    "W_Q = (1 - fS) / ((fS * R_lambda) + (1 - fS))\n",
    "W_S = (fS * R_lambda) / ((fS * R_lambda) + (1 - fS))\n",
    "\n",
    "composite = 2.5*np.log10(W_Q * 10**(eqvir_hot_morris/2.5) + W_S * 10**(eqvir_cool_morris/2.5))\n",
    "print(composite)\n",
    "(composite - observed[0])/observed[1]"
   ]
  },
  {
   "cell_type": "code",
   "execution_count": 105,
   "metadata": {},
   "outputs": [],
   "source": [
    "np.savetxt('temp_to_color.txt', np.vstack([temperatures, bminusr]).T)"
   ]
  },
  {
   "cell_type": "code",
   "execution_count": 135,
   "metadata": {},
   "outputs": [
    {
     "data": {
      "text/plain": [
       "(1.1259733299810706, 1.1152)"
      ]
     },
     "execution_count": 135,
     "metadata": {},
     "output_type": "execute_result"
    }
   ],
   "source": [
    "from json import load\n",
    "\n",
    "temps = load(open('star_temps.json', 'r'))\n",
    "\n",
    "colors = load(open('colors.json', 'r'))\n",
    "\n",
    "np.interp(temps['HATP11'], temperatures, bminusr), colors['HATP11']\n",
    "# np.interp(temps['EQVir'], temperatures, bminusr), colors['EQVir']"
   ]
  },
  {
   "cell_type": "markdown",
   "metadata": {},
   "source": [
    "## Typical color errors: "
   ]
  },
  {
   "cell_type": "code",
   "execution_count": 83,
   "metadata": {},
   "outputs": [],
   "source": [
    "data_start = 3\n",
    "gaia = ascii.read('temperatures/gaia2.tsv',\n",
    "                  data_start=data_start, delimiter='\\t')"
   ]
  },
  {
   "cell_type": "code",
   "execution_count": 99,
   "metadata": {},
   "outputs": [
    {
     "name": "stderr",
     "output_type": "stream",
     "text": [
      "/Users/bmmorris/anaconda/lib/python3.5/site-packages/numpy/ma/core.py:4139: UserWarning: Warning: converting a masked element to nan.\n",
      "  warnings.warn(\"Warning: converting a masked element to nan.\")\n"
     ]
    },
    {
     "name": "stdout",
     "output_type": "stream",
     "text": [
      "0.0049\n"
     ]
    },
    {
     "data": {
      "image/png": "[encoded data removed]",
      "text/plain": [
       "<Figure size 432x288 with 1 Axes>"
      ]
     },
     "metadata": {},
     "output_type": "display_data"
    }
   ],
   "source": [
    "plt.hist(gaia['e_RPmag'], log=True)\n",
    "plt.hist(gaia['e_BPmag'], log=True)\n",
    "\n",
    "print(np.nanmedian(list(gaia['e_RPmag'])))"
   ]
  },
  {
   "cell_type": "code",
   "execution_count": null,
   "metadata": {},
   "outputs": [],
   "source": []
  }
 ],
 "metadata": {
  "kernelspec": {
   "display_name": "Python 3",
   "language": "python",
   "name": "python3"
  },
  "language_info": {
   "codemirror_mode": {
    "name": "ipython",
    "version": 3
   },
   "file_extension": ".py",
   "mimetype": "text/x-python",
   "name": "python",
   "nbconvert_exporter": "python",
   "pygments_lexer": "ipython3",
   "version": "3.5.4"
  }
 },
 "nbformat": 4,
 "nbformat_minor": 2
}
