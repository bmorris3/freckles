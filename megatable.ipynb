{
 "cells": [
  {
   "cell_type": "code",
   "execution_count": 513,
   "metadata": {},
   "outputs": [],
   "source": [
    "from astropy.io import ascii\n",
    "from astropy.table import Table"
   ]
  },
  {
   "cell_type": "code",
   "execution_count": 514,
   "metadata": {},
   "outputs": [],
   "source": [
    "# w = open('/Users/bmmorris/Desktop/targets.txt', 'w') \n",
    "# w.write('\\n'.join(gaia['Target'].data.tolist() + ['GJ 4099', 'EPIC 211928486', 'EPIC 211966629']))\n",
    "# w.close()"
   ]
  },
  {
   "cell_type": "code",
   "execution_count": 515,
   "metadata": {},
   "outputs": [],
   "source": [
    "from json import load\n",
    "\n",
    "star_key = load(open('stars.json'))\n",
    "\n",
    "spot_stars = Table(rows=[[star, star_key[star][1][0]] for star in star_key], names=['Target', 'Spot'])"
   ]
  },
  {
   "cell_type": "code",
   "execution_count": 516,
   "metadata": {},
   "outputs": [],
   "source": [
    "data_start = 3\n",
    "gaia = ascii.read('temperatures/gaia2.tsv', #names='Target,Gmag,Teff_Gaia,Teff_Gaia_lower,Teff_Gaia_upper'.split(','), \n",
    "                  data_start=data_start, delimiter='\\t')\n",
    "# spocs2005 = ascii.read('temperatures/spocs2005_temps.tsv', names='Target, Teff_spocs2005'.split(', '), \n",
    "#                        data_start=data_start, delimiter='\\t')\n",
    "# spocs2016 = ascii.read('temperatures/spocs2016_temps.tsv', names='Target, Teff_spocs2016'.split(', '), \n",
    "#                        data_start=data_start, delimiter='\\t')"
   ]
  },
  {
   "cell_type": "code",
   "execution_count": 517,
   "metadata": {},
   "outputs": [],
   "source": [
    "gb = gaia.group_by('_1')"
   ]
  },
  {
   "cell_type": "code",
   "execution_count": 518,
   "metadata": {},
   "outputs": [],
   "source": [
    "from astropy.table import vstack\n",
    "\n",
    "gaia_dedup = Table(gb.groups[0])\n",
    "\n",
    "for i in np.arange(1, len(gb.groups)): \n",
    "    group = gb.groups[i]\n",
    "    gaia_dedup.add_row(group[np.argmin(group['Gmag'])])\n",
    "    #gaia_dedeup = vstack([gaia_dedup, group[np.argmin(group['Gmag'])]], join_type='inner')"
   ]
  },
  {
   "cell_type": "code",
   "execution_count": 519,
   "metadata": {},
   "outputs": [],
   "source": [
    "remove_cols = ['_r', 'RA_ICRS', 'e_RA_ICRS', 'DE_ICRS', 'e_DE_ICRS', 'Source', 'Plx', 'e_Plx', \n",
    "               'pmRA', 'e_pmRA', 'pmDE', 'e_pmDE', 'Dup', 'FG', 'e_FG', 'Gmag', 'e_Gmag', 'FBP', \n",
    "               'e_FBP', 'BPmag', 'e_BPmag', 'FRP', 'e_FRP', 'RPmag', 'e_RPmag', 'BP-RP', 'RV', \n",
    "               'e_RV', 'AG', 'E(BP-RP)', 'Rad', 'Lum', 'DR2Name', 'SolID', 'RandomI', 'Epoch', \n",
    "               'RPlx', 'RADEcor', 'RAPlxcor', 'RApmRAcor', 'RApmDEcor', 'DEPlxcor', 'DEpmRAcor', \n",
    "               'DEpmDEcor', 'PlxpmRAcor', 'PlxpmDEcor', 'pmRApmDEcor', 'NAL', 'NAC', 'NgAL', \n",
    "               'NbAL', 'gofAL', 'chi2AL', 'epsi', 'sepsi', 'Solved', 'APF', 'WAL', 'pscol', \n",
    "               'e_pscol', 'fvarpi', 'MatchObsA', 'Nper', 'amax', 'type', 'MatchObs', 'o_Gmag', \n",
    "               'RFG', 'o_BPmag', 'RFBP', 'o_RPmag', 'RFRP', 'E(BR/RP)', 'Mode', 'BP-G', 'G-RP', \n",
    "               'o_RV', 'Tefftemp', 'loggtemp', '[Fe/H]temp', 'Var', 'GLON', 'GLAT', 'ELON', 'ELAT', \n",
    "               'fPriam', 'b_AG', 'B_AG', 'b_E(BP-RP)', 'B_E(BP-RP)', 'fFLAME', 'b_Rad', 'B_Rad', \n",
    "               'b_Lum', 'B_Lum', 'RAJ2000', 'e_RAJ2000', 'DEJ2000', 'e_DEJ2000']\n",
    "# 'Teff', 'b_Teff', 'B_Teff', \n",
    "\n",
    "gaia_dedup.remove_columns(remove_cols)"
   ]
  },
  {
   "cell_type": "code",
   "execution_count": 520,
   "metadata": {},
   "outputs": [],
   "source": [
    "gaia_dedup.rename_column('_1', 'Target')"
   ]
  },
  {
   "cell_type": "code",
   "execution_count": 521,
   "metadata": {},
   "outputs": [],
   "source": [
    "gaia_dedup.rename_column('b_Teff', 'Teff_Gaia_lower')\n",
    "gaia_dedup.rename_column('B_Teff', 'Teff_Gaia_upper')\n",
    "gaia_dedup.rename_column('Teff', 'Teff_Gaia')"
   ]
  },
  {
   "cell_type": "code",
   "execution_count": 522,
   "metadata": {},
   "outputs": [],
   "source": [
    "import numpy as np\n",
    "gaia_teffs = [gaia_dedup['Teff_Gaia'], \n",
    "              gaia_dedup['Teff_Gaia']-gaia_dedup['Teff_Gaia_lower'], \n",
    "              gaia_dedup['Teff_Gaia_upper']-gaia_dedup['Teff_Gaia']]\n",
    "\n",
    "gaia_formatted = []\n",
    "for mid, lower, upper in Table(gaia_teffs, names=['Mid', 'Lower', 'Upper']):\n",
    "    if isinstance(mid, float):\n",
    "        gaia_formatted.append('${0:.0f}^{{+{1:.0f}}}_{{-{2:.0f}}}$'.format(mid, upper, lower))\n",
    "    else: \n",
    "        gaia_formatted.append('')"
   ]
  },
  {
   "cell_type": "code",
   "execution_count": 523,
   "metadata": {},
   "outputs": [],
   "source": [
    "from astropy.table import Column\n",
    "gaia_dedup.remove_columns(['Teff_Gaia', 'Teff_Gaia_lower', 'Teff_Gaia_upper'])\n",
    "gaia_dedup.add_column(Column(gaia_formatted, '$T_\\mathrm{eff,Gaia}$'))\n",
    "gaia_dedup['Target'] = [s.strip().replace(' ', '') for s in list(gaia_dedup['Target'])]"
   ]
  },
  {
   "cell_type": "code",
   "execution_count": 524,
   "metadata": {},
   "outputs": [],
   "source": [
    "gaia_spot = join(gaia_dedup, spot_stars, join_type='outer')\n",
    "\n",
    "gaia_spot.add_index('Target')\n",
    "\n",
    "spot_temps = []\n",
    "for s in gaia_spot['Spot']:\n",
    "    if isinstance(s, str) and s in gaia_spot['Target']:\n",
    "        spot_temps.append(gaia_spot.loc[s]['$T_\\mathrm{eff,Gaia}$'])\n",
    "    else: \n",
    "        spot_temps.append(\"\")\n",
    "        \n",
    "gaia_spot.add_column(Column(spot_temps, '$T_S$'))\n",
    "gaia_spot.remove_column('Spot')"
   ]
  },
  {
   "cell_type": "code",
   "execution_count": 525,
   "metadata": {},
   "outputs": [
    {
     "name": "stdout",
     "output_type": "stream",
     "text": [
      "\\begin{table}\n",
      "\\begin{tabular}{ccc}\n",
      "Target & $T_\\mathrm{eff,Gaia}$ & $T_S$ \\\\\n",
      "51Peg & $5830^{+214}_{-55}$ &  \\\\\n",
      "EKDra & $5584^{+115}_{-193}$ & $5253^{+61}_{-89}$ \\\\\n",
      "EPIC211928486 & $4682^{+149}_{-250}$ & $4182^{+260}_{-132}$ \\\\\n",
      "EPIC211966629 & $4922^{+83}_{-270}$ & $4182^{+260}_{-132}$ \\\\\n",
      "EQVir & $4433^{+82}_{-106}$ & $3846^{+181}_{-190}$ \\\\\n",
      "GJ4099 & $3846^{+181}_{-190}$ &  \\\\\n",
      "GJ702B & $5305^{+341}_{-245}$ & $4851^{+13}_{-75}$ \\\\\n",
      "GJ705 & $4465^{+102}_{-66}$ &  \\\\\n",
      "GJ9781A & $4484^{+95}_{-110}$ &  \\\\\n",
      "HAT-P-11 & $4757^{+154}_{-111}$ &  \\\\\n",
      "HD10697 & $5654^{+36}_{-56}$ &  \\\\\n",
      "HD110833 & $5025^{+50}_{-82}$ &  \\\\\n",
      "HD113827 & $4610^{+459}_{-191}$ & $3882^{+163}_{-82}$ \\\\\n",
      "HD122120 & $4469^{+253}_{-144}$ &  \\\\\n",
      "HD127506 & $4711^{+55}_{-83}$ & $4465^{+102}_{-66}$ \\\\\n",
      "HD129333 & $5584^{+115}_{-193}$ &  \\\\\n",
      "HD134319 & $5636^{+100}_{-54}$ & $5253^{+61}_{-89}$ \\\\\n",
      "HD14039 & $5072^{+98}_{-73}$ &  \\\\\n",
      "HD145675 & $5282^{+251}_{-73}$ &  \\\\\n",
      "HD145742 & $4851^{+13}_{-75}$ &  \\\\\n",
      "HD148467 & $4474^{+153}_{-201}$ &  \\\\\n",
      "HD149957 & $4485^{+37}_{-89}$ &  \\\\\n",
      "HD151288 & $4224^{+300}_{-270}$ & $3882^{+163}_{-82}$ \\\\\n",
      "HD175742 & $4874^{+43}_{-74}$ & $4465^{+102}_{-66}$ \\\\\n",
      "HD178126 & $4630^{+139}_{-77}$ & $4465^{+102}_{-66}$ \\\\\n",
      "HD182488 & $5404^{+41}_{-93}$ &  \\\\\n",
      "HD200560 & $4963^{+42}_{-85}$ & $4465^{+102}_{-66}$ \\\\\n",
      "HD209290 & $3882^{+163}_{-82}$ &  \\\\\n",
      "HD210277 & $5535^{+42}_{-48}$ &  \\\\\n",
      "HD220182 & $5303^{+106}_{-106}$ & $4851^{+13}_{-75}$ \\\\\n",
      "HD221639 & $5102^{+139}_{-106}$ &  \\\\\n",
      "HD222107 & $4637^{+360}_{-274}$ & $4465^{+102}_{-66}$ \\\\\n",
      "HD266611 & $4182^{+260}_{-132}$ &  \\\\\n",
      "HD34411 & $5979^{+178}_{-140}$ &  \\\\\n",
      "HD38230 & $5253^{+61}_{-89}$ &  \\\\\n",
      "HD39587 & $6028^{+76}_{-81}$ & $5560^{+47}_{-49}$ \\\\\n",
      "HD41593 & $5306^{+28}_{-83}$ & $4851^{+13}_{-75}$ \\\\\n",
      "HD42250 & $5407^{+85}_{-46}$ &  \\\\\n",
      "HD45088 & $4786^{+39}_{-36}$ & $4465^{+102}_{-66}$ \\\\\n",
      "HD47752 & $4700^{+69}_{-22}$ & $4465^{+102}_{-66}$ \\\\\n",
      "HD50692 & $6060^{+235}_{-118}$ &  \\\\\n",
      "HD5857 & $4712^{+67}_{-71}$ &  \\\\\n",
      "HD62613 & $5560^{+47}_{-49}$ &  \\\\\n",
      "HD6497 & $4514^{+82}_{-71}$ &  \\\\\n",
      "HD67767 & $5297^{+486}_{-61}$ &  \\\\\n",
      "HD68017 & $5749^{+155}_{-90}$ &  \\\\\n",
      "HD73667 & $5039^{+98}_{-159}$ &  \\\\\n",
      "HD79555 & $4861^{+149}_{-251}$ & $4465^{+102}_{-66}$ \\\\\n",
      "HD82106 & $4749^{+71}_{-40}$ & $4465^{+102}_{-66}$ \\\\\n",
      "HD86728 & $5832^{+251}_{-207}$ &  \\\\\n",
      "HD87884 & $5098^{+50}_{-69}$ & $4712^{+67}_{-71}$ \\\\\n",
      "HD88230 & $4057^{+174}_{-107}$ &  \\\\\n",
      "HD89744 & $6239^{+23}_{-84}$ &  \\\\\n",
      "HD98230 & $6300^{+750}_{-263}$ &  \\\\\n",
      "HR8832 & $0^{+0}_{-0}$ &  \\\\\n",
      "KIC9652680 & $5736^{+127}_{-118}$ &  \\\\\n",
      "\\end{tabular}\n",
      "\\end{table}\n"
     ]
    }
   ],
   "source": [
    "import sys\n",
    "gaia_spot.write(sys.stdout, format='latex')"
   ]
  },
  {
   "cell_type": "code",
   "execution_count": 526,
   "metadata": {},
   "outputs": [],
   "source": [
    "sinds = Table.read('/Users/bmmorris/git/arces_hk/freckles.tex')\n",
    "sinds.sort('Target')"
   ]
  },
  {
   "cell_type": "code",
   "execution_count": 527,
   "metadata": {},
   "outputs": [],
   "source": [
    "sinds['Target'] = [s.strip().replace(' ', '') for s in sinds['Target']]"
   ]
  },
  {
   "cell_type": "code",
   "execution_count": 528,
   "metadata": {},
   "outputs": [
    {
     "name": "stdout",
     "output_type": "stream",
     "text": [
      "    Target      Sp. Type         $S$       $\\log R^\\prime_\\mathrm{HK}$ Active? \n",
      "------------- ------------ --------------- --------------------------- --------\n",
      "        51Peg         G2IV $0.15 \\pm 0.01$                        -4.9 Inactive\n",
      "        EKDra        G1.5V $0.58 \\pm 0.02$                       -3.91   Active\n",
      "        EQVir         K5Ve $3.00 \\pm 0.12$                       -3.65   Active\n",
      "       GJ4099       M2.0Ve $0.87 \\pm 0.05$                       -4.67 Inactive\n",
      "       GJ702B          K4V $0.84 \\pm 0.04$                       -3.61   Active\n",
      "        GJ705           K2 $0.12 \\pm 0.01$                       -5.44 Inactive\n",
      "      GJ9781A           K7 $0.99 \\pm 0.04$                       -4.46   Active\n",
      "     HAT-P-11          K4V $0.53 \\pm 0.02$                       -4.46   Active\n",
      "      HD10697         G3Va $0.14 \\pm 0.01$                       -5.01 Inactive\n",
      "     HD110833          K3V $0.30 \\pm 0.01$                       -4.52 Inactive\n",
      "     HD113827          K4V $1.03 \\pm 0.04$                        -4.0   Active\n",
      "     HD122120          K5V $0.60 \\pm 0.02$                       -4.37   Active\n",
      "     HD127506        K3.5V $0.49 \\pm 0.02$                       -4.13   Active\n",
      "     HD129333        G1.5V $0.63 \\pm 0.03$                       -3.86   Active\n",
      "     HD134319         G5V: $0.42 \\pm 0.02$                       -4.12   Active\n",
      "      HD14039          K1V $0.19 \\pm 0.01$                       -4.81 Inactive\n",
      "     HD145675          K0V $0.16 \\pm 0.01$                       -4.94 Inactive\n",
      "     HD145742           K0 $0.15 \\pm 0.01$                       -5.09 Inactive\n",
      "     HD148467          K6V $0.69 \\pm 0.03$                       -4.38   Active\n",
      "     HD149957          K5V $0.67 \\pm 0.03$                       -4.37   Active\n",
      "     HD151288       K7.5Ve $1.27 \\pm 0.05$                       -3.58   Active\n",
      "     HD175742          K0V $1.26 \\pm 0.05$                       -3.78   Active\n",
      "     HD178126          K5V $0.29 \\pm 0.02$                       -4.65 Inactive\n",
      "     HD182488          K0V $0.17 \\pm 0.01$                       -4.81 Inactive\n",
      "     HD200560        K2.5V $0.61 \\pm 0.03$                       -4.17   Active\n",
      "     HD209290        M0.5V $1.66 \\pm 0.07$                       -4.21   Active\n",
      "     HD210277          G8V $0.15 \\pm 0.01$                       -4.94 Inactive\n",
      "     HD220182          G9V $0.45 \\pm 0.02$                       -4.19   Active\n",
      "     HD221639          K1V $0.15 \\pm 0.01$                       -4.96 Inactive\n",
      "     HD222107        G8IVk $0.55 \\pm 0.02$                       -4.27   Active\n",
      "     HD266611          K5V $1.44 \\pm 0.06$                        -4.2   Active\n",
      "      HD34411 G1.5IV-VFe-1 $0.15 \\pm 0.01$                        -4.9 Inactive\n",
      "      HD38230          K0V $0.16 \\pm 0.01$                       -4.89 Inactive\n",
      "      HD39587          G0V $0.30 \\pm 0.01$                       -4.29   Active\n",
      "      HD41593          K0V $0.44 \\pm 0.02$                       -4.22   Active\n",
      "      HD42250          G9V $0.16 \\pm 0.01$                       -4.88 Inactive\n",
      "      HD45088         K2Ve $0.91 \\pm 0.04$                       -3.98   Active\n",
      "      HD47752        K3.5V $0.48 \\pm 0.02$                       -4.38   Active\n",
      "      HD50692          G0V $0.16 \\pm 0.01$                       -4.82 Inactive\n",
      "       HD5857           G5 $0.11 \\pm 0.01$                       -5.53 Inactive\n",
      "      HD62613          G8V $0.18 \\pm 0.01$                       -4.76 Inactive\n",
      "       HD6497     K2III-IV $0.11 \\pm 0.01$                       -5.41 Inactive\n",
      "      HD67767          G7V $0.19 \\pm 0.01$                       -4.74 Inactive\n",
      "      HD68017          G3V $0.18 \\pm 0.01$                       -4.73 Inactive\n",
      "      HD73667          K2V $0.19 \\pm 0.01$                       -4.76 Inactive\n",
      "      HD79555          K4V $0.62 \\pm 0.03$                       -4.23   Active\n",
      "      HD82106          K3V $0.61 \\pm 0.02$                       -4.23   Active\n",
      "      HD86728    G3VaHdel1 $0.15 \\pm 0.01$                       -4.93 Inactive\n",
      "      HD87884         K0Ve $0.44 \\pm 0.02$                       -4.24   Active\n",
      "      HD88230     K6VeFe-1 $1.31 \\pm 0.05$                       -4.17   Active\n",
      "      HD89744          F7V $0.14 \\pm 0.01$                       -5.11 Inactive\n",
      "      HD98230          G2V $0.26 \\pm 0.01$                       -4.41   Active\n",
      "       HR8832          K3V $0.26 \\pm 0.01$                       -4.65 Inactive\n",
      "   KIC9652680           -- $0.47 \\pm 0.02$                       -3.92   Active\n",
      "sigmaDraconis          K0V $0.20 \\pm 0.01$                       -4.68 Inactive\n"
     ]
    }
   ],
   "source": [
    "sinds.pprint(max_lines=1000)"
   ]
  },
  {
   "cell_type": "code",
   "execution_count": 529,
   "metadata": {},
   "outputs": [],
   "source": [
    "from astropy.table import hstack\n",
    "\n",
    "temps_sinds = join(gaia_spot, sinds, join_type='outer', keys='Target')"
   ]
  },
  {
   "cell_type": "code",
   "execution_count": 530,
   "metadata": {},
   "outputs": [
    {
     "name": "stdout",
     "output_type": "stream",
     "text": [
      "    Target    $T_\\mathrm{eff,Gaia}$        $T_S$           Sp. Type         $S$       $\\log R^\\prime_\\mathrm{HK}$ Active? \n",
      "------------- --------------------- -------------------- ------------ --------------- --------------------------- --------\n",
      "        51Peg   $5830^{+214}_{-55}$                              G2IV $0.15 \\pm 0.01$                        -4.9 Inactive\n",
      "        EKDra  $5584^{+115}_{-193}$   $5253^{+61}_{-89}$        G1.5V $0.58 \\pm 0.02$                       -3.91   Active\n",
      "EPIC211928486  $4682^{+149}_{-250}$ $4182^{+260}_{-132}$           --              --                          --       --\n",
      "EPIC211966629   $4922^{+83}_{-270}$ $4182^{+260}_{-132}$           --              --                          --       --\n",
      "        EQVir   $4433^{+82}_{-106}$ $3846^{+181}_{-190}$         K5Ve $3.00 \\pm 0.12$                       -3.65   Active\n",
      "       GJ4099  $3846^{+181}_{-190}$                            M2.0Ve $0.87 \\pm 0.05$                       -4.67 Inactive\n",
      "       GJ702B  $5305^{+341}_{-245}$   $4851^{+13}_{-75}$          K4V $0.84 \\pm 0.04$                       -3.61   Active\n",
      "        GJ705   $4465^{+102}_{-66}$                                K2 $0.12 \\pm 0.01$                       -5.44 Inactive\n",
      "      GJ9781A   $4484^{+95}_{-110}$                                K7 $0.99 \\pm 0.04$                       -4.46   Active\n",
      "     HAT-P-11  $4757^{+154}_{-111}$                               K4V $0.53 \\pm 0.02$                       -4.46   Active\n",
      "      HD10697    $5654^{+36}_{-56}$                              G3Va $0.14 \\pm 0.01$                       -5.01 Inactive\n",
      "     HD110833    $5025^{+50}_{-82}$                               K3V $0.30 \\pm 0.01$                       -4.52 Inactive\n",
      "     HD113827  $4610^{+459}_{-191}$  $3882^{+163}_{-82}$          K4V $1.03 \\pm 0.04$                        -4.0   Active\n",
      "     HD122120  $4469^{+253}_{-144}$                               K5V $0.60 \\pm 0.02$                       -4.37   Active\n",
      "     HD127506    $4711^{+55}_{-83}$  $4465^{+102}_{-66}$        K3.5V $0.49 \\pm 0.02$                       -4.13   Active\n",
      "     HD129333  $5584^{+115}_{-193}$                             G1.5V $0.63 \\pm 0.03$                       -3.86   Active\n",
      "     HD134319   $5636^{+100}_{-54}$   $5253^{+61}_{-89}$         G5V: $0.42 \\pm 0.02$                       -4.12   Active\n",
      "      HD14039    $5072^{+98}_{-73}$                               K1V $0.19 \\pm 0.01$                       -4.81 Inactive\n",
      "     HD145675   $5282^{+251}_{-73}$                               K0V $0.16 \\pm 0.01$                       -4.94 Inactive\n",
      "     HD145742    $4851^{+13}_{-75}$                                K0 $0.15 \\pm 0.01$                       -5.09 Inactive\n",
      "     HD148467  $4474^{+153}_{-201}$                               K6V $0.69 \\pm 0.03$                       -4.38   Active\n",
      "     HD149957    $4485^{+37}_{-89}$                               K5V $0.67 \\pm 0.03$                       -4.37   Active\n",
      "     HD151288  $4224^{+300}_{-270}$  $3882^{+163}_{-82}$       K7.5Ve $1.27 \\pm 0.05$                       -3.58   Active\n",
      "     HD175742    $4874^{+43}_{-74}$  $4465^{+102}_{-66}$          K0V $1.26 \\pm 0.05$                       -3.78   Active\n",
      "     HD178126   $4630^{+139}_{-77}$  $4465^{+102}_{-66}$          K5V $0.29 \\pm 0.02$                       -4.65 Inactive\n",
      "     HD182488    $5404^{+41}_{-93}$                               K0V $0.17 \\pm 0.01$                       -4.81 Inactive\n",
      "     HD200560    $4963^{+42}_{-85}$  $4465^{+102}_{-66}$        K2.5V $0.61 \\pm 0.03$                       -4.17   Active\n",
      "     HD209290   $3882^{+163}_{-82}$                             M0.5V $1.66 \\pm 0.07$                       -4.21   Active\n",
      "     HD210277    $5535^{+42}_{-48}$                               G8V $0.15 \\pm 0.01$                       -4.94 Inactive\n",
      "     HD220182  $5303^{+106}_{-106}$   $4851^{+13}_{-75}$          G9V $0.45 \\pm 0.02$                       -4.19   Active\n",
      "     HD221639  $5102^{+139}_{-106}$                               K1V $0.15 \\pm 0.01$                       -4.96 Inactive\n",
      "     HD222107  $4637^{+360}_{-274}$  $4465^{+102}_{-66}$        G8IVk $0.55 \\pm 0.02$                       -4.27   Active\n",
      "     HD266611  $4182^{+260}_{-132}$                               K5V $1.44 \\pm 0.06$                        -4.2   Active\n",
      "      HD34411  $5979^{+178}_{-140}$                      G1.5IV-VFe-1 $0.15 \\pm 0.01$                        -4.9 Inactive\n",
      "      HD38230    $5253^{+61}_{-89}$                               K0V $0.16 \\pm 0.01$                       -4.89 Inactive\n",
      "      HD39587    $6028^{+76}_{-81}$   $5560^{+47}_{-49}$          G0V $0.30 \\pm 0.01$                       -4.29   Active\n",
      "      HD41593    $5306^{+28}_{-83}$   $4851^{+13}_{-75}$          K0V $0.44 \\pm 0.02$                       -4.22   Active\n",
      "      HD42250    $5407^{+85}_{-46}$                               G9V $0.16 \\pm 0.01$                       -4.88 Inactive\n",
      "      HD45088    $4786^{+39}_{-36}$  $4465^{+102}_{-66}$         K2Ve $0.91 \\pm 0.04$                       -3.98   Active\n",
      "      HD47752    $4700^{+69}_{-22}$  $4465^{+102}_{-66}$        K3.5V $0.48 \\pm 0.02$                       -4.38   Active\n",
      "      HD50692  $6060^{+235}_{-118}$                               G0V $0.16 \\pm 0.01$                       -4.82 Inactive\n",
      "       HD5857    $4712^{+67}_{-71}$                                G5 $0.11 \\pm 0.01$                       -5.53 Inactive\n",
      "      HD62613    $5560^{+47}_{-49}$                               G8V $0.18 \\pm 0.01$                       -4.76 Inactive\n",
      "       HD6497    $4514^{+82}_{-71}$                          K2III-IV $0.11 \\pm 0.01$                       -5.41 Inactive\n",
      "      HD67767   $5297^{+486}_{-61}$                               G7V $0.19 \\pm 0.01$                       -4.74 Inactive\n",
      "      HD68017   $5749^{+155}_{-90}$                               G3V $0.18 \\pm 0.01$                       -4.73 Inactive\n",
      "      HD73667   $5039^{+98}_{-159}$                               K2V $0.19 \\pm 0.01$                       -4.76 Inactive\n",
      "      HD79555  $4861^{+149}_{-251}$  $4465^{+102}_{-66}$          K4V $0.62 \\pm 0.03$                       -4.23   Active\n",
      "      HD82106    $4749^{+71}_{-40}$  $4465^{+102}_{-66}$          K3V $0.61 \\pm 0.02$                       -4.23   Active\n",
      "      HD86728  $5832^{+251}_{-207}$                         G3VaHdel1 $0.15 \\pm 0.01$                       -4.93 Inactive\n",
      "      HD87884    $5098^{+50}_{-69}$   $4712^{+67}_{-71}$         K0Ve $0.44 \\pm 0.02$                       -4.24   Active\n",
      "      HD88230  $4057^{+174}_{-107}$                          K6VeFe-1 $1.31 \\pm 0.05$                       -4.17   Active\n",
      "      HD89744    $6239^{+23}_{-84}$                               F7V $0.14 \\pm 0.01$                       -5.11 Inactive\n",
      "      HD98230  $6300^{+750}_{-263}$                               G2V $0.26 \\pm 0.01$                       -4.41   Active\n",
      "       HR8832         $0^{+0}_{-0}$                               K3V $0.26 \\pm 0.01$                       -4.65 Inactive\n",
      "   KIC9652680  $5736^{+127}_{-118}$                                -- $0.47 \\pm 0.02$                       -3.92   Active\n",
      "sigmaDraconis                    --                   --          K0V $0.20 \\pm 0.01$                       -4.68 Inactive\n"
     ]
    }
   ],
   "source": [
    "temps_sinds.pprint(max_lines=1000, max_width=1000)"
   ]
  },
  {
   "cell_type": "code",
   "execution_count": 531,
   "metadata": {},
   "outputs": [],
   "source": [
    "temps_sinds.sort('$\\log R^\\prime_\\mathrm{HK}$')\n",
    "temps_sinds.remove_column('Active?')"
   ]
  },
  {
   "cell_type": "code",
   "execution_count": 532,
   "metadata": {},
   "outputs": [],
   "source": [
    "names = list(star_key.keys())\n",
    "comp_stars = Table([names, [\"{0}, {1}\".format(star_key[star][0][0], star_key[star][1][0]) for star in names]], names=['Target', 'Comp.'])"
   ]
  },
  {
   "cell_type": "code",
   "execution_count": 533,
   "metadata": {},
   "outputs": [],
   "source": [
    "fs_table = Table.read('f_S.tex')\n",
    "fs_table['Target'] = [t.replace(' ', '') for t in fs_table['Target'] ]"
   ]
  },
  {
   "cell_type": "code",
   "execution_count": 534,
   "metadata": {},
   "outputs": [],
   "source": [
    "full_table = join(temps_sinds, fs_table, join_type='outer', keys='Target')\n",
    "full_table.sort('$\\log R^\\prime_\\mathrm{HK}$')"
   ]
  },
  {
   "cell_type": "code",
   "execution_count": 535,
   "metadata": {},
   "outputs": [
    {
     "name": "stderr",
     "output_type": "stream",
     "text": [
      "WARNING: AstropyDeprecationWarning: megatable.tex already exists. Automatically overwriting ASCII files is deprecated. Use the argument 'overwrite=True' in the future. [astropy.io.ascii.ui]\n"
     ]
    }
   ],
   "source": [
    "# full_table.remove_row(-1)\n",
    "full_table.write('megatable.tex', format='aastex', caption=\"\\label{tab:megatable}\")"
   ]
  },
  {
   "cell_type": "code",
   "execution_count": 536,
   "metadata": {},
   "outputs": [
    {
     "name": "stdout",
     "output_type": "stream",
     "text": [
      "    Target    $T_\\mathrm{eff,Gaia}$        $T_S$           Sp. Type         $S$       $\\log R^\\prime_\\mathrm{HK}$      $f_S$     \n",
      "------------- --------------------- -------------------- ------------ --------------- --------------------------- ---------------\n",
      "       HD5857    $4712^{+67}_{-71}$                                G5 $0.11 \\pm 0.01$                       -5.53              --\n",
      "        GJ705   $4465^{+102}_{-66}$                                K2 $0.12 \\pm 0.01$                       -5.44              --\n",
      "       HD6497    $4514^{+82}_{-71}$                          K2III-IV $0.11 \\pm 0.01$                       -5.41              --\n",
      "      HD89744    $6239^{+23}_{-84}$                               F7V $0.14 \\pm 0.01$                       -5.11              --\n",
      "     HD145742    $4851^{+13}_{-75}$                                K0 $0.15 \\pm 0.01$                       -5.09              --\n",
      "      HD10697    $5654^{+36}_{-56}$                              G3Va $0.14 \\pm 0.01$                       -5.01              --\n",
      "     HD221639  $5102^{+139}_{-106}$                               K1V $0.15 \\pm 0.01$                       -4.96              --\n",
      "     HD210277    $5535^{+42}_{-48}$                               G8V $0.15 \\pm 0.01$                       -4.94              --\n",
      "     HD145675   $5282^{+251}_{-73}$                               K0V $0.16 \\pm 0.01$                       -4.94              --\n",
      "      HD86728  $5832^{+251}_{-207}$                         G3VaHdel1 $0.15 \\pm 0.01$                       -4.93              --\n",
      "      HD34411  $5979^{+178}_{-140}$                      G1.5IV-VFe-1 $0.15 \\pm 0.01$                        -4.9              --\n",
      "        51Peg   $5830^{+214}_{-55}$                              G2IV $0.15 \\pm 0.01$                        -4.9              --\n",
      "      HD38230    $5253^{+61}_{-89}$                               K0V $0.16 \\pm 0.01$                       -4.89              --\n",
      "      HD42250    $5407^{+85}_{-46}$                               G9V $0.16 \\pm 0.01$                       -4.88              --\n",
      "      HD50692  $6060^{+235}_{-118}$                               G0V $0.16 \\pm 0.01$                       -4.82              --\n",
      "      HD14039    $5072^{+98}_{-73}$                               K1V $0.19 \\pm 0.01$                       -4.81              --\n",
      "     HD182488    $5404^{+41}_{-93}$                               K0V $0.17 \\pm 0.01$                       -4.81              --\n",
      "      HD73667   $5039^{+98}_{-159}$                               K2V $0.19 \\pm 0.01$                       -4.76              --\n",
      "      HD62613    $5560^{+47}_{-49}$                               G8V $0.18 \\pm 0.01$                       -4.76              --\n",
      "      HD67767   $5297^{+486}_{-61}$                               G7V $0.19 \\pm 0.01$                       -4.74              --\n",
      "      HD68017   $5749^{+155}_{-90}$                               G3V $0.18 \\pm 0.01$                       -4.73              --\n",
      "sigmaDraconis                    --                   --          K0V $0.20 \\pm 0.01$                       -4.68              --\n",
      "       GJ4099  $3846^{+181}_{-190}$                            M2.0Ve $0.87 \\pm 0.05$                       -4.67              --\n",
      "       HR8832         $0^{+0}_{-0}$                               K3V $0.26 \\pm 0.01$                       -4.65              --\n",
      "     HD178126   $4630^{+139}_{-77}$  $4465^{+102}_{-66}$          K5V $0.29 \\pm 0.02$                       -4.65 $0.70 \\pm 0.26$\n",
      "     HD110833    $5025^{+50}_{-82}$                               K3V $0.30 \\pm 0.01$                       -4.52              --\n",
      "     HAT-P-11  $4757^{+154}_{-111}$                               K4V $0.53 \\pm 0.02$                       -4.46              --\n",
      "      GJ9781A   $4484^{+95}_{-110}$                                K7 $0.99 \\pm 0.04$                       -4.46              --\n",
      "      HD98230  $6300^{+750}_{-263}$                               G2V $0.26 \\pm 0.01$                       -4.41              --\n",
      "      HD47752    $4700^{+69}_{-22}$  $4465^{+102}_{-66}$        K3.5V $0.48 \\pm 0.02$                       -4.38 $0.26 \\pm 0.19$\n",
      "     HD148467  $4474^{+153}_{-201}$                               K6V $0.69 \\pm 0.03$                       -4.38              --\n",
      "     HD122120  $4469^{+253}_{-144}$                               K5V $0.60 \\pm 0.02$                       -4.37              --\n",
      "     HD149957    $4485^{+37}_{-89}$                               K5V $0.67 \\pm 0.03$                       -4.37              --\n",
      "      HD39587    $6028^{+76}_{-81}$   $5560^{+47}_{-49}$          G0V $0.30 \\pm 0.01$                       -4.29 $0.44 \\pm 0.19$\n",
      "     HD222107  $4637^{+360}_{-274}$  $4465^{+102}_{-66}$        G8IVk $0.55 \\pm 0.02$                       -4.27 $0.75 \\pm 0.18$\n",
      "      HD87884    $5098^{+50}_{-69}$   $4712^{+67}_{-71}$         K0Ve $0.44 \\pm 0.02$                       -4.24 $0.62 \\pm 0.19$\n",
      "      HD82106    $4749^{+71}_{-40}$  $4465^{+102}_{-66}$          K3V $0.61 \\pm 0.02$                       -4.23 $0.35 \\pm 0.21$\n",
      "      HD79555  $4861^{+149}_{-251}$  $4465^{+102}_{-66}$          K4V $0.62 \\pm 0.03$                       -4.23 $0.53 \\pm 0.19$\n",
      "      HD41593    $5306^{+28}_{-83}$   $4851^{+13}_{-75}$          K0V $0.44 \\pm 0.02$                       -4.22 $0.41 \\pm 0.12$\n",
      "     HD209290   $3882^{+163}_{-82}$                             M0.5V $1.66 \\pm 0.07$                       -4.21              --\n",
      "     HD266611  $4182^{+260}_{-132}$                               K5V $1.44 \\pm 0.06$                        -4.2              --\n",
      "     HD220182  $5303^{+106}_{-106}$   $4851^{+13}_{-75}$          G9V $0.45 \\pm 0.02$                       -4.19 $0.25 \\pm 0.11$\n",
      "      HD88230  $4057^{+174}_{-107}$                          K6VeFe-1 $1.31 \\pm 0.05$                       -4.17              --\n",
      "     HD200560    $4963^{+42}_{-85}$  $4465^{+102}_{-66}$        K2.5V $0.61 \\pm 0.03$                       -4.17 $0.43 \\pm 0.19$\n",
      "     HD127506    $4711^{+55}_{-83}$  $4465^{+102}_{-66}$        K3.5V $0.49 \\pm 0.02$                       -4.13 $0.25 \\pm 0.21$\n",
      "     HD134319   $5636^{+100}_{-54}$   $5253^{+61}_{-89}$         G5V: $0.42 \\pm 0.02$                       -4.12 $0.41 \\pm 0.13$\n",
      "     HD113827  $4610^{+459}_{-191}$  $3882^{+163}_{-82}$          K4V $1.03 \\pm 0.04$                        -4.0 $0.27 \\pm 0.08$\n",
      "      HD45088    $4786^{+39}_{-36}$  $4465^{+102}_{-66}$         K2Ve $0.91 \\pm 0.04$                       -3.98 $0.60 \\pm 0.20$\n",
      "   KIC9652680  $5736^{+127}_{-118}$                                -- $0.47 \\pm 0.02$                       -3.92              --\n",
      "        EKDra  $5584^{+115}_{-193}$   $5253^{+61}_{-89}$        G1.5V $0.58 \\pm 0.02$                       -3.91 $0.31 \\pm 0.13$\n",
      "     HD129333  $5584^{+115}_{-193}$                             G1.5V $0.63 \\pm 0.03$                       -3.86              --\n",
      "     HD175742    $4874^{+43}_{-74}$  $4465^{+102}_{-66}$          K0V $1.26 \\pm 0.05$                       -3.78 $0.69 \\pm 0.15$\n",
      "        EQVir   $4433^{+82}_{-106}$ $3846^{+181}_{-190}$         K5Ve $3.00 \\pm 0.12$                       -3.65 $0.18 \\pm 0.05$\n",
      "       GJ702B  $5305^{+341}_{-245}$   $4851^{+13}_{-75}$          K4V $0.84 \\pm 0.04$                       -3.61 $0.38 \\pm 0.13$\n",
      "     HD151288  $4224^{+300}_{-270}$  $3882^{+163}_{-82}$       K7.5Ve $1.27 \\pm 0.05$                       -3.58 $0.23 \\pm 0.08$\n",
      "EPIC211966629   $4922^{+83}_{-270}$ $4182^{+260}_{-132}$           --              --                          -- $0.03 \\pm 0.03$\n",
      "EPIC211928486  $4682^{+149}_{-250}$ $4182^{+260}_{-132}$           --              --                          -- $0.20 \\pm 0.09$\n"
     ]
    }
   ],
   "source": [
    "full_table.pprint(max_lines=1000, max_width=1000)"
   ]
  },
  {
   "cell_type": "code",
   "execution_count": 537,
   "metadata": {},
   "outputs": [
    {
     "name": "stdout",
     "output_type": "stream",
     "text": [
      "\\begin{deluxetable}{ccccccc}\n",
      "\\tablecaption{\\label{tab:megatable}}\n",
      "\\tablehead{\\colhead{Target} & \\colhead{$T_\\mathrm{eff,Gaia}$} & \\colhead{$T_S$} & \\colhead{Sp. Type} & \\colhead{$S$} & \\colhead{$\\log R^\\prime_\\mathrm{HK}$} & \\colhead{$f_S$}}\n",
      "\\startdata\n",
      "HD5857 & $4712^{+67}_{-71}$ &  & G5 & $0.11 \\pm 0.01$ & -5.53 &  \\\\\n",
      "GJ705 & $4465^{+102}_{-66}$ &  & K2 & $0.12 \\pm 0.01$ & -5.44 &  \\\\\n",
      "HD6497 & $4514^{+82}_{-71}$ &  & K2III-IV & $0.11 \\pm 0.01$ & -5.41 &  \\\\\n",
      "HD89744 & $6239^{+23}_{-84}$ &  & F7V & $0.14 \\pm 0.01$ & -5.11 &  \\\\\n",
      "HD145742 & $4851^{+13}_{-75}$ &  & K0 & $0.15 \\pm 0.01$ & -5.09 &  \\\\\n",
      "HD10697 & $5654^{+36}_{-56}$ &  & G3Va & $0.14 \\pm 0.01$ & -5.01 &  \\\\\n",
      "HD221639 & $5102^{+139}_{-106}$ &  & K1V & $0.15 \\pm 0.01$ & -4.96 &  \\\\\n",
      "HD210277 & $5535^{+42}_{-48}$ &  & G8V & $0.15 \\pm 0.01$ & -4.94 &  \\\\\n",
      "HD145675 & $5282^{+251}_{-73}$ &  & K0V & $0.16 \\pm 0.01$ & -4.94 &  \\\\\n",
      "HD86728 & $5832^{+251}_{-207}$ &  & G3VaHdel1 & $0.15 \\pm 0.01$ & -4.93 &  \\\\\n",
      "HD34411 & $5979^{+178}_{-140}$ &  & G1.5IV-VFe-1 & $0.15 \\pm 0.01$ & -4.9 &  \\\\\n",
      "51Peg & $5830^{+214}_{-55}$ &  & G2IV & $0.15 \\pm 0.01$ & -4.9 &  \\\\\n",
      "HD38230 & $5253^{+61}_{-89}$ &  & K0V & $0.16 \\pm 0.01$ & -4.89 &  \\\\\n",
      "HD42250 & $5407^{+85}_{-46}$ &  & G9V & $0.16 \\pm 0.01$ & -4.88 &  \\\\\n",
      "HD50692 & $6060^{+235}_{-118}$ &  & G0V & $0.16 \\pm 0.01$ & -4.82 &  \\\\\n",
      "HD14039 & $5072^{+98}_{-73}$ &  & K1V & $0.19 \\pm 0.01$ & -4.81 &  \\\\\n",
      "HD182488 & $5404^{+41}_{-93}$ &  & K0V & $0.17 \\pm 0.01$ & -4.81 &  \\\\\n",
      "HD73667 & $5039^{+98}_{-159}$ &  & K2V & $0.19 \\pm 0.01$ & -4.76 &  \\\\\n",
      "HD62613 & $5560^{+47}_{-49}$ &  & G8V & $0.18 \\pm 0.01$ & -4.76 &  \\\\\n",
      "HD67767 & $5297^{+486}_{-61}$ &  & G7V & $0.19 \\pm 0.01$ & -4.74 &  \\\\\n",
      "HD68017 & $5749^{+155}_{-90}$ &  & G3V & $0.18 \\pm 0.01$ & -4.73 &  \\\\\n",
      "sigmaDraconis &  &  & K0V & $0.20 \\pm 0.01$ & -4.68 &  \\\\\n",
      "GJ4099 & $3846^{+181}_{-190}$ &  & M2.0Ve & $0.87 \\pm 0.05$ & -4.67 &  \\\\\n",
      "HR8832 & $0^{+0}_{-0}$ &  & K3V & $0.26 \\pm 0.01$ & -4.65 &  \\\\\n",
      "HD178126 & $4630^{+139}_{-77}$ & $4465^{+102}_{-66}$ & K5V & $0.29 \\pm 0.02$ & -4.65 & $0.70 \\pm 0.26$ \\\\\n",
      "HD110833 & $5025^{+50}_{-82}$ &  & K3V & $0.30 \\pm 0.01$ & -4.52 &  \\\\\n",
      "HAT-P-11 & $4757^{+154}_{-111}$ &  & K4V & $0.53 \\pm 0.02$ & -4.46 &  \\\\\n",
      "GJ9781A & $4484^{+95}_{-110}$ &  & K7 & $0.99 \\pm 0.04$ & -4.46 &  \\\\\n",
      "HD98230 & $6300^{+750}_{-263}$ &  & G2V & $0.26 \\pm 0.01$ & -4.41 &  \\\\\n",
      "HD47752 & $4700^{+69}_{-22}$ & $4465^{+102}_{-66}$ & K3.5V & $0.48 \\pm 0.02$ & -4.38 & $0.26 \\pm 0.19$ \\\\\n",
      "HD148467 & $4474^{+153}_{-201}$ &  & K6V & $0.69 \\pm 0.03$ & -4.38 &  \\\\\n",
      "HD122120 & $4469^{+253}_{-144}$ &  & K5V & $0.60 \\pm 0.02$ & -4.37 &  \\\\\n",
      "HD149957 & $4485^{+37}_{-89}$ &  & K5V & $0.67 \\pm 0.03$ & -4.37 &  \\\\\n",
      "HD39587 & $6028^{+76}_{-81}$ & $5560^{+47}_{-49}$ & G0V & $0.30 \\pm 0.01$ & -4.29 & $0.44 \\pm 0.19$ \\\\\n",
      "HD222107 & $4637^{+360}_{-274}$ & $4465^{+102}_{-66}$ & G8IVk & $0.55 \\pm 0.02$ & -4.27 & $0.75 \\pm 0.18$ \\\\\n",
      "HD87884 & $5098^{+50}_{-69}$ & $4712^{+67}_{-71}$ & K0Ve & $0.44 \\pm 0.02$ & -4.24 & $0.62 \\pm 0.19$ \\\\\n",
      "HD82106 & $4749^{+71}_{-40}$ & $4465^{+102}_{-66}$ & K3V & $0.61 \\pm 0.02$ & -4.23 & $0.35 \\pm 0.21$ \\\\\n",
      "HD79555 & $4861^{+149}_{-251}$ & $4465^{+102}_{-66}$ & K4V & $0.62 \\pm 0.03$ & -4.23 & $0.53 \\pm 0.19$ \\\\\n",
      "HD41593 & $5306^{+28}_{-83}$ & $4851^{+13}_{-75}$ & K0V & $0.44 \\pm 0.02$ & -4.22 & $0.41 \\pm 0.12$ \\\\\n",
      "HD209290 & $3882^{+163}_{-82}$ &  & M0.5V & $1.66 \\pm 0.07$ & -4.21 &  \\\\\n",
      "HD266611 & $4182^{+260}_{-132}$ &  & K5V & $1.44 \\pm 0.06$ & -4.2 &  \\\\\n",
      "HD220182 & $5303^{+106}_{-106}$ & $4851^{+13}_{-75}$ & G9V & $0.45 \\pm 0.02$ & -4.19 & $0.25 \\pm 0.11$ \\\\\n",
      "HD88230 & $4057^{+174}_{-107}$ &  & K6VeFe-1 & $1.31 \\pm 0.05$ & -4.17 &  \\\\\n",
      "HD200560 & $4963^{+42}_{-85}$ & $4465^{+102}_{-66}$ & K2.5V & $0.61 \\pm 0.03$ & -4.17 & $0.43 \\pm 0.19$ \\\\\n",
      "HD127506 & $4711^{+55}_{-83}$ & $4465^{+102}_{-66}$ & K3.5V & $0.49 \\pm 0.02$ & -4.13 & $0.25 \\pm 0.21$ \\\\\n",
      "HD134319 & $5636^{+100}_{-54}$ & $5253^{+61}_{-89}$ & G5V: & $0.42 \\pm 0.02$ & -4.12 & $0.41 \\pm 0.13$ \\\\\n",
      "HD113827 & $4610^{+459}_{-191}$ & $3882^{+163}_{-82}$ & K4V & $1.03 \\pm 0.04$ & -4.0 & $0.27 \\pm 0.08$ \\\\\n",
      "HD45088 & $4786^{+39}_{-36}$ & $4465^{+102}_{-66}$ & K2Ve & $0.91 \\pm 0.04$ & -3.98 & $0.60 \\pm 0.20$ \\\\\n",
      "KIC9652680 & $5736^{+127}_{-118}$ &  &  & $0.47 \\pm 0.02$ & -3.92 &  \\\\\n",
      "EKDra & $5584^{+115}_{-193}$ & $5253^{+61}_{-89}$ & G1.5V & $0.58 \\pm 0.02$ & -3.91 & $0.31 \\pm 0.13$ \\\\\n",
      "HD129333 & $5584^{+115}_{-193}$ &  & G1.5V & $0.63 \\pm 0.03$ & -3.86 &  \\\\\n",
      "HD175742 & $4874^{+43}_{-74}$ & $4465^{+102}_{-66}$ & K0V & $1.26 \\pm 0.05$ & -3.78 & $0.69 \\pm 0.15$ \\\\\n",
      "EQVir & $4433^{+82}_{-106}$ & $3846^{+181}_{-190}$ & K5Ve & $3.00 \\pm 0.12$ & -3.65 & $0.18 \\pm 0.05$ \\\\\n",
      "GJ702B & $5305^{+341}_{-245}$ & $4851^{+13}_{-75}$ & K4V & $0.84 \\pm 0.04$ & -3.61 & $0.38 \\pm 0.13$ \\\\\n",
      "HD151288 & $4224^{+300}_{-270}$ & $3882^{+163}_{-82}$ & K7.5Ve & $1.27 \\pm 0.05$ & -3.58 & $0.23 \\pm 0.08$ \\\\\n",
      "EPIC211966629 & $4922^{+83}_{-270}$ & $4182^{+260}_{-132}$ &  &  &  & $0.03 \\pm 0.03$ \\\\\n",
      "EPIC211928486 & $4682^{+149}_{-250}$ & $4182^{+260}_{-132}$ &  &  &  & $0.20 \\pm 0.09$\n",
      "\\enddata\n",
      "\\end{deluxetable}\n"
     ]
    }
   ],
   "source": [
    "!cat megatable.tex"
   ]
  },
  {
   "cell_type": "code",
   "execution_count": null,
   "metadata": {},
   "outputs": [],
   "source": []
  }
 ],
 "metadata": {
  "kernelspec": {
   "display_name": "Python 3",
   "language": "python",
   "name": "python3"
  },
  "language_info": {
   "codemirror_mode": {
    "name": "ipython",
    "version": 3
   },
   "file_extension": ".py",
   "mimetype": "text/x-python",
   "name": "python",
   "nbconvert_exporter": "python",
   "pygments_lexer": "ipython3",
   "version": "3.5.4"
  }
 },
 "nbformat": 4,
 "nbformat_minor": 2
}
