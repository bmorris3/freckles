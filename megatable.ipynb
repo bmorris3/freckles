{
 "cells": [
  {
   "cell_type": "markdown",
   "metadata": {},
   "source": [
    "# Run this after running `plot_results.ipynb`"
   ]
  },
  {
   "cell_type": "code",
   "execution_count": 674,
   "metadata": {},
   "outputs": [],
   "source": [
    "from astropy.io import ascii\n",
    "from astropy.table import Table"
   ]
  },
  {
   "cell_type": "code",
   "execution_count": 675,
   "metadata": {},
   "outputs": [],
   "source": [
    "charli = Table.read('charli.csv', format='ascii')\n",
    "charli.rename_column('Star', 'Target')\n",
    "\n",
    "charli.rename_column('Teff', '$T_\\mathrm{eff, MOOG}$')\n",
    "charli.remove_columns(['N lines Fe I', 'N lines Fe II', 'Trends Plot', 'Notes', 'micro', 'log g', '[Fe I/H]', '[Fe II/H]'])\n",
    "\n",
    "#charli['[Fe I/H]'] = [\"${0}$\".format(s.replace('+/-', '\\pm')) if hasattr(s, 'replace') else np.nan for s in charli['[Fe I/H]']]\n",
    "#charli['[Fe II/H]'] = [\"${0}$\".format(s.replace('+/-', '\\pm')) if hasattr(s, 'replace') else np.nan for s in charli['[Fe I/H]']]"
   ]
  },
  {
   "cell_type": "code",
   "execution_count": 676,
   "metadata": {},
   "outputs": [
    {
     "data": {
      "text/html": [
       "&lt;Table masked=True length=50&gt;\n",
       "<table id=\"table4672262888\" class=\"table-striped table-bordered table-condensed\">\n",
       "<thead><tr><th>Target</th><th>$T_\\mathrm{eff, MOOG}$</th></tr></thead>\n",
       "<thead><tr><th>str13</th><th>int64</th></tr></thead>\n",
       "<tr><td>51Peg</td><td>5500</td></tr>\n",
       "<tr><td>GJ702B</td><td>4385</td></tr>\n",
       "<tr><td>GJ9781A</td><td>4500</td></tr>\n",
       "<tr><td>HATP11</td><td>4790</td></tr>\n",
       "<tr><td>HD10697</td><td>5070</td></tr>\n",
       "<tr><td>HD110833</td><td>5130</td></tr>\n",
       "<tr><td>HD113827</td><td>4510</td></tr>\n",
       "<tr><td>HD122120</td><td>4960</td></tr>\n",
       "<tr><td>HD127506</td><td>4955</td></tr>\n",
       "<tr><td>HD129333</td><td>5490</td></tr>\n",
       "<tr><td>...</td><td>...</td></tr>\n",
       "<tr><td>HD87884</td><td>--</td></tr>\n",
       "<tr><td>HD88230</td><td>--</td></tr>\n",
       "<tr><td>HD89744</td><td>6070</td></tr>\n",
       "<tr><td>HD98230</td><td>--</td></tr>\n",
       "<tr><td>KIC9652680</td><td>--</td></tr>\n",
       "<tr><td>sigmaDraconis</td><td>--</td></tr>\n",
       "<tr><td>GJ4099</td><td>--</td></tr>\n",
       "<tr><td>HD14039</td><td>--</td></tr>\n",
       "<tr><td>HD149957</td><td>--</td></tr>\n",
       "<tr><td>HR8832</td><td>--</td></tr>\n",
       "</table>"
      ],
      "text/plain": [
       "<Table masked=True length=50>\n",
       "    Target    $T_\\mathrm{eff, MOOG}$\n",
       "    str13             int64         \n",
       "------------- ----------------------\n",
       "        51Peg                   5500\n",
       "       GJ702B                   4385\n",
       "      GJ9781A                   4500\n",
       "       HATP11                   4790\n",
       "      HD10697                   5070\n",
       "     HD110833                   5130\n",
       "     HD113827                   4510\n",
       "     HD122120                   4960\n",
       "     HD127506                   4955\n",
       "     HD129333                   5490\n",
       "          ...                    ...\n",
       "      HD87884                     --\n",
       "      HD88230                     --\n",
       "      HD89744                   6070\n",
       "      HD98230                     --\n",
       "   KIC9652680                     --\n",
       "sigmaDraconis                     --\n",
       "       GJ4099                     --\n",
       "      HD14039                     --\n",
       "     HD149957                     --\n",
       "       HR8832                     --"
      ]
     },
     "execution_count": 676,
     "metadata": {},
     "output_type": "execute_result"
    }
   ],
   "source": [
    "charli"
   ]
  },
  {
   "cell_type": "code",
   "execution_count": 677,
   "metadata": {},
   "outputs": [],
   "source": [
    "# jason = Table.read('/Users/bmmorris/Dropbox/Apps/ShareLaTeX/freckles/jc-notes/Teff-SME.txt', \n",
    "#                    comment='#', delimiter=' ', format='ascii.fixed_width_no_header', \n",
    "#                    names=['Target', 'N', 'Number', '$T_\\mathrm{eff, SME}$', 'T_eff_sme_err', '$\\log g$', '$Z$', '$v \\sin i$'])\n",
    "# jason.remove_columns(['N', 'Number', 'T_eff_sme_err'])\n",
    "# jason['Target'] = [i if i != 'sigDra' else 'sigmaDraconis' for i in jason['Target']]"
   ]
  },
  {
   "cell_type": "code",
   "execution_count": 794,
   "metadata": {},
   "outputs": [],
   "source": [
    "# jason = Table.read('/Users/bmmorris/Dropbox/Apps/ShareLaTeX/freckles/jc-notes/Teff-SME-p.txt', \n",
    "#                    comment='#', delimiter=' ', format='ascii.fixed_width_no_header', \n",
    "#                    names=['Target', 'N', 'Number', '$T_\\mathrm{eff, SME}$', 'XX', 'T_eff_sme_err', '$\\log g$', '$Z$', '$v \\sin i$'])\n",
    "# jason.remove_columns(['N', 'Number', 'T_eff_sme_err'])\n",
    "# jason['Target'] = [i if i != 'sigDra' else 'sigmaDraconis' for i in jason['Target']]\n",
    "\n",
    "rows = []\n",
    "f = open('/Users/bmmorris/Dropbox/Apps/ShareLaTeX/freckles/jc-notes/Teff-SME-p.txt').read().splitlines()\n",
    "\n",
    "for line in f: \n",
    "    if not line.startswith('#'):\n",
    "        if len(line.split()) == 9:\n",
    "            star, n0, n1, teff, std, tefferr, logg, z, vsini = line.split()\n",
    "            row = [star if star != 'sigDra' else 'sigmaDraconis', \n",
    "                   \"${0:.0f} \\pm {1:.0f}$\".format(float(teff), float(tefferr)), logg, z, vsini]\n",
    "            rows.append(row)\n",
    "            \n",
    "jason = Table(rows=rows, names=['Target', '$T_\\mathrm{eff, SME}$','$\\log g$', '$Z$', '$v \\sin i$'])"
   ]
  },
  {
   "cell_type": "code",
   "execution_count": 795,
   "metadata": {},
   "outputs": [],
   "source": [
    "from json import load\n",
    "\n",
    "star_key = load(open('stars.json'))\n",
    "\n",
    "spot_stars = Table(rows=[[star, star_key[star][1][0]] for star in star_key], names=['Target', 'Spot'])"
   ]
  },
  {
   "cell_type": "code",
   "execution_count": 796,
   "metadata": {},
   "outputs": [],
   "source": [
    "data_start = 3\n",
    "gaia = ascii.read('temperatures/gaia2.tsv', #names='Target,Gmag,Teff_Gaia,Teff_Gaia_lower,Teff_Gaia_upper'.split(','), \n",
    "                  data_start=data_start, delimiter='\\t')\n",
    "# spocs2005 = ascii.read('temperatures/spocs2005_temps.tsv', names='Target, Teff_spocs2005'.split(', '), \n",
    "#                        data_start=data_start, delimiter='\\t')\n",
    "# spocs2016 = ascii.read('temperatures/spocs2016_temps.tsv', names='Target, Teff_spocs2016'.split(', '), \n",
    "#                        data_start=data_start, delimiter='\\t')"
   ]
  },
  {
   "cell_type": "code",
   "execution_count": 797,
   "metadata": {},
   "outputs": [],
   "source": [
    "gb = gaia.group_by('_1')"
   ]
  },
  {
   "cell_type": "code",
   "execution_count": 798,
   "metadata": {},
   "outputs": [],
   "source": [
    "from astropy.table import vstack\n",
    "import numpy as np\n",
    "\n",
    "gaia_dedup = Table(gb.groups[0])\n",
    "\n",
    "for i in np.arange(1, len(gb.groups)): \n",
    "    group = gb.groups[i]\n",
    "    gaia_dedup.add_row(group[np.argmin(group['Gmag'])])\n",
    "    #gaia_dedeup = vstack([gaia_dedup, group[np.argmin(group['Gmag'])]], join_type='inner')"
   ]
  },
  {
   "cell_type": "code",
   "execution_count": 799,
   "metadata": {},
   "outputs": [
    {
     "data": {
      "text/plain": [
       "0.0032202484376209236"
      ]
     },
     "execution_count": 799,
     "metadata": {},
     "output_type": "execute_result"
    }
   ],
   "source": [
    "# %matplotlib inline\n",
    "# import matplotlib.pyplot as plt\n",
    "np.median(np.sqrt(gaia_dedup['e_BPmag']**2 + gaia_dedup['e_RPmag']**2))"
   ]
  },
  {
   "cell_type": "code",
   "execution_count": 800,
   "metadata": {},
   "outputs": [],
   "source": [
    "remove_cols = ['_r', 'RA_ICRS', 'e_RA_ICRS', 'DE_ICRS', 'e_DE_ICRS', 'Source', 'Plx', 'e_Plx', \n",
    "               'pmRA', 'e_pmRA', 'pmDE', 'e_pmDE', 'Dup', 'FG', 'e_FG', 'Gmag', 'e_Gmag', 'FBP', \n",
    "               'e_FBP', 'BPmag', 'e_BPmag', 'FRP', 'e_FRP', 'RPmag', 'e_RPmag', 'RV',  # 'BP-RP', \n",
    "               'e_RV', 'AG', 'E(BP-RP)', 'Rad', 'Lum', 'DR2Name', 'SolID', 'RandomI', 'Epoch', \n",
    "               'RPlx', 'RADEcor', 'RAPlxcor', 'RApmRAcor', 'RApmDEcor', 'DEPlxcor', 'DEpmRAcor', \n",
    "               'DEpmDEcor', 'PlxpmRAcor', 'PlxpmDEcor', 'pmRApmDEcor', 'NAL', 'NAC', 'NgAL', \n",
    "               'NbAL', 'gofAL', 'chi2AL', 'epsi', 'sepsi', 'Solved', 'APF', 'WAL', 'pscol', \n",
    "               'e_pscol', 'fvarpi', 'MatchObsA', 'Nper', 'amax', 'type', 'MatchObs', 'o_Gmag', \n",
    "               'RFG', 'o_BPmag', 'RFBP', 'o_RPmag', 'RFRP', 'E(BR/RP)', 'Mode', 'BP-G', 'G-RP', \n",
    "               'o_RV', 'Tefftemp', 'loggtemp', '[Fe/H]temp', 'Var', 'GLON', 'GLAT', 'ELON', 'ELAT', \n",
    "               'fPriam', 'b_AG', 'B_AG', 'b_E(BP-RP)', 'B_E(BP-RP)', 'fFLAME', 'b_Rad', 'B_Rad', \n",
    "               'b_Lum', 'B_Lum', 'RAJ2000', 'e_RAJ2000', 'DEJ2000', 'e_DEJ2000']\n",
    "# 'Teff', 'b_Teff', 'B_Teff', \n",
    "\n",
    "gaia_dedup.remove_columns(remove_cols)"
   ]
  },
  {
   "cell_type": "code",
   "execution_count": 801,
   "metadata": {},
   "outputs": [],
   "source": [
    "gaia_dedup.rename_column('_1', 'Target')"
   ]
  },
  {
   "cell_type": "code",
   "execution_count": 802,
   "metadata": {},
   "outputs": [],
   "source": [
    "gaia_dedup.rename_column('b_Teff', 'Teff_Gaia_lower')\n",
    "gaia_dedup.rename_column('B_Teff', 'Teff_Gaia_upper')\n",
    "gaia_dedup.rename_column('Teff', 'Teff_Gaia')"
   ]
  },
  {
   "cell_type": "code",
   "execution_count": 803,
   "metadata": {},
   "outputs": [],
   "source": [
    "import numpy as np\n",
    "gaia_teffs = [gaia_dedup['Teff_Gaia'], \n",
    "              gaia_dedup['Teff_Gaia']-gaia_dedup['Teff_Gaia_lower'], \n",
    "              gaia_dedup['Teff_Gaia_upper']-gaia_dedup['Teff_Gaia']]\n",
    "\n",
    "gaia_formatted = []\n",
    "for mid, lower, upper in Table(gaia_teffs, names=['Mid', 'Lower', 'Upper']):\n",
    "    if isinstance(mid, float):\n",
    "        gaia_formatted.append('${0:.0f}^{{+{1:.0f}}}_{{-{2:.0f}}}$'.format(mid, upper, lower))\n",
    "    else: \n",
    "        gaia_formatted.append('')"
   ]
  },
  {
   "cell_type": "code",
   "execution_count": 804,
   "metadata": {},
   "outputs": [],
   "source": [
    "from astropy.table import Column, join\n",
    "gaia_dedup.remove_columns(['Teff_Gaia', 'Teff_Gaia_lower', 'Teff_Gaia_upper'])\n",
    "gaia_dedup.add_column(Column(gaia_formatted, '$T_\\mathrm{eff,Gaia}$'))\n",
    "gaia_dedup['Target'] = [s.strip().replace(' ', '').replace('-', '') for s in list(gaia_dedup['Target'])]"
   ]
  },
  {
   "cell_type": "code",
   "execution_count": 805,
   "metadata": {},
   "outputs": [],
   "source": [
    "gaia_spot = join(gaia_dedup, spot_stars, join_type='outer')\n",
    "\n",
    "gaia_spot.add_index('Target')\n",
    "\n",
    "spot_temps = []\n",
    "for s in gaia_spot['Spot']:\n",
    "    if isinstance(s, str) and s in gaia_spot['Target']:\n",
    "        spot_temps.append(gaia_spot.loc[s]['$T_\\mathrm{eff,Gaia}$'])\n",
    "    else: \n",
    "        spot_temps.append(\"\")\n",
    "        \n",
    "gaia_spot.add_column(Column(spot_temps, '$T_S$'))\n",
    "gaia_spot.remove_column('Spot')"
   ]
  },
  {
   "cell_type": "code",
   "execution_count": 806,
   "metadata": {},
   "outputs": [],
   "source": [
    "gaia_spot = join(gaia_spot, jason, keys='Target', join_type='outer')\n",
    "\n",
    "gaia_spot = join(gaia_spot, charli, keys='Target', join_type='outer')"
   ]
  },
  {
   "cell_type": "code",
   "execution_count": 807,
   "metadata": {},
   "outputs": [
    {
     "data": {
      "text/plain": [
       "['Target',\n",
       " 'BP-RP',\n",
       " '$T_\\\\mathrm{eff,Gaia}$',\n",
       " '$T_S$',\n",
       " '$T_\\\\mathrm{eff, SME}$',\n",
       " '$\\\\log g$',\n",
       " '$Z$',\n",
       " '$v \\\\sin i$',\n",
       " '$T_\\\\mathrm{eff, MOOG}$']"
      ]
     },
     "execution_count": 807,
     "metadata": {},
     "output_type": "execute_result"
    }
   ],
   "source": [
    "gaia_spot.colnames"
   ]
  },
  {
   "cell_type": "code",
   "execution_count": 808,
   "metadata": {},
   "outputs": [],
   "source": [
    "col_order = ['Target', 'BP-RP', '$T_\\\\mathrm{eff,Gaia}$', '$T_\\\\mathrm{eff, SME}$', '$T_\\\\mathrm{eff, MOOG}$', '$\\\\log g$', '$Z$', '$v \\\\sin i$', '$T_S$']\n",
    "gaia_spot = gaia_spot[col_order]"
   ]
  },
  {
   "cell_type": "code",
   "execution_count": 809,
   "metadata": {},
   "outputs": [],
   "source": [
    "# import sys\n",
    "# gaia_spot.write(sys.stdout, format='latex')"
   ]
  },
  {
   "cell_type": "code",
   "execution_count": 810,
   "metadata": {},
   "outputs": [],
   "source": [
    "sinds = Table.read('/Users/bmmorris/git/arces_hk/freckles.tex')\n",
    "sinds.sort('Target')"
   ]
  },
  {
   "cell_type": "code",
   "execution_count": 811,
   "metadata": {},
   "outputs": [],
   "source": [
    "sinds['Target'] = [s.strip().replace(' ', '').replace('-', '') for s in sinds['Target']]"
   ]
  },
  {
   "cell_type": "code",
   "execution_count": 812,
   "metadata": {},
   "outputs": [
    {
     "name": "stdout",
     "output_type": "stream",
     "text": [
      "    Target      Sp. Type         $S$       $\\log R^\\prime_\\mathrm{HK}$ Active? \n",
      "------------- ------------ --------------- --------------------------- --------\n",
      "        51Peg         G2IV $0.15 \\pm 0.01$            $-4.90 \\pm 0.05$ Inactive\n",
      "        EKDra        G1.5V $0.58 \\pm 0.02$            $-3.91 \\pm 0.02$   Active\n",
      "        EQVir         K5Ve $3.00 \\pm 0.12$            $-3.65 \\pm 0.02$   Active\n",
      "       GJ4099       M2.0Ve $0.87 \\pm 0.05$            $-4.67 \\pm 0.02$ Inactive\n",
      "       GJ702B          K4V $0.84 \\pm 0.04$            $-3.61 \\pm 0.02$   Active\n",
      "        GJ705           K2 $0.12 \\pm 0.01$            $-5.44 \\pm 0.04$ Inactive\n",
      "      GJ9781A           K7 $0.99 \\pm 0.04$            $-4.46 \\pm 0.02$   Active\n",
      "       HATP11          K4V $0.53 \\pm 0.02$            $-4.46 \\pm 0.02$   Active\n",
      "      HD10697         G3Va $0.14 \\pm 0.01$            $-5.01 \\pm 0.06$ Inactive\n",
      "     HD110833          K3V $0.30 \\pm 0.01$            $-4.52 \\pm 0.02$ Inactive\n",
      "     HD113827          K4V $1.03 \\pm 0.04$            $-4.00 \\pm 0.02$   Active\n",
      "     HD122120          K5V $0.60 \\pm 0.02$            $-4.37 \\pm 0.02$   Active\n",
      "     HD127506        K3.5V $0.49 \\pm 0.02$            $-4.13 \\pm 0.02$   Active\n",
      "     HD129333        G1.5V $0.63 \\pm 0.03$            $-3.86 \\pm 0.02$   Active\n",
      "     HD134319         G5V: $0.42 \\pm 0.02$            $-4.12 \\pm 0.02$   Active\n",
      "      HD14039          K1V $0.19 \\pm 0.01$            $-4.81 \\pm 0.03$ Inactive\n",
      "     HD145675          K0V $0.16 \\pm 0.01$            $-4.94 \\pm 0.04$ Inactive\n",
      "     HD145742           K0 $0.15 \\pm 0.01$            $-5.09 \\pm 0.06$ Inactive\n",
      "     HD148467          K6V $0.69 \\pm 0.03$            $-4.38 \\pm 0.02$   Active\n",
      "     HD149957          K5V $0.67 \\pm 0.03$            $-4.37 \\pm 0.02$   Active\n",
      "     HD151288       K7.5Ve $1.27 \\pm 0.05$            $-3.58 \\pm 0.02$   Active\n",
      "     HD175742          K0V $1.26 \\pm 0.05$            $-3.78 \\pm 0.02$   Active\n",
      "     HD178126          K5V $0.29 \\pm 0.02$            $-4.65 \\pm 0.04$ Inactive\n",
      "     HD182488          K0V $0.17 \\pm 0.01$            $-4.81 \\pm 0.04$ Inactive\n",
      "     HD200560        K2.5V $0.61 \\pm 0.03$            $-4.17 \\pm 0.02$   Active\n",
      "     HD209290        M0.5V $1.66 \\pm 0.07$            $-4.21 \\pm 0.02$   Active\n",
      "     HD210277          G8V $0.15 \\pm 0.01$            $-4.94 \\pm 0.05$ Inactive\n",
      "     HD220182          G9V $0.45 \\pm 0.02$            $-4.19 \\pm 0.02$   Active\n",
      "     HD221639          K1V $0.15 \\pm 0.01$            $-4.96 \\pm 0.04$ Inactive\n",
      "     HD222107        G8IVk $0.55 \\pm 0.02$            $-4.27 \\pm 0.02$   Active\n",
      "     HD266611          K5V $1.44 \\pm 0.06$            $-4.20 \\pm 0.02$   Active\n",
      "      HD34411 G1.5IV-VFe-1 $0.15 \\pm 0.01$            $-4.90 \\pm 0.06$ Inactive\n",
      "      HD38230          K0V $0.16 \\pm 0.01$            $-4.89 \\pm 0.04$ Inactive\n",
      "      HD39587          G0V $0.30 \\pm 0.01$            $-4.29 \\pm 0.03$   Active\n",
      "      HD41593          K0V $0.44 \\pm 0.02$            $-4.22 \\pm 0.02$   Active\n",
      "      HD42250          G9V $0.16 \\pm 0.01$            $-4.88 \\pm 0.04$ Inactive\n",
      "      HD45088         K2Ve $0.91 \\pm 0.04$            $-3.98 \\pm 0.02$   Active\n",
      "      HD47752        K3.5V $0.48 \\pm 0.02$            $-4.38 \\pm 0.02$   Active\n",
      "      HD50692          G0V $0.16 \\pm 0.01$            $-4.82 \\pm 0.05$ Inactive\n",
      "       HD5857           G5 $0.11 \\pm 0.01$            $-5.53 \\pm 0.21$ Inactive\n",
      "      HD62613          G8V $0.18 \\pm 0.01$            $-4.76 \\pm 0.04$ Inactive\n",
      "       HD6497     K2III-IV $0.11 \\pm 0.01$            $-5.41 \\pm 0.04$ Inactive\n",
      "      HD67767          G7V $0.19 \\pm 0.01$            $-4.74 \\pm 0.03$ Inactive\n",
      "      HD68017          G3V $0.18 \\pm 0.01$            $-4.73 \\pm 0.04$ Inactive\n",
      "      HD73667          K2V $0.19 \\pm 0.01$            $-4.76 \\pm 0.03$ Inactive\n",
      "      HD79555          K4V $0.62 \\pm 0.03$            $-4.23 \\pm 0.02$   Active\n",
      "      HD82106          K3V $0.61 \\pm 0.02$            $-4.23 \\pm 0.02$   Active\n",
      "      HD86728    G3VaHdel1 $0.15 \\pm 0.01$            $-4.93 \\pm 0.06$ Inactive\n",
      "      HD87884         K0Ve $0.44 \\pm 0.02$            $-4.24 \\pm 0.02$   Active\n",
      "      HD88230     K6VeFe-1 $1.31 \\pm 0.05$            $-4.17 \\pm 0.02$   Active\n",
      "      HD89744          F7V $0.14 \\pm 0.01$            $-5.11 \\pm 0.10$ Inactive\n",
      "      HD98230          G2V $0.26 \\pm 0.01$            $-4.41 \\pm 0.03$   Active\n",
      "       HR8832          K3V $0.26 \\pm 0.01$            $-4.65 \\pm 0.03$ Inactive\n",
      "   KIC9652680           -- $0.47 \\pm 0.02$            $-3.92 \\pm 0.03$   Active\n",
      "sigmaDraconis          K0V $0.20 \\pm 0.01$            $-4.68 \\pm 0.03$ Inactive\n"
     ]
    }
   ],
   "source": [
    "sinds.pprint(max_lines=1000)"
   ]
  },
  {
   "cell_type": "code",
   "execution_count": 813,
   "metadata": {},
   "outputs": [],
   "source": [
    "from astropy.table import hstack\n",
    "\n",
    "temps_sinds = join(gaia_spot, sinds, join_type='outer', keys='Target')"
   ]
  },
  {
   "cell_type": "code",
   "execution_count": 814,
   "metadata": {},
   "outputs": [
    {
     "name": "stdout",
     "output_type": "stream",
     "text": [
      "    Target     BP-RP  $T_\\mathrm{eff,Gaia}$ $T_\\mathrm{eff, SME}$ $T_\\mathrm{eff, MOOG}$ $\\log g$  $Z$  $v \\sin i$        $T_S$           Sp. Type         $S$       $\\log R^\\prime_\\mathrm{HK}$ Active? \n",
      "------------- ------- --------------------- --------------------- ---------------------- -------- ----- ---------- -------------------- ------------ --------------- --------------------------- --------\n",
      "        51Peg   0.817   $5830^{+214}_{-55}$         $5804 \\pm 26$                   5500     4.39  0.24        1.1 $3846^{+181}_{-190}$         G2IV $0.15 \\pm 0.01$            $-4.90 \\pm 0.05$ Inactive\n",
      "        EKDra   0.875  $5584^{+115}_{-193}$                    --                     --       --    --         --   $5253^{+61}_{-89}$        G1.5V $0.58 \\pm 0.02$            $-3.91 \\pm 0.02$   Active\n",
      "EPIC211928486  1.4171  $4682^{+149}_{-250}$                    --                     --       --    --         -- $4182^{+260}_{-132}$           --              --                          --       --\n",
      "EPIC211966629  1.3657   $4922^{+83}_{-270}$                    --                     --       --    --         -- $4182^{+260}_{-132}$           --              --                          --       --\n",
      "        EQVir   1.496   $4433^{+82}_{-106}$         $4519 \\pm 90$                     --     4.82 -0.18        9.6 $3846^{+181}_{-190}$         K5Ve $3.00 \\pm 0.12$            $-3.65 \\pm 0.02$   Active\n",
      "       GJ4099  2.1969  $3846^{+181}_{-190}$         $3722 \\pm 76$                     --     4.60 -0.15       ****                            M2.0Ve $0.87 \\pm 0.05$            $-4.67 \\pm 0.02$ Inactive\n",
      "       GJ702B     1.0  $5305^{+341}_{-245}$         $4483 \\pm 43$                   4385     4.85 -0.15        0.7   $4851^{+13}_{-75}$          K4V $0.84 \\pm 0.04$            $-3.61 \\pm 0.02$   Active\n",
      "        GJ705  1.4388   $4465^{+102}_{-66}$         $4510 \\pm 48$                     --     2.84  0.07        3.6                                K2 $0.12 \\pm 0.01$            $-5.44 \\pm 0.04$ Inactive\n",
      "      GJ9781A  1.4343   $4484^{+95}_{-110}$         $4525 \\pm 56$                   4500     4.90 -0.21        0.1 $3846^{+181}_{-190}$           K7 $0.99 \\pm 0.04$            $-4.46 \\pm 0.02$   Active\n",
      "       HATP11  1.2787  $4757^{+154}_{-111}$         $4820 \\pm -1$                   4790     4.81  0.20        0.1                               K4V $0.53 \\pm 0.02$            $-4.46 \\pm 0.02$   Active\n",
      "      HD10697  0.8701    $5654^{+36}_{-56}$         $5654 \\pm 27$                   5070     4.11  0.13        1.2                              G3Va $0.14 \\pm 0.01$            $-5.01 \\pm 0.06$ Inactive\n",
      "     HD110833   1.128    $5025^{+50}_{-82}$         $5004 \\pm 10$                   5130     4.62  0.06        0.7  $4465^{+102}_{-66}$          K3V $0.30 \\pm 0.01$            $-4.52 \\pm 0.02$ Inactive\n",
      "     HD113827  1.4537  $4610^{+459}_{-191}$         $4360 \\pm 25$                   4510     5.01 -0.39        0.1 $3846^{+181}_{-190}$          K4V $1.03 \\pm 0.04$            $-4.00 \\pm 0.02$   Active\n",
      "     HD122120  1.4146  $4469^{+253}_{-144}$         $4572 \\pm 12$                   4960     4.91 -0.12        0.9                               K5V $0.60 \\pm 0.02$            $-4.37 \\pm 0.02$   Active\n",
      "     HD127506  1.2794    $4711^{+55}_{-83}$         $4626 \\pm 42$                   4955     4.70 -0.40        0.6  $4465^{+102}_{-66}$        K3.5V $0.49 \\pm 0.02$            $-4.13 \\pm 0.02$   Active\n",
      "     HD129333   0.875  $5584^{+115}_{-193}$         $5729 \\pm 19$                   5490     4.44  0.05       17.0                             G1.5V $0.63 \\pm 0.03$            $-3.86 \\pm 0.02$   Active\n",
      "     HD134319  0.8469   $5636^{+100}_{-54}$         $5739 \\pm 34$                   5640     4.56 -0.02       10.9   $5253^{+61}_{-89}$         G5V: $0.42 \\pm 0.02$            $-4.12 \\pm 0.02$   Active\n",
      "      HD14039  1.0963    $5072^{+98}_{-73}$             $0 \\pm 0$                     --     0.00  0.00        0.0   $4712^{+67}_{-71}$          K1V $0.19 \\pm 0.01$            $-4.81 \\pm 0.03$ Inactive\n",
      "     HD145675  1.0049   $5282^{+251}_{-73}$         $5300 \\pm 14$                     --     4.45  0.37        0.1                               K0V $0.16 \\pm 0.01$            $-4.94 \\pm 0.04$ Inactive\n",
      "     HD145742  1.1996    $4851^{+13}_{-75}$         $4801 \\pm 27$                     --     2.83 -0.04        3.7                                K0 $0.15 \\pm 0.01$            $-5.09 \\pm 0.06$ Inactive\n",
      "     HD148467  1.5221  $4474^{+153}_{-201}$         $4253 \\pm 30$                   4500     4.85 -0.32        2.1 $3846^{+181}_{-190}$          K6V $0.69 \\pm 0.03$            $-4.38 \\pm 0.02$   Active\n",
      "     HD149957  1.4601    $4485^{+37}_{-89}$        $4492 \\pm 113$                     --     5.07 -0.07        3.4                               K5V $0.67 \\pm 0.03$            $-4.37 \\pm 0.02$   Active\n",
      "     HD151288  1.7053  $4224^{+300}_{-270}$         $4217 \\pm 58$                   4395     5.25 -0.14        1.1  $3882^{+163}_{-82}$       K7.5Ve $1.27 \\pm 0.05$            $-3.58 \\pm 0.02$   Active\n",
      "     HD175742   1.213    $4874^{+43}_{-74}$         $4980 \\pm 36$                   4930     4.40 -0.09       14.7  $4465^{+102}_{-66}$          K0V $1.26 \\pm 0.05$            $-3.78 \\pm 0.02$   Active\n",
      "     HD178126  1.3625   $4630^{+139}_{-77}$             $0 \\pm 0$                     --     0.00  0.00        0.0                               K5V $0.29 \\pm 0.02$            $-4.65 \\pm 0.04$ Inactive\n",
      "     HD182488  0.9621    $5404^{+41}_{-93}$         $5367 \\pm 13$                   5060     4.50  0.14        0.1                               K0V $0.17 \\pm 0.01$            $-4.81 \\pm 0.04$ Inactive\n",
      "     HD200560  1.1492    $4963^{+42}_{-85}$         $5034 \\pm 22$                   4800     4.39  0.08        0.1  $4465^{+102}_{-66}$        K2.5V $0.61 \\pm 0.03$            $-4.17 \\pm 0.02$   Active\n",
      "     HD209290  1.9714   $3882^{+163}_{-82}$        $3871 \\pm 100$                   4020     4.91 -0.54        0.1                             M0.5V $1.66 \\pm 0.07$            $-4.21 \\pm 0.02$   Active\n",
      "     HD210277   0.918    $5535^{+42}_{-48}$         $5524 \\pm 29$                   5175     4.46  0.22        0.3                               G8V $0.15 \\pm 0.01$            $-4.94 \\pm 0.05$ Inactive\n",
      "     HD220182  0.9794  $5303^{+106}_{-106}$         $5350 \\pm 21$                   5090     4.50  0.00        0.1   $4851^{+13}_{-75}$          G9V $0.45 \\pm 0.02$            $-4.19 \\pm 0.02$   Active\n",
      "     HD221639  1.0866  $5102^{+139}_{-106}$         $5091 \\pm 13$                   4900     3.76  0.14        0.1                               K1V $0.15 \\pm 0.01$            $-4.96 \\pm 0.04$ Inactive\n",
      "     HD222107  1.3037  $4637^{+360}_{-274}$          $4693 \\pm 8$                   4590     3.08 -0.41        7.8                             G8IVk $0.55 \\pm 0.02$            $-4.27 \\pm 0.02$   Active\n",
      "     HD266611  1.7415  $4182^{+260}_{-132}$         $4125 \\pm 29$                   4500     5.22 -0.26        0.1                               K5V $1.44 \\pm 0.06$            $-4.20 \\pm 0.02$   Active\n",
      "      HD34411   0.785  $5979^{+178}_{-140}$          $5909 \\pm 9$                   5420     4.32  0.11        0.1                      G1.5IV-VFe-1 $0.15 \\pm 0.01$            $-4.90 \\pm 0.06$ Inactive\n",
      "      HD38230  1.0214    $5253^{+61}_{-89}$          $5077 \\pm 9$                   5130     4.40 -0.16        0.1                               K0V $0.16 \\pm 0.01$            $-4.89 \\pm 0.04$ Inactive\n",
      "      HD39587  0.7691    $6028^{+76}_{-81}$         $6039 \\pm 16$                     --     4.60 -0.00        8.8   $5560^{+47}_{-49}$          G0V $0.30 \\pm 0.01$            $-4.29 \\pm 0.03$   Active\n",
      "      HD41593  0.9916    $5306^{+28}_{-83}$         $5340 \\pm 24$                     --     4.63 -0.01        2.4   $4851^{+13}_{-75}$          K0V $0.44 \\pm 0.02$            $-4.22 \\pm 0.02$   Active\n",
      "      HD42250  0.9487    $5407^{+85}_{-46}$         $5344 \\pm 20$                   5160     4.48 -0.05        0.1                               G9V $0.16 \\pm 0.01$            $-4.88 \\pm 0.04$ Inactive\n",
      "      HD45088  1.2134    $4786^{+39}_{-36}$             $0 \\pm 0$                     --     0.00  0.00        0.0  $4465^{+102}_{-66}$         K2Ve $0.91 \\pm 0.04$            $-3.98 \\pm 0.02$   Active\n",
      "      HD47752  1.2662    $4700^{+69}_{-22}$         $4639 \\pm 18$                     --     4.71 -0.28        0.1  $4465^{+102}_{-66}$        K3.5V $0.48 \\pm 0.02$            $-4.38 \\pm 0.02$   Active\n",
      "      HD50692  0.7631  $6060^{+235}_{-118}$          $5919 \\pm 5$                   5540     4.46 -0.16        0.1                               G0V $0.16 \\pm 0.01$            $-4.82 \\pm 0.05$ Inactive\n",
      "       HD5857  1.2549    $4712^{+67}_{-71}$         $4676 \\pm 44$                     --     2.85 -0.23        3.2                                G5 $0.11 \\pm 0.01$            $-5.53 \\pm 0.21$ Inactive\n",
      "      HD62613  0.9037    $5560^{+47}_{-49}$          $5489 \\pm 8$                     --     4.52 -0.12        0.1 $5102^{+139}_{-106}$          G8V $0.18 \\pm 0.01$            $-4.76 \\pm 0.04$ Inactive\n",
      "       HD6497  1.3428    $4514^{+82}_{-71}$         $4505 \\pm 90$                     --     2.80  0.03        1.8                          K2III-IV $0.11 \\pm 0.01$            $-5.41 \\pm 0.04$ Inactive\n",
      "      HD67767  0.9891   $5297^{+486}_{-61}$         $5263 \\pm 19$                     --     3.81 -0.10        0.1                               G7V $0.19 \\pm 0.01$            $-4.74 \\pm 0.03$ Inactive\n",
      "      HD68017  0.8587   $5749^{+155}_{-90}$         $5620 \\pm 61$                   5490     4.74 -0.37        0.1 $5102^{+139}_{-106}$          G3V $0.18 \\pm 0.01$            $-4.73 \\pm 0.04$ Inactive\n",
      "      HD73667  1.0636   $5039^{+98}_{-159}$         $4800 \\pm 29$                   4950     4.38 -0.68        0.1  $4465^{+102}_{-66}$          K2V $0.19 \\pm 0.01$            $-4.76 \\pm 0.03$ Inactive\n",
      "      HD79555  1.3148  $4861^{+149}_{-251}$         $4744 \\pm 29$                     --     4.74 -0.19        0.1  $4465^{+102}_{-66}$          K4V $0.62 \\pm 0.03$            $-4.23 \\pm 0.02$   Active\n",
      "      HD82106   1.214    $4749^{+71}_{-40}$         $4726 \\pm 70$                     --     4.45 -0.06        0.4  $4465^{+102}_{-66}$          K3V $0.61 \\pm 0.02$            $-4.23 \\pm 0.02$   Active\n",
      "      HD86728  0.8329  $5832^{+251}_{-207}$         $5809 \\pm 20$                   5510     4.44  0.24        0.3                         G3VaHdel1 $0.15 \\pm 0.01$            $-4.93 \\pm 0.06$ Inactive\n",
      "      HD87884  1.0725    $5098^{+50}_{-69}$         $5047 \\pm 20$                     --     4.63 -0.25        2.5   $4712^{+67}_{-71}$         K0Ve $0.44 \\pm 0.02$            $-4.24 \\pm 0.02$   Active\n",
      "      HD88230  1.7162  $4057^{+174}_{-107}$         $4250 \\pm 94$                     --     5.23 -0.20        0.1                          K6VeFe-1 $1.31 \\pm 0.05$            $-4.17 \\pm 0.02$   Active\n",
      "      HD89744  0.6919    $6239^{+23}_{-84}$         $6254 \\pm 30$                   6070     4.04  0.26        9.3                               F7V $0.14 \\pm 0.01$            $-5.11 \\pm 0.10$ Inactive\n",
      "      HD98230 -1.3619  $6300^{+750}_{-263}$         $5920 \\pm 32$                     --     4.56 -0.26       10.7                               G2V $0.26 \\pm 0.01$            $-4.41 \\pm 0.03$   Active\n",
      "       HR8832  1.6811         $0^{+0}_{-0}$         $4828 \\pm 15$                     --     4.63  0.03        0.2                               K3V $0.26 \\pm 0.01$            $-4.65 \\pm 0.03$ Inactive\n",
      "   KIC9652680  0.8016  $5736^{+127}_{-118}$                    --                     --       --    --         --                                -- $0.47 \\pm 0.02$            $-3.92 \\pm 0.03$   Active\n",
      "sigmaDraconis   0.983  $5450^{+474}_{-314}$          $5215 \\pm 9$                     --     4.58 -0.28        0.1 $3846^{+181}_{-190}$          K0V $0.20 \\pm 0.01$            $-4.68 \\pm 0.03$ Inactive\n"
     ]
    }
   ],
   "source": [
    "temps_sinds.pprint(max_lines=1000, max_width=1000)"
   ]
  },
  {
   "cell_type": "code",
   "execution_count": 815,
   "metadata": {},
   "outputs": [],
   "source": [
    "temps_sinds.sort('$\\log R^\\prime_\\mathrm{HK}$')\n",
    "temps_sinds.remove_column('Active?')"
   ]
  },
  {
   "cell_type": "code",
   "execution_count": 816,
   "metadata": {},
   "outputs": [],
   "source": [
    "# names = list(star_key.keys())\n",
    "# comp_stars = Table([names, [\"{0}, {1}\".format(star_key[star][0][0], star_key[star][1][0]) for star in names]], names=['Target', 'Comp.'])"
   ]
  },
  {
   "cell_type": "code",
   "execution_count": 817,
   "metadata": {},
   "outputs": [],
   "source": [
    "fs_table = Table.read('f_S.tex')\n",
    "fs_table['Target'] = [t.strip().replace(' ', '').replace('-', '') for t in fs_table['Target']]"
   ]
  },
  {
   "cell_type": "code",
   "execution_count": 818,
   "metadata": {},
   "outputs": [],
   "source": [
    "full_table = join(temps_sinds, fs_table, join_type='outer', keys='Target')\n",
    "full_table.sort('$\\log R^\\prime_\\mathrm{HK}$')"
   ]
  },
  {
   "cell_type": "code",
   "execution_count": 819,
   "metadata": {},
   "outputs": [],
   "source": [
    "col_order = ['Target', 'Sp. Type', 'BP-RP', '$T_\\\\mathrm{eff,Gaia}$', '$T_\\\\mathrm{eff, SME}$', '$T_\\\\mathrm{eff, MOOG}$', '$\\\\log g$', '$Z$', '$v \\\\sin i$',\n",
    "             '$S$', '$\\\\log R^\\\\prime_\\\\mathrm{HK}$', '$f_S$'] # '$T_S$', \n",
    "full_table = full_table[col_order]"
   ]
  },
  {
   "cell_type": "code",
   "execution_count": 820,
   "metadata": {},
   "outputs": [],
   "source": [
    "full_table.add_index('Target')\n",
    "\n",
    "# Remove SB 2\n",
    "# row = full_table.loc['HD45088']\n",
    "# full_table.remove_row(row.index)\n",
    "\n",
    "for star in ['EPIC211928486', 'EPIC211966629', 'KIC9652680']:\n",
    "    row = full_table.loc[star]\n",
    "    full_table.remove_row(row.index)"
   ]
  },
  {
   "cell_type": "code",
   "execution_count": 821,
   "metadata": {},
   "outputs": [],
   "source": [
    "# full_table.remove_row(-1)\n",
    "# full_table.write('megatable.tex', format='aastex', caption=\"\\label{tab:megatable}\", latexdict = {'tabletype': 'deluxetable*'})\n",
    "full_table.write('/Users/bmmorris/Dropbox/Apps/ShareLaTeX/freckles/megatable.tex', format='aastex', \n",
    "                 caption=\"\\label{tab:megatable}\", latexdict = {'tabletype': 'deluxetable*', \n",
    "                                                               'col_align': 'lcc|ccc|ccc|cc|cc'}, \n",
    "                 overwrite=True)"
   ]
  },
  {
   "cell_type": "code",
   "execution_count": 822,
   "metadata": {},
   "outputs": [
    {
     "name": "stdout",
     "output_type": "stream",
     "text": [
      "    Target      Sp. Type   ... $\\log R^\\prime_\\mathrm{HK}$      $f_S$     \n",
      "------------- ------------ ... --------------------------- ---------------\n",
      "     HD151288       K7.5Ve ...            $-3.58 \\pm 0.02$ $0.28 \\pm 0.06$\n",
      "       GJ702B          K4V ...            $-3.61 \\pm 0.02$ $0.45 \\pm 0.06$\n",
      "        EQVir         K5Ve ...            $-3.65 \\pm 0.02$              --\n",
      "     HD175742          K0V ...            $-3.78 \\pm 0.02$ $0.54 \\pm 0.13$\n",
      "     HD129333        G1.5V ...            $-3.86 \\pm 0.02$              --\n",
      "        EKDra        G1.5V ...            $-3.91 \\pm 0.02$              --\n",
      "      HD45088         K2Ve ...            $-3.98 \\pm 0.02$ $0.52 \\pm 0.14$\n",
      "     HD113827          K4V ...            $-4.00 \\pm 0.02$ $0.15 \\pm 0.06$\n",
      "     HD134319         G5V: ...            $-4.12 \\pm 0.02$ $0.41 \\pm 0.06$\n",
      "     HD127506        K3.5V ...            $-4.13 \\pm 0.02$ $0.47 \\pm 0.15$\n",
      "     HD200560        K2.5V ...            $-4.17 \\pm 0.02$ $0.01 \\pm 0.06$\n",
      "      HD88230     K6VeFe-1 ...            $-4.17 \\pm 0.02$              --\n",
      "     HD220182          G9V ...            $-4.19 \\pm 0.02$ $0.33 \\pm 0.06$\n",
      "     HD266611          K5V ...            $-4.20 \\pm 0.02$              --\n",
      "     HD209290        M0.5V ...            $-4.21 \\pm 0.02$              --\n",
      "      HD41593          K0V ...            $-4.22 \\pm 0.02$ $0.33 \\pm 0.06$\n",
      "      HD82106          K3V ...            $-4.23 \\pm 0.02$ $0.01 \\pm 0.06$\n",
      "      HD79555          K4V ...            $-4.23 \\pm 0.02$ $0.01 \\pm 0.06$\n",
      "      HD87884         K0Ve ...            $-4.24 \\pm 0.02$ $0.22 \\pm 0.30$\n",
      "     HD222107        G8IVk ...            $-4.27 \\pm 0.02$              --\n",
      "      HD39587          G0V ...            $-4.29 \\pm 0.03$ $0.05 \\pm 0.07$\n",
      "     HD149957          K5V ...            $-4.37 \\pm 0.02$              --\n",
      "     HD122120          K5V ...            $-4.37 \\pm 0.02$              --\n",
      "      HD47752        K3.5V ...            $-4.38 \\pm 0.02$ $0.05 \\pm 0.10$\n",
      "     HD148467          K6V ...            $-4.38 \\pm 0.02$ $0.17 \\pm 0.06$\n",
      "      HD98230          G2V ...            $-4.41 \\pm 0.03$              --\n",
      "      GJ9781A           K7 ...            $-4.46 \\pm 0.02$ $0.15 \\pm 0.06$\n",
      "       HATP11          K4V ...            $-4.46 \\pm 0.02$              --\n",
      "     HD110833          K3V ...            $-4.52 \\pm 0.02$ $0.00 \\pm 0.06$\n",
      "       HR8832          K3V ...            $-4.65 \\pm 0.03$              --\n",
      "     HD178126          K5V ...            $-4.65 \\pm 0.04$              --\n",
      "       GJ4099       M2.0Ve ...            $-4.67 \\pm 0.02$              --\n",
      "sigmaDraconis          K0V ...            $-4.68 \\pm 0.03$ $0.16 \\pm 0.06$\n",
      "      HD68017          G3V ...            $-4.73 \\pm 0.04$ $0.01 \\pm 0.06$\n",
      "      HD67767          G7V ...            $-4.74 \\pm 0.03$              --\n",
      "      HD73667          K2V ...            $-4.76 \\pm 0.03$ $0.00 \\pm 0.06$\n",
      "      HD62613          G8V ...            $-4.76 \\pm 0.04$ $0.15 \\pm 0.07$\n",
      "      HD14039          K1V ...            $-4.81 \\pm 0.03$ $0.12 \\pm 0.23$\n",
      "     HD182488          K0V ...            $-4.81 \\pm 0.04$              --\n",
      "      HD50692          G0V ...            $-4.82 \\pm 0.05$              --\n",
      "      HD42250          G9V ...            $-4.88 \\pm 0.04$              --\n",
      "      HD38230          K0V ...            $-4.89 \\pm 0.04$              --\n",
      "        51Peg         G2IV ...            $-4.90 \\pm 0.05$ $0.07 \\pm 0.06$\n",
      "      HD34411 G1.5IV-VFe-1 ...            $-4.90 \\pm 0.06$              --\n",
      "      HD86728    G3VaHdel1 ...            $-4.93 \\pm 0.06$              --\n",
      "     HD145675          K0V ...            $-4.94 \\pm 0.04$              --\n",
      "     HD210277          G8V ...            $-4.94 \\pm 0.05$              --\n",
      "     HD221639          K1V ...            $-4.96 \\pm 0.04$              --\n",
      "      HD10697         G3Va ...            $-5.01 \\pm 0.06$              --\n",
      "     HD145742           K0 ...            $-5.09 \\pm 0.06$              --\n",
      "      HD89744          F7V ...            $-5.11 \\pm 0.10$              --\n",
      "       HD6497     K2III-IV ...            $-5.41 \\pm 0.04$              --\n",
      "        GJ705           K2 ...            $-5.44 \\pm 0.04$              --\n",
      "       HD5857           G5 ...            $-5.53 \\pm 0.21$              --\n"
     ]
    }
   ],
   "source": [
    "full_table.pprint(max_lines=1000)"
   ]
  },
  {
   "cell_type": "code",
   "execution_count": 823,
   "metadata": {},
   "outputs": [
    {
     "name": "stdout",
     "output_type": "stream",
     "text": [
      "\\begin{deluxetable*}{lcc|ccc|ccc|cc|cc}\n",
      "\\tablecaption{\\label{tab:megatable}}\n",
      "\\tablehead{\\colhead{Target} & \\colhead{Sp. Type} & \\colhead{BP-RP} & \\colhead{$T_\\mathrm{eff,Gaia}$} & \\colhead{$T_\\mathrm{eff, SME}$} & \\colhead{$T_\\mathrm{eff, MOOG}$} & \\colhead{$\\log g$} & \\colhead{$Z$} & \\colhead{$v \\sin i$} & \\colhead{$S$} & \\colhead{$\\log R^\\prime_\\mathrm{HK}$} & \\colhead{$f_S$}}\n",
      "\\startdata\n",
      "HD151288 & K7.5Ve & 1.7053 & $4224^{+300}_{-270}$ & $4217 \\pm 58$ & 4395 & 5.25 & -0.14 & 1.1 & $1.27 \\pm 0.05$ & $-3.58 \\pm 0.02$ & $0.28 \\pm 0.06$ \\\\\n",
      "GJ702B & K4V & 1.0 & $5305^{+341}_{-245}$ & $4483 \\pm 43$ & 4385 & 4.85 & -0.15 & 0.7 & $0.84 \\pm 0.04$ & $-3.61 \\pm 0.02$ & $0.45 \\pm 0.06$ \\\\\n",
      "EQVir & K5Ve & 1.496 & $4433^{+82}_{-106}$ & $4519 \\pm 90$ &  & 4.82 & -0.18 & 9.6 & $3.00 \\pm 0.12$ & $-3.65 \\pm 0.02$ &  \\\\\n",
      "HD175742 & K0V & 1.213 & $4874^{+43}_{-74}$ & $4980 \\pm 36$ & 4930 & 4.40 & -0.09 & 14.7 & $1.26 \\pm 0.05$ & $-3.78 \\pm 0.02$ & $0.54 \\pm 0.13$ \\\\\n",
      "HD129333 & G1.5V & 0.875 & $5584^{+115}_{-193}$ & $5729 \\pm 19$ & 5490 & 4.44 & 0.05 & 17.0 & $0.63 \\pm 0.03$ & $-3.86 \\pm 0.02$ &  \\\\\n",
      "EKDra & G1.5V & 0.875 & $5584^{+115}_{-193}$ &  &  &  &  &  & $0.58 \\pm 0.02$ & $-3.91 \\pm 0.02$ &  \\\\\n",
      "HD45088 & K2Ve & 1.2134 & $4786^{+39}_{-36}$ & $0 \\pm 0$ &  & 0.00 & 0.00 & 0.0 & $0.91 \\pm 0.04$ & $-3.98 \\pm 0.02$ & $0.52 \\pm 0.14$ \\\\\n",
      "HD113827 & K4V & 1.4537 & $4610^{+459}_{-191}$ & $4360 \\pm 25$ & 4510 & 5.01 & -0.39 & 0.1 & $1.03 \\pm 0.04$ & $-4.00 \\pm 0.02$ & $0.15 \\pm 0.06$ \\\\\n",
      "HD134319 & G5V: & 0.8469 & $5636^{+100}_{-54}$ & $5739 \\pm 34$ & 5640 & 4.56 & -0.02 & 10.9 & $0.42 \\pm 0.02$ & $-4.12 \\pm 0.02$ & $0.41 \\pm 0.06$ \\\\\n",
      "HD127506 & K3.5V & 1.2794 & $4711^{+55}_{-83}$ & $4626 \\pm 42$ & 4955 & 4.70 & -0.40 & 0.6 & $0.49 \\pm 0.02$ & $-4.13 \\pm 0.02$ & $0.47 \\pm 0.15$ \\\\\n",
      "HD200560 & K2.5V & 1.1492 & $4963^{+42}_{-85}$ & $5034 \\pm 22$ & 4800 & 4.39 & 0.08 & 0.1 & $0.61 \\pm 0.03$ & $-4.17 \\pm 0.02$ & $0.01 \\pm 0.06$ \\\\\n",
      "HD88230 & K6VeFe-1 & 1.7162 & $4057^{+174}_{-107}$ & $4250 \\pm 94$ &  & 5.23 & -0.20 & 0.1 & $1.31 \\pm 0.05$ & $-4.17 \\pm 0.02$ &  \\\\\n",
      "HD220182 & G9V & 0.9794 & $5303^{+106}_{-106}$ & $5350 \\pm 21$ & 5090 & 4.50 & 0.00 & 0.1 & $0.45 \\pm 0.02$ & $-4.19 \\pm 0.02$ & $0.33 \\pm 0.06$ \\\\\n",
      "HD266611 & K5V & 1.7415 & $4182^{+260}_{-132}$ & $4125 \\pm 29$ & 4500 & 5.22 & -0.26 & 0.1 & $1.44 \\pm 0.06$ & $-4.20 \\pm 0.02$ &  \\\\\n",
      "HD209290 & M0.5V & 1.9714 & $3882^{+163}_{-82}$ & $3871 \\pm 100$ & 4020 & 4.91 & -0.54 & 0.1 & $1.66 \\pm 0.07$ & $-4.21 \\pm 0.02$ &  \\\\\n",
      "HD41593 & K0V & 0.9916 & $5306^{+28}_{-83}$ & $5340 \\pm 24$ &  & 4.63 & -0.01 & 2.4 & $0.44 \\pm 0.02$ & $-4.22 \\pm 0.02$ & $0.33 \\pm 0.06$ \\\\\n",
      "HD82106 & K3V & 1.214 & $4749^{+71}_{-40}$ & $4726 \\pm 70$ &  & 4.45 & -0.06 & 0.4 & $0.61 \\pm 0.02$ & $-4.23 \\pm 0.02$ & $0.01 \\pm 0.06$ \\\\\n",
      "HD79555 & K4V & 1.3148 & $4861^{+149}_{-251}$ & $4744 \\pm 29$ &  & 4.74 & -0.19 & 0.1 & $0.62 \\pm 0.03$ & $-4.23 \\pm 0.02$ & $0.01 \\pm 0.06$ \\\\\n",
      "HD87884 & K0Ve & 1.0725 & $5098^{+50}_{-69}$ & $5047 \\pm 20$ &  & 4.63 & -0.25 & 2.5 & $0.44 \\pm 0.02$ & $-4.24 \\pm 0.02$ & $0.22 \\pm 0.30$ \\\\\n",
      "HD222107 & G8IVk & 1.3037 & $4637^{+360}_{-274}$ & $4693 \\pm 8$ & 4590 & 3.08 & -0.41 & 7.8 & $0.55 \\pm 0.02$ & $-4.27 \\pm 0.02$ &  \\\\\n",
      "HD39587 & G0V & 0.7691 & $6028^{+76}_{-81}$ & $6039 \\pm 16$ &  & 4.60 & -0.00 & 8.8 & $0.30 \\pm 0.01$ & $-4.29 \\pm 0.03$ & $0.05 \\pm 0.07$ \\\\\n",
      "HD149957 & K5V & 1.4601 & $4485^{+37}_{-89}$ & $4492 \\pm 113$ &  & 5.07 & -0.07 & 3.4 & $0.67 \\pm 0.03$ & $-4.37 \\pm 0.02$ &  \\\\\n",
      "HD122120 & K5V & 1.4146 & $4469^{+253}_{-144}$ & $4572 \\pm 12$ & 4960 & 4.91 & -0.12 & 0.9 & $0.60 \\pm 0.02$ & $-4.37 \\pm 0.02$ &  \\\\\n",
      "HD47752 & K3.5V & 1.2662 & $4700^{+69}_{-22}$ & $4639 \\pm 18$ &  & 4.71 & -0.28 & 0.1 & $0.48 \\pm 0.02$ & $-4.38 \\pm 0.02$ & $0.05 \\pm 0.10$ \\\\\n",
      "HD148467 & K6V & 1.5221 & $4474^{+153}_{-201}$ & $4253 \\pm 30$ & 4500 & 4.85 & -0.32 & 2.1 & $0.69 \\pm 0.03$ & $-4.38 \\pm 0.02$ & $0.17 \\pm 0.06$ \\\\\n",
      "HD98230 & G2V & -1.3619 & $6300^{+750}_{-263}$ & $5920 \\pm 32$ &  & 4.56 & -0.26 & 10.7 & $0.26 \\pm 0.01$ & $-4.41 \\pm 0.03$ &  \\\\\n",
      "GJ9781A & K7 & 1.4343 & $4484^{+95}_{-110}$ & $4525 \\pm 56$ & 4500 & 4.90 & -0.21 & 0.1 & $0.99 \\pm 0.04$ & $-4.46 \\pm 0.02$ & $0.15 \\pm 0.06$ \\\\\n",
      "HATP11 & K4V & 1.2787 & $4757^{+154}_{-111}$ & $4820 \\pm -1$ & 4790 & 4.81 & 0.20 & 0.1 & $0.53 \\pm 0.02$ & $-4.46 \\pm 0.02$ &  \\\\\n",
      "HD110833 & K3V & 1.128 & $5025^{+50}_{-82}$ & $5004 \\pm 10$ & 5130 & 4.62 & 0.06 & 0.7 & $0.30 \\pm 0.01$ & $-4.52 \\pm 0.02$ & $0.00 \\pm 0.06$ \\\\\n",
      "HR8832 & K3V & 1.6811 & $0^{+0}_{-0}$ & $4828 \\pm 15$ &  & 4.63 & 0.03 & 0.2 & $0.26 \\pm 0.01$ & $-4.65 \\pm 0.03$ &  \\\\\n",
      "HD178126 & K5V & 1.3625 & $4630^{+139}_{-77}$ & $0 \\pm 0$ &  & 0.00 & 0.00 & 0.0 & $0.29 \\pm 0.02$ & $-4.65 \\pm 0.04$ &  \\\\\n",
      "GJ4099 & M2.0Ve & 2.1969 & $3846^{+181}_{-190}$ & $3722 \\pm 76$ &  & 4.60 & -0.15 & **** & $0.87 \\pm 0.05$ & $-4.67 \\pm 0.02$ &  \\\\\n",
      "sigmaDraconis & K0V & 0.983 & $5450^{+474}_{-314}$ & $5215 \\pm 9$ &  & 4.58 & -0.28 & 0.1 & $0.20 \\pm 0.01$ & $-4.68 \\pm 0.03$ & $0.16 \\pm 0.06$ \\\\\n",
      "HD68017 & G3V & 0.8587 & $5749^{+155}_{-90}$ & $5620 \\pm 61$ & 5490 & 4.74 & -0.37 & 0.1 & $0.18 \\pm 0.01$ & $-4.73 \\pm 0.04$ & $0.01 \\pm 0.06$ \\\\\n",
      "HD67767 & G7V & 0.9891 & $5297^{+486}_{-61}$ & $5263 \\pm 19$ &  & 3.81 & -0.10 & 0.1 & $0.19 \\pm 0.01$ & $-4.74 \\pm 0.03$ &  \\\\\n",
      "HD73667 & K2V & 1.0636 & $5039^{+98}_{-159}$ & $4800 \\pm 29$ & 4950 & 4.38 & -0.68 & 0.1 & $0.19 \\pm 0.01$ & $-4.76 \\pm 0.03$ & $0.00 \\pm 0.06$ \\\\\n",
      "HD62613 & G8V & 0.9037 & $5560^{+47}_{-49}$ & $5489 \\pm 8$ &  & 4.52 & -0.12 & 0.1 & $0.18 \\pm 0.01$ & $-4.76 \\pm 0.04$ & $0.15 \\pm 0.07$ \\\\\n",
      "HD14039 & K1V & 1.0963 & $5072^{+98}_{-73}$ & $0 \\pm 0$ &  & 0.00 & 0.00 & 0.0 & $0.19 \\pm 0.01$ & $-4.81 \\pm 0.03$ & $0.12 \\pm 0.23$ \\\\\n",
      "HD182488 & K0V & 0.9621 & $5404^{+41}_{-93}$ & $5367 \\pm 13$ & 5060 & 4.50 & 0.14 & 0.1 & $0.17 \\pm 0.01$ & $-4.81 \\pm 0.04$ &  \\\\\n",
      "HD50692 & G0V & 0.7631 & $6060^{+235}_{-118}$ & $5919 \\pm 5$ & 5540 & 4.46 & -0.16 & 0.1 & $0.16 \\pm 0.01$ & $-4.82 \\pm 0.05$ &  \\\\\n",
      "HD42250 & G9V & 0.9487 & $5407^{+85}_{-46}$ & $5344 \\pm 20$ & 5160 & 4.48 & -0.05 & 0.1 & $0.16 \\pm 0.01$ & $-4.88 \\pm 0.04$ &  \\\\\n",
      "HD38230 & K0V & 1.0214 & $5253^{+61}_{-89}$ & $5077 \\pm 9$ & 5130 & 4.40 & -0.16 & 0.1 & $0.16 \\pm 0.01$ & $-4.89 \\pm 0.04$ &  \\\\\n",
      "51Peg & G2IV & 0.817 & $5830^{+214}_{-55}$ & $5804 \\pm 26$ & 5500 & 4.39 & 0.24 & 1.1 & $0.15 \\pm 0.01$ & $-4.90 \\pm 0.05$ & $0.07 \\pm 0.06$ \\\\\n",
      "HD34411 & G1.5IV-VFe-1 & 0.785 & $5979^{+178}_{-140}$ & $5909 \\pm 9$ & 5420 & 4.32 & 0.11 & 0.1 & $0.15 \\pm 0.01$ & $-4.90 \\pm 0.06$ &  \\\\\n",
      "HD86728 & G3VaHdel1 & 0.8329 & $5832^{+251}_{-207}$ & $5809 \\pm 20$ & 5510 & 4.44 & 0.24 & 0.3 & $0.15 \\pm 0.01$ & $-4.93 \\pm 0.06$ &  \\\\\n",
      "HD145675 & K0V & 1.0049 & $5282^{+251}_{-73}$ & $5300 \\pm 14$ &  & 4.45 & 0.37 & 0.1 & $0.16 \\pm 0.01$ & $-4.94 \\pm 0.04$ &  \\\\\n",
      "HD210277 & G8V & 0.918 & $5535^{+42}_{-48}$ & $5524 \\pm 29$ & 5175 & 4.46 & 0.22 & 0.3 & $0.15 \\pm 0.01$ & $-4.94 \\pm 0.05$ &  \\\\\n",
      "HD221639 & K1V & 1.0866 & $5102^{+139}_{-106}$ & $5091 \\pm 13$ & 4900 & 3.76 & 0.14 & 0.1 & $0.15 \\pm 0.01$ & $-4.96 \\pm 0.04$ &  \\\\\n",
      "HD10697 & G3Va & 0.8701 & $5654^{+36}_{-56}$ & $5654 \\pm 27$ & 5070 & 4.11 & 0.13 & 1.2 & $0.14 \\pm 0.01$ & $-5.01 \\pm 0.06$ &  \\\\\n",
      "HD145742 & K0 & 1.1996 & $4851^{+13}_{-75}$ & $4801 \\pm 27$ &  & 2.83 & -0.04 & 3.7 & $0.15 \\pm 0.01$ & $-5.09 \\pm 0.06$ &  \\\\\n",
      "HD89744 & F7V & 0.6919 & $6239^{+23}_{-84}$ & $6254 \\pm 30$ & 6070 & 4.04 & 0.26 & 9.3 & $0.14 \\pm 0.01$ & $-5.11 \\pm 0.10$ &  \\\\\n",
      "HD6497 & K2III-IV & 1.3428 & $4514^{+82}_{-71}$ & $4505 \\pm 90$ &  & 2.80 & 0.03 & 1.8 & $0.11 \\pm 0.01$ & $-5.41 \\pm 0.04$ &  \\\\\n",
      "GJ705 & K2 & 1.4388 & $4465^{+102}_{-66}$ & $4510 \\pm 48$ &  & 2.84 & 0.07 & 3.6 & $0.12 \\pm 0.01$ & $-5.44 \\pm 0.04$ &  \\\\\n",
      "HD5857 & G5 & 1.2549 & $4712^{+67}_{-71}$ & $4676 \\pm 44$ &  & 2.85 & -0.23 & 3.2 & $0.11 \\pm 0.01$ & $-5.53 \\pm 0.21$ &\n",
      "\\enddata\n",
      "\\end{deluxetable*}\n"
     ]
    }
   ],
   "source": [
    "!cat /Users/bmmorris/Dropbox/Apps/ShareLaTeX/freckles/megatable.tex"
   ]
  },
  {
   "cell_type": "code",
   "execution_count": 824,
   "metadata": {},
   "outputs": [],
   "source": [
    "from astropy.table import Row\n",
    "\n",
    "rows = []\n",
    "counter = -1\n",
    "for star in full_table['Target']:\n",
    "    if star == 'HD129333': \n",
    "        pass\n",
    "       # star = 'sigmaDraconis'\n",
    "    \n",
    "    if (not star in ['KIC9652680'] and star in star_key) or star in ['HATP11']:\n",
    "        counter += 1 \n",
    "        if not star == 'HATP11':\n",
    "            target_temp = full_table.loc[star]['$T_\\mathrm{eff,Gaia}$']\n",
    "            comp1_name = star_key[star][0][0]\n",
    "            comp1_temp = full_table.loc[comp1_name]['$T_\\mathrm{eff,Gaia}$']\n",
    "            comp2_name = star_key[star][1][0]\n",
    "            comp2_temp = full_table.loc[comp2_name]['$T_\\mathrm{eff,Gaia}$']\n",
    "        else: \n",
    "            target_temp = full_table.loc[star]['$T_\\mathrm{eff,Gaia}$']\n",
    "            comp1_name = \"HD5857\"\n",
    "            comp1_temp = full_table.loc[comp1_name]['$T_\\mathrm{eff,Gaia}$']\n",
    "            comp2_name = \"GJ705\"\n",
    "            comp2_temp = full_table.loc[comp2_name]['$T_\\mathrm{eff,Gaia}$']\n",
    "            \n",
    "\n",
    "        delta_t = float(comp1_temp.split('^')[0][1:]) - float(comp2_temp.split('^')[0][1:])\n",
    "        \n",
    "        rows.append([star, target_temp, comp1_name, comp1_temp, comp2_name, comp2_temp, int(delta_t)])\n",
    "\n",
    "comparison_table = Table(rows=rows, names=['Target', '$T_\\mathrm{eff, Gaia}$', 'Comp. 1', \n",
    "                                           '$T_\\mathrm{Q}$', 'Comp. 2', '$T_\\mathrm{S}$', '$\\Delta T$'])"
   ]
  },
  {
   "cell_type": "code",
   "execution_count": 825,
   "metadata": {},
   "outputs": [],
   "source": [
    "comparison_table.sort('$T_\\mathrm{eff, Gaia}$')"
   ]
  },
  {
   "cell_type": "code",
   "execution_count": 826,
   "metadata": {},
   "outputs": [],
   "source": [
    "comparison_table.write('/Users/bmmorris/Dropbox/Apps/ShareLaTeX/freckles/comp_table.tex', format='aastex', \n",
    "                         caption=\"\\label{tab:comptable}\", latexdict = {'tabletype': 'deluxetable*', \n",
    "                                                                       'col_align': 'lc|cc|cc|c'}, \n",
    "                         overwrite=True)"
   ]
  },
  {
   "cell_type": "code",
   "execution_count": 827,
   "metadata": {},
   "outputs": [
    {
     "name": "stdout",
     "output_type": "stream",
     "text": [
      "    Target    $T_\\mathrm{eff, Gaia}$ ...    $T_\\mathrm{S}$    $\\Delta T$\n",
      "------------- ---------------------- ... -------------------- ----------\n",
      "     HD151288   $4224^{+300}_{-270}$ ...  $3882^{+163}_{-82}$        583\n",
      "        EQVir    $4433^{+82}_{-106}$ ... $3846^{+181}_{-190}$        668\n",
      "     HD148467   $4474^{+153}_{-201}$ ... $3846^{+181}_{-190}$        619\n",
      "      GJ9781A    $4484^{+95}_{-110}$ ... $3846^{+181}_{-190}$        619\n",
      "     HD113827   $4610^{+459}_{-191}$ ... $3846^{+181}_{-190}$        619\n",
      "      HD47752     $4700^{+69}_{-22}$ ...  $4465^{+102}_{-66}$        386\n",
      "     HD127506     $4711^{+55}_{-83}$ ...  $4465^{+102}_{-66}$        386\n",
      "      HD82106     $4749^{+71}_{-40}$ ...  $4465^{+102}_{-66}$        386\n",
      "       HATP11   $4757^{+154}_{-111}$ ...  $4465^{+102}_{-66}$        247\n",
      "      HD45088     $4786^{+39}_{-36}$ ...  $4465^{+102}_{-66}$        386\n",
      "      HD79555   $4861^{+149}_{-251}$ ...  $4465^{+102}_{-66}$        386\n",
      "     HD175742     $4874^{+43}_{-74}$ ...  $4465^{+102}_{-66}$        386\n",
      "     HD200560     $4963^{+42}_{-85}$ ...  $4465^{+102}_{-66}$        386\n",
      "     HD110833     $5025^{+50}_{-82}$ ...  $4465^{+102}_{-66}$        386\n",
      "      HD73667    $5039^{+98}_{-159}$ ...  $4465^{+102}_{-66}$        637\n",
      "      HD14039     $5072^{+98}_{-73}$ ...   $4712^{+67}_{-71}$        390\n",
      "      HD87884     $5098^{+50}_{-69}$ ...   $4712^{+67}_{-71}$        390\n",
      "     HD220182   $5303^{+106}_{-106}$ ...   $4851^{+13}_{-75}$        431\n",
      "       GJ702B   $5305^{+341}_{-245}$ ...   $4851^{+13}_{-75}$        431\n",
      "      HD41593     $5306^{+28}_{-83}$ ...   $4851^{+13}_{-75}$        431\n",
      "sigmaDraconis   $5450^{+474}_{-314}$ ... $3846^{+181}_{-190}$       1561\n",
      "      HD62613     $5560^{+47}_{-49}$ ... $5102^{+139}_{-106}$        552\n",
      "        EKDra   $5584^{+115}_{-193}$ ...   $5253^{+61}_{-89}$        282\n",
      "     HD134319    $5636^{+100}_{-54}$ ...   $5253^{+61}_{-89}$        282\n",
      "      HD68017    $5749^{+155}_{-90}$ ... $5102^{+139}_{-106}$        552\n",
      "        51Peg    $5830^{+214}_{-55}$ ... $3846^{+181}_{-190}$       1986\n",
      "      HD39587     $6028^{+76}_{-81}$ ...   $5560^{+47}_{-49}$        500\n"
     ]
    }
   ],
   "source": [
    "comparison_table.pprint(max_lines=100)"
   ]
  },
  {
   "cell_type": "code",
   "execution_count": 828,
   "metadata": {},
   "outputs": [],
   "source": [
    "# fig, ax = plt.subplots(2, 1, figsize=(4, 8))\n",
    "# ax[0].scatter([floatify(s) for s in full_table['$T_\\mathrm{eff,Gaia}$']], \n",
    "#            full_table['$T_\\mathrm{eff, SME}$'].data, color='k')\n",
    "# ax[0].set(xlim=[3800, 6200], ylim=[3800, 6200])\n",
    "# fontsize=14\n",
    "# ax[0].set_xlabel('$T_\\mathrm{eff, Gaia}$', fontsize=fontsize)\n",
    "# ax[0].set_ylabel('$T_\\mathrm{eff, SME}$', fontsize=fontsize)\n",
    "\n",
    "# ax[1].set_xlabel('$T_\\mathrm{eff, Gaia}$', fontsize=fontsize)\n",
    "# ax[1].set_ylabel('$T_\\mathrm{eff, MOOG}$', fontsize=fontsize)\n",
    "\n",
    "# for axis in ax:\n",
    "#     for s in ['right', 'top']:\n",
    "#         axis.spines[s].set_visible(False)\n",
    "#     axis.grid(ls=':')\n",
    "#     axis.plot([4000, 6000], [4000, 6000], ls='--', color='k')\n",
    "\n",
    "# fig.savefig('paper_plots/temperature_comparison.pdf', bbox_inches='tight')"
   ]
  },
  {
   "cell_type": "code",
   "execution_count": 829,
   "metadata": {},
   "outputs": [],
   "source": [
    "# gaia_dedup.add_index('Target')\n",
    "\n",
    "# teffs = [float(s.split('^')[0][1:]) for s in full_table['$T_\\mathrm{eff,Gaia}$']]\n",
    "# colors = [gaia_dedup.loc[t]['BP-RP'] for t in full_table['Target']]"
   ]
  },
  {
   "cell_type": "code",
   "execution_count": 830,
   "metadata": {},
   "outputs": [],
   "source": [
    "# plt.scatter(teffs, colors)\n",
    "# plt.xlim([3700, 6400])\n",
    "# plt.ylim([0.5, 2.5])\n",
    "# plt.xlabel('$T_\\mathrm{eff}$')\n",
    "# plt.ylabel('BP-RP')"
   ]
  },
  {
   "cell_type": "code",
   "execution_count": 831,
   "metadata": {},
   "outputs": [],
   "source": [
    "# fs = [float(s.split('\\pm')[0][1:]) if isinstance(s, str) else 0 for s in full_table['$f_S$']]\n",
    "# vsini = [float(s) if (isinstance(s, str) and not s == '****') else 0 for s in full_table['$v \\sin i$']]\n",
    "\n",
    "# plt.scatter(vsini, fs)"
   ]
  },
  {
   "cell_type": "code",
   "execution_count": 832,
   "metadata": {},
   "outputs": [],
   "source": [
    "# comparison_table['Comp. 1'], comparison_table['Comp. 2']\n",
    "\n",
    "gaia_dedup.add_index('Target')"
   ]
  },
  {
   "cell_type": "code",
   "execution_count": 833,
   "metadata": {},
   "outputs": [],
   "source": [
    "colors_comp1 = [gaia_dedup.loc[t]['BP-RP'] for t in comparison_table['Comp. 1']]\n",
    "colors_comp2 = [gaia_dedup.loc[t]['BP-RP'] for t in comparison_table['Comp. 2']]\n",
    "colors_targets = [gaia_dedup.loc[t]['BP-RP'] for t in comparison_table['Target']]"
   ]
  },
  {
   "cell_type": "code",
   "execution_count": 834,
   "metadata": {},
   "outputs": [
    {
     "data": {
      "text/plain": [
       "Text(0,0.5,'Comparison BP-RP')"
      ]
     },
     "execution_count": 834,
     "metadata": {},
     "output_type": "execute_result"
    },
    {
     "data": {
      "image/png": "[encoded data removed]",
      "text/plain": [
       "<Figure size 288x288 with 1 Axes>"
      ]
     },
     "metadata": {},
     "output_type": "display_data"
    }
   ],
   "source": [
    "plt.figure(figsize=(4, 4))\n",
    "plt.scatter(colors_targets, colors_comp1, color='C0')\n",
    "plt.scatter(colors_targets, colors_comp2, color='C1')\n",
    "plt.plot([0.8, 1.7], [0.8, 1.7])\n",
    "plt.xlabel('Target BP-RP')\n",
    "plt.ylabel('Comparison BP-RP')"
   ]
  },
  {
   "cell_type": "code",
   "execution_count": 835,
   "metadata": {},
   "outputs": [],
   "source": [
    "gaia_dedup.sort('BP-RP')"
   ]
  },
  {
   "cell_type": "code",
   "execution_count": 836,
   "metadata": {},
   "outputs": [],
   "source": [
    "rotation_table = Table.read('rotation_periods.txt', names=['Target', '$P_\\mathrm{rot}$ [d]', 'Reference'], delimiter=' ', format='ascii')"
   ]
  },
  {
   "cell_type": "code",
   "execution_count": 837,
   "metadata": {},
   "outputs": [],
   "source": [
    "rotation_table.sort('$P_\\mathrm{rot}$ [d]')\n",
    "rotation_table.write('/Users/bmmorris/Dropbox/Apps/ShareLaTeX/freckles/rotation_periods.tex', format='aastex', \n",
    "                     latexdict={'col_align': 'lcr', 'tabletype': 'deluxetable*'}, \n",
    "                     caption=\"Literature rotation periods. \\label{tab:rotation}\", overwrite=True)"
   ]
  },
  {
   "cell_type": "code",
   "execution_count": null,
   "metadata": {},
   "outputs": [],
   "source": []
  },
  {
   "cell_type": "code",
   "execution_count": null,
   "metadata": {},
   "outputs": [],
   "source": []
  }
 ],
 "metadata": {
  "kernelspec": {
   "display_name": "Python 3",
   "language": "python",
   "name": "python3"
  },
  "language_info": {
   "codemirror_mode": {
    "name": "ipython",
    "version": 3
   },
   "file_extension": ".py",
   "mimetype": "text/x-python",
   "name": "python",
   "nbconvert_exporter": "python",
   "pygments_lexer": "ipython3",
   "version": "3.5.4"
  }
 },
 "nbformat": 4,
 "nbformat_minor": 2
}
