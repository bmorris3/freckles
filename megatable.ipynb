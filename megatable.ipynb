{
 "cells": [
  {
   "cell_type": "code",
   "execution_count": 1,
   "metadata": {},
   "outputs": [],
   "source": [
    "from astropy.io import ascii\n",
    "from astropy.table import Table"
   ]
  },
  {
   "cell_type": "code",
   "execution_count": 44,
   "metadata": {},
   "outputs": [],
   "source": [
    "data_start = 3\n",
    "gaia = ascii.read('temperatures/gaia_temps.tsv', names='Target,Gmag,Teff_Gaia,Teff_Gaia_lower,Teff_Gaia_upper'.split(','), \n",
    "                  data_start=data_start, delimiter='\\t')\n",
    "spocs2005 = ascii.read('temperatures/spocs2005_temps.tsv', names='Target, Teff_spocs2005'.split(', '), \n",
    "                       data_start=data_start, delimiter='\\t')\n",
    "spocs2016 = ascii.read('temperatures/spocs2016_temps.tsv', names='Target, Teff_spocs2016'.split(', '), \n",
    "                       data_start=data_start, delimiter='\\t')"
   ]
  },
  {
   "cell_type": "code",
   "execution_count": 45,
   "metadata": {},
   "outputs": [],
   "source": [
    "from astropy.table import join\n",
    "\n",
    "joined_temps = join(join(gaia, spocs2005, keys=['Target'], join_type='outer'), \n",
    "                    spocs2016, keys=['Target'], join_type='outer')"
   ]
  },
  {
   "cell_type": "code",
   "execution_count": 46,
   "metadata": {},
   "outputs": [],
   "source": [
    "joined_temps.remove_column('Gmag')"
   ]
  },
  {
   "cell_type": "code",
   "execution_count": 47,
   "metadata": {},
   "outputs": [],
   "source": [
    "import numpy as np\n",
    "gaia_teffs = [joined_temps['Teff_Gaia'], \n",
    "              joined_temps['Teff_Gaia']-joined_temps['Teff_Gaia_lower'], \n",
    "              joined_temps['Teff_Gaia_upper']-joined_temps['Teff_Gaia']]\n",
    "\n",
    "gaia_formatted = []\n",
    "for mid, lower, upper in Table(gaia_teffs, names=['Mid', 'Lower', 'Upper']):\n",
    "    if isinstance(mid, float):\n",
    "        gaia_formatted.append('${0:.0f}^{{+{1:.0f}}}_{{-{2:.0f}}}$'.format(mid, upper, lower))\n",
    "    else: \n",
    "        gaia_formatted.append('')"
   ]
  },
  {
   "cell_type": "code",
   "execution_count": 48,
   "metadata": {},
   "outputs": [],
   "source": [
    "from astropy.table import Column\n",
    "joined_temps.remove_columns(['Teff_Gaia', 'Teff_Gaia_lower', 'Teff_Gaia_upper'])\n",
    "joined_temps.add_column(Column(gaia_formatted, 'T_eff_Gaia'))"
   ]
  },
  {
   "cell_type": "code",
   "execution_count": 49,
   "metadata": {},
   "outputs": [],
   "source": [
    "joined_temps.sort(\"Target\")"
   ]
  },
  {
   "cell_type": "code",
   "execution_count": 50,
   "metadata": {},
   "outputs": [
    {
     "name": "stdout",
     "output_type": "stream",
     "text": [
      "\\begin{table}\n",
      "\\begin{tabular}{cccc}\n",
      "Target & Teff_spocs2005 & Teff_spocs2016 & T_eff_Gaia \\\\\n",
      "51 Peg & 5787 & 5758 & $5830^{+214}_{-55}$ \\\\\n",
      "EK Dra & 5845 & 5647 & $5584^{+115}_{-193}$ \\\\\n",
      "EQ Vir &  &  & $4433^{+82}_{-106}$ \\\\\n",
      "GJ702B &  & 5307 & $5305^{+341}_{-245}$ \\\\\n",
      "GJ705 &  &  & $4465^{+102}_{-66}$ \\\\\n",
      "GJ9781A &  &  & $4484^{+95}_{-110}$ \\\\\n",
      "HAT-P-11 &  &  & $4757^{+154}_{-111}$ \\\\\n",
      "HD10697 & 5680 & 5600 & $5654^{+36}_{-56}$ \\\\\n",
      "HD110833 &  & 4999 & $5025^{+50}_{-82}$ \\\\\n",
      "HD113827 &  &  & $4610^{+459}_{-191}$ \\\\\n",
      "HD122120 &  &  & $4469^{+253}_{-144}$ \\\\\n",
      "HD127506 &  &  & $4711^{+55}_{-83}$ \\\\\n",
      "HD129333 & 5845 & 5647 & $5584^{+115}_{-193}$ \\\\\n",
      "HD134319 & 5662 & 5733 & $5636^{+100}_{-54}$ \\\\\n",
      "HD14039 &  &  & $5072^{+98}_{-73}$ \\\\\n",
      "HD145675 & 5388 & 5280 & $5282^{+251}_{-73}$ \\\\\n",
      "HD145742 &  &  & $4851^{+13}_{-75}$ \\\\\n",
      "HD148467 &  &  & $4474^{+153}_{-201}$ \\\\\n",
      "HD149957 &  &  & $4485^{+37}_{-89}$ \\\\\n",
      "HD151288 &  &  & $4224^{+300}_{-270}$ \\\\\n",
      "HD175742 &  & 4937 & $4874^{+43}_{-74}$ \\\\\n",
      "HD178126 &  &  & $4630^{+139}_{-77}$ \\\\\n",
      "HD182488 & 5453 & 5358 & $5404^{+41}_{-93}$ \\\\\n",
      "HD200560 &  &  & $4963^{+42}_{-85}$ \\\\\n",
      "HD209290 &  &  & $3882^{+163}_{-82}$ \\\\\n",
      "HD210277 & 5555 & 5484 & $5535^{+42}_{-48}$ \\\\\n",
      "HD220182 &  &  & $5303^{+106}_{-106}$ \\\\\n",
      "HD221639 &  &  & $5102^{+139}_{-106}$ \\\\\n",
      "HD222107 &  &  & $4637^{+360}_{-274}$ \\\\\n",
      "HD266611 &  &  & $4182^{+260}_{-132}$ \\\\\n",
      "HD34411 & 5911 & 5873 & $5979^{+178}_{-140}$ \\\\\n",
      "HD38230 & 5174 &  & $5253^{+61}_{-89}$ \\\\\n",
      "HD39587 & 5882 & 5988 & $6028^{+76}_{-81}$ \\\\\n",
      "HD41593 &  &  & $5306^{+28}_{-83}$ \\\\\n",
      "HD42250 & 5396 & 5357 & $5407^{+85}_{-46}$ \\\\\n",
      "HD45088 &  &  & $4786^{+39}_{-36}$ \\\\\n",
      "HD47752 & 4707 &  & $4700^{+69}_{-22}$ \\\\\n",
      "HD50692 & 5891 & 5913 & $6060^{+235}_{-118}$ \\\\\n",
      "HD5857 &  &  & $4712^{+67}_{-71}$ \\\\\n",
      "HD62613 &  & 5493 & $5560^{+47}_{-49}$ \\\\\n",
      "HD6497 &  &  & $4514^{+82}_{-71}$ \\\\\n",
      "HD67767 & 5344 & 5251 & $5297^{+486}_{-61}$ \\\\\n",
      "HD68017 & 5552 & 5626 & $5749^{+155}_{-90}$ \\\\\n",
      "HD73667 & 4990 &  & $5039^{+98}_{-159}$ \\\\\n",
      "HD79555 &  &  & $4861^{+149}_{-251}$ \\\\\n",
      "HD82106 & 4868 &  & $4749^{+71}_{-40}$ \\\\\n",
      "HD86728 & 5700 & 5742 & $5832^{+251}_{-207}$ \\\\\n",
      "HD87884 &  &  & $5098^{+50}_{-69}$ \\\\\n",
      "HD89744 & 6291 &  & $6239^{+23}_{-84}$ \\\\\n",
      "HD98230 &  &  & $6300^{+750}_{-263}$ \\\\\n",
      "HR8832 & 4835 &  &  \\\\\n",
      "sigma Draconis & 5246 & 5242 &  \\\\\n",
      "\\end{tabular}\n",
      "\\end{table}\n"
     ]
    }
   ],
   "source": [
    "import sys\n",
    "joined_temps.write(sys.stdout, format='latex')"
   ]
  },
  {
   "cell_type": "code",
   "execution_count": 51,
   "metadata": {},
   "outputs": [],
   "source": [
    "sinds = Table.read('/Users/bmmorris/git/arces_hk/freckles.tex')\n",
    "sinds.sort('Target')"
   ]
  },
  {
   "cell_type": "code",
   "execution_count": 52,
   "metadata": {},
   "outputs": [],
   "source": [
    "from astropy.table import hstack\n",
    "\n",
    "full_table = join(joined_temps, sinds, keys='Target')"
   ]
  },
  {
   "cell_type": "code",
   "execution_count": 55,
   "metadata": {},
   "outputs": [],
   "source": [
    "full_table.sort('$\\log R^\\prime_\\mathrm{HK}$')"
   ]
  },
  {
   "cell_type": "code",
   "execution_count": 56,
   "metadata": {},
   "outputs": [
    {
     "name": "stdout",
     "output_type": "stream",
     "text": [
      "\\begin{table}\n",
      "\\begin{tabular}{cccccccc}\n",
      "Target & Teff_spocs2005 & Teff_spocs2016 & T_eff_Gaia & Sp. Type & $S$ & $\\log R^\\prime_\\mathrm{HK}$ & Active? \\\\\n",
      "HD5857 &  &  & $4712^{+67}_{-71}$ & G5 & $0.11 \\pm 0.01$ & -5.53 & Inactive \\\\\n",
      "GJ705 &  &  & $4465^{+102}_{-66}$ & K2 & $0.12 \\pm 0.01$ & -5.44 & Inactive \\\\\n",
      "HD6497 &  &  & $4514^{+82}_{-71}$ & K2III-IV & $0.11 \\pm 0.01$ & -5.41 & Inactive \\\\\n",
      "HD89744 & 6291 &  & $6239^{+23}_{-84}$ & F7V & $0.14 \\pm 0.01$ & -5.11 & Inactive \\\\\n",
      "HD145742 &  &  & $4851^{+13}_{-75}$ & K0 & $0.15 \\pm 0.01$ & -5.09 & Inactive \\\\\n",
      "HD10697 & 5680 & 5600 & $5654^{+36}_{-56}$ & G3Va & $0.14 \\pm 0.01$ & -5.01 & Inactive \\\\\n",
      "HD221639 &  &  & $5102^{+139}_{-106}$ & K1V & $0.15 \\pm 0.01$ & -4.96 & Inactive \\\\\n",
      "HD210277 & 5555 & 5484 & $5535^{+42}_{-48}$ & G8V & $0.15 \\pm 0.01$ & -4.94 & Inactive \\\\\n",
      "HD145675 & 5388 & 5280 & $5282^{+251}_{-73}$ & K0V & $0.16 \\pm 0.01$ & -4.94 & Inactive \\\\\n",
      "HD86728 & 5700 & 5742 & $5832^{+251}_{-207}$ & G3VaHdel1 & $0.15 \\pm 0.01$ & -4.93 & Inactive \\\\\n",
      "HD34411 & 5911 & 5873 & $5979^{+178}_{-140}$ & G1.5IV-VFe-1 & $0.15 \\pm 0.01$ & -4.9 & Inactive \\\\\n",
      "51 Peg & 5787 & 5758 & $5830^{+214}_{-55}$ & G2IV & $0.15 \\pm 0.01$ & -4.9 & Inactive \\\\\n",
      "HD38230 & 5174 &  & $5253^{+61}_{-89}$ & K0V & $0.16 \\pm 0.01$ & -4.89 & Inactive \\\\\n",
      "HD42250 & 5396 & 5357 & $5407^{+85}_{-46}$ & G9V & $0.16 \\pm 0.01$ & -4.88 & Inactive \\\\\n",
      "HD50692 & 5891 & 5913 & $6060^{+235}_{-118}$ & G0V & $0.16 \\pm 0.01$ & -4.82 & Inactive \\\\\n",
      "HD14039 &  &  & $5072^{+98}_{-73}$ & K1V & $0.19 \\pm 0.01$ & -4.81 & Inactive \\\\\n",
      "HD182488 & 5453 & 5358 & $5404^{+41}_{-93}$ & K0V & $0.17 \\pm 0.01$ & -4.81 & Inactive \\\\\n",
      "HD73667 & 4990 &  & $5039^{+98}_{-159}$ & K2V & $0.19 \\pm 0.01$ & -4.76 & Inactive \\\\\n",
      "HD62613 &  & 5493 & $5560^{+47}_{-49}$ & G8V & $0.18 \\pm 0.01$ & -4.76 & Inactive \\\\\n",
      "HD67767 & 5344 & 5251 & $5297^{+486}_{-61}$ & G7V & $0.19 \\pm 0.01$ & -4.74 & Inactive \\\\\n",
      "HD68017 & 5552 & 5626 & $5749^{+155}_{-90}$ & G3V & $0.18 \\pm 0.01$ & -4.73 & Inactive \\\\\n",
      "sigma Draconis & 5246 & 5242 &  & K0V & $0.20 \\pm 0.01$ & -4.68 & Inactive \\\\\n",
      "HR8832 & 4835 &  &  & K3V & $0.26 \\pm 0.01$ & -4.65 & Inactive \\\\\n",
      "HD178126 &  &  & $4630^{+139}_{-77}$ & K5V & $0.29 \\pm 0.02$ & -4.65 & Inactive \\\\\n",
      "HD110833 &  & 4999 & $5025^{+50}_{-82}$ & K3V & $0.30 \\pm 0.01$ & -4.52 & Inactive \\\\\n",
      "GJ9781A &  &  & $4484^{+95}_{-110}$ & K7 & $0.99 \\pm 0.04$ & -4.46 & Active \\\\\n",
      "HAT-P-11 &  &  & $4757^{+154}_{-111}$ & K4V & $0.53 \\pm 0.02$ & -4.46 & Active \\\\\n",
      "HD98230 &  &  & $6300^{+750}_{-263}$ & G2V & $0.26 \\pm 0.01$ & -4.41 & Active \\\\\n",
      "HD148467 &  &  & $4474^{+153}_{-201}$ & K6V & $0.69 \\pm 0.03$ & -4.38 & Active \\\\\n",
      "HD47752 & 4707 &  & $4700^{+69}_{-22}$ & K3.5V & $0.48 \\pm 0.02$ & -4.38 & Active \\\\\n",
      "HD122120 &  &  & $4469^{+253}_{-144}$ & K5V & $0.60 \\pm 0.02$ & -4.37 & Active \\\\\n",
      "HD149957 &  &  & $4485^{+37}_{-89}$ & K5V & $0.67 \\pm 0.03$ & -4.37 & Active \\\\\n",
      "HD39587 & 5882 & 5988 & $6028^{+76}_{-81}$ & G0V & $0.30 \\pm 0.01$ & -4.29 & Active \\\\\n",
      "HD222107 &  &  & $4637^{+360}_{-274}$ & G8IVk & $0.55 \\pm 0.02$ & -4.27 & Active \\\\\n",
      "HD87884 &  &  & $5098^{+50}_{-69}$ & K0Ve & $0.44 \\pm 0.02$ & -4.24 & Active \\\\\n",
      "HD79555 &  &  & $4861^{+149}_{-251}$ & K4V & $0.62 \\pm 0.03$ & -4.23 & Active \\\\\n",
      "HD82106 & 4868 &  & $4749^{+71}_{-40}$ & K3V & $0.61 \\pm 0.02$ & -4.23 & Active \\\\\n",
      "HD41593 &  &  & $5306^{+28}_{-83}$ & K0V & $0.44 \\pm 0.02$ & -4.22 & Active \\\\\n",
      "HD209290 &  &  & $3882^{+163}_{-82}$ & M0.5V & $1.66 \\pm 0.07$ & -4.21 & Active \\\\\n",
      "HD266611 &  &  & $4182^{+260}_{-132}$ & K5V & $1.44 \\pm 0.06$ & -4.2 & Active \\\\\n",
      "HD220182 &  &  & $5303^{+106}_{-106}$ & G9V & $0.45 \\pm 0.02$ & -4.19 & Active \\\\\n",
      "HD200560 &  &  & $4963^{+42}_{-85}$ & K2.5V & $0.61 \\pm 0.03$ & -4.17 & Active \\\\\n",
      "HD127506 &  &  & $4711^{+55}_{-83}$ & K3.5V & $0.49 \\pm 0.02$ & -4.13 & Active \\\\\n",
      "HD134319 & 5662 & 5733 & $5636^{+100}_{-54}$ & G5V: & $0.42 \\pm 0.02$ & -4.12 & Active \\\\\n",
      "HD113827 &  &  & $4610^{+459}_{-191}$ & K4V & $1.03 \\pm 0.04$ & -4.0 & Active \\\\\n",
      "HD45088 &  &  & $4786^{+39}_{-36}$ & K2Ve & $0.91 \\pm 0.04$ & -3.98 & Active \\\\\n",
      "EK Dra & 5845 & 5647 & $5584^{+115}_{-193}$ & G1.5V & $0.58 \\pm 0.02$ & -3.91 & Active \\\\\n",
      "HD129333 & 5845 & 5647 & $5584^{+115}_{-193}$ & G1.5V & $0.63 \\pm 0.03$ & -3.86 & Active \\\\\n",
      "HD175742 &  & 4937 & $4874^{+43}_{-74}$ & K0V & $1.26 \\pm 0.05$ & -3.78 & Active \\\\\n",
      "EQ Vir &  &  & $4433^{+82}_{-106}$ & K5Ve & $3.00 \\pm 0.12$ & -3.65 & Active \\\\\n",
      "GJ702B &  & 5307 & $5305^{+341}_{-245}$ & K4V & $0.84 \\pm 0.04$ & -3.61 & Active \\\\\n",
      "HD151288 &  &  & $4224^{+300}_{-270}$ & K7.5Ve & $1.27 \\pm 0.05$ & -3.58 & Active \\\\\n",
      "\\end{tabular}\n",
      "\\end{table}\n"
     ]
    }
   ],
   "source": [
    "full_table.write(sys.stdout, format='latex')"
   ]
  },
  {
   "cell_type": "code",
   "execution_count": null,
   "metadata": {},
   "outputs": [],
   "source": []
  }
 ],
 "metadata": {
  "kernelspec": {
   "display_name": "Python 3",
   "language": "python",
   "name": "python3"
  },
  "language_info": {
   "codemirror_mode": {
    "name": "ipython",
    "version": 3
   },
   "file_extension": ".py",
   "mimetype": "text/x-python",
   "name": "python",
   "nbconvert_exporter": "python",
   "pygments_lexer": "ipython3",
   "version": "3.5.4"
  }
 },
 "nbformat": 4,
 "nbformat_minor": 2
}
