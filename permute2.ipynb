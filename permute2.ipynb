{
 "cells": [
  {
   "cell_type": "code",
   "execution_count": 2,
   "metadata": {
    "collapsed": false
   },
   "outputs": [
    {
     "name": "stderr",
     "output_type": "stream",
     "text": [
      "WARNING: AstropyDeprecationWarning: astropy.utils.compat.odict.OrderedDict is now deprecated - import OrderedDict from the collections module instead [astropy.utils.compat.odict]\n"
     ]
    }
   ],
   "source": [
    "%matplotlib inline\n",
    "import matplotlib.pyplot as plt\n",
    "import numpy as np\n",
    "from glob import glob\n",
    "import astropy.units as u\n",
    "\n",
    "\n",
    "from toolkit import get_phoenix_model_spectrum, EchelleSpectrum\n",
    "\n",
    "standard_path = ('/Users/bmmorris/data/Q3UW04/UT160706/'\n",
    "                 'BD28_4211.0034.wfrmcpc.fits')\n",
    "standard_spectrum = EchelleSpectrum.from_fits(standard_path)\n",
    "#target_path = glob('/Users/bmmorris/data/Q1UW09/UT170317/HA*wfrmcpc.fits')[0]\n",
    "target_path = '/Users/bmmorris/data/Q3UW04/UT170620/HAT-P-11.0072.wfrmcpc.fits'\n",
    "#glob('/Users/bmmorris/data/Q1UW09/UT170317/HA*wfrmcpc.fits')[0]\n",
    "target_spectrum = EchelleSpectrum.from_fits(target_path)\n",
    "\n",
    "def nearest_order(wavelength):\n",
    "    return np.argmin([abs(spec.wavelength.mean() - wavelength).value\n",
    "                      for spec in target_spectrum.spectrum_list])\n",
    "\n",
    "# nearest_order_7055 = nearest_order(7055*u.Angstrom)\n",
    "# nearest_order_8860 = nearest_order(8860*u.Angstrom)\n",
    "\n",
    "only_orders = list(range(len(target_spectrum.spectrum_list)))\n",
    "target_spectrum.continuum_normalize(standard_spectrum,\n",
    "                                    polynomial_order=10,\n",
    "                                    only_orders=only_orders,\n",
    "                                    plot_masking=False)\n",
    "\n",
    "rv_shifts = u.Quantity([target_spectrum.rv_wavelength_shift(order)\n",
    "                        for order in only_orders])\n",
    "median_rv_shift = np.median(rv_shifts)\n",
    "\n",
    "target_spectrum.offset_wavelength_solution(median_rv_shift)"
   ]
  },
  {
   "cell_type": "code",
   "execution_count": 3,
   "metadata": {
    "collapsed": false
   },
   "outputs": [],
   "source": [
    "from toolkit import ModelGrid\n",
    "model_grid = ModelGrid()"
   ]
  },
  {
   "cell_type": "code",
   "execution_count": 4,
   "metadata": {
    "collapsed": false
   },
   "outputs": [],
   "source": [
    "# from toolkit import Band\n",
    "# bands_TiO.append(Band(*u.Quantity([4760.885, 4758, 4764], u.Angstrom)))\n",
    "# bands_TiO.append(Band(*u.Quantity([5166.664, 5164, 5168], u.Angstrom)))\n",
    "#bands_TiO.append(Band(*u.Quantity([4956.791, 4953, 4959], u.Angstrom)))\n",
    "# bands_TiO.append(Band(*u.Quantity([5598.410, 5596, 5600], u.Angstrom)))"
   ]
  },
  {
   "cell_type": "code",
   "execution_count": 5,
   "metadata": {
    "collapsed": false
   },
   "outputs": [
    {
     "data": {
      "image/png": "[encoded data removed]",
      "text/plain": [
       "<matplotlib.figure.Figure at 0x115e14048>"
      ]
     },
     "metadata": {},
     "output_type": "display_data"
    }
   ],
   "source": [
    "from toolkit import slice_spectrum, concatenate_spectra, bands_TiO\n",
    "\n",
    "#bands_TiO.append(Band(*u.Quantity([4760.885, 4758, 4764], u.Angstrom)))\n",
    "\n",
    "spec_band = []\n",
    "for band in bands_TiO:\n",
    "    band_order = target_spectrum.get_order(nearest_order(band.core))\n",
    "    target_slice = slice_spectrum(band_order, band.min-5*u.Angstrom, band.max+5*u.Angstrom)\n",
    "    target_slice.flux /= target_slice.flux.max()\n",
    "    spec_band.append(target_slice)\n",
    "\n",
    "slices = concatenate_spectra(spec_band)\n",
    "slices.plot(normed=False, color='k', lw=2, marker='.')"
   ]
  },
  {
   "cell_type": "code",
   "execution_count": null,
   "metadata": {
    "collapsed": false
   },
   "outputs": [],
   "source": [
    "from itertools import combinations\n",
    "# Limit combinations such that delta T < 2000 K\n",
    "temp_combinations = [i for i in combinations(model_grid.test_temps, 2) \n",
    "                     if (abs(i[0] - i[1]) <= 3000) and (4600 < i[1] < 4800)]\n",
    "n_combinations = len(temp_combinations)\n",
    "n_fit_params = 4\n",
    "best_parameters = np.zeros((n_combinations, n_fit_params))"
   ]
  },
  {
   "cell_type": "code",
   "execution_count": null,
   "metadata": {
    "collapsed": false
   },
   "outputs": [],
   "source": [
    "from toolkit import instr_model\n",
    "from scipy.optimize import fmin_l_bfgs_b\n",
    "from astropy.utils.console import ProgressBar\n",
    "\n",
    "def chi2(p, temp_phot, temp_spot):\n",
    "    spotted_area, lam_offset, res = p\n",
    "    model, residuals = instr_model(temp_phot, temp_spot, spotted_area, \n",
    "                                   lam_offset, res, slices, model_grid)\n",
    "    return residuals\n",
    "\n",
    "bounds = [[0, 0.2], [-10, 0], [5, 15]]\n",
    "initp = [0.03, -1.7, 9]\n",
    "\n",
    "bfgs_options_fast = dict(epsilon=1e-3, approx_grad=True,\n",
    "                         m=10, maxls=20)\n",
    "bfgs_options_precise = dict(epsilon=1e-3, approx_grad=True,\n",
    "                            m=30, maxls=50)\n",
    "\n",
    "with ProgressBar(n_combinations, ipython_widget=True) as bar:\n",
    "    for i in range(n_combinations):\n",
    "        bar.update()\n",
    "        temp_spot, temp_phot = temp_combinations[i]\n",
    "        result = fmin_l_bfgs_b(chi2, initp, bounds=bounds, \n",
    "                               args=(temp_phot, temp_spot),\n",
    "                               **bfgs_options_precise)\n",
    "                               #**bfgs_options_fast)\n",
    "        best_parameters[i, :] = np.concatenate([result[0], result[1]])"
   ]
  },
  {
   "cell_type": "code",
   "execution_count": null,
   "metadata": {
    "collapsed": false
   },
   "outputs": [],
   "source": [
    "plt.axvline(2.13e3, color='r')\n",
    "plt.hist(best_parameters[:, 3], 20);"
   ]
  },
  {
   "cell_type": "code",
   "execution_count": null,
   "metadata": {
    "collapsed": true
   },
   "outputs": [],
   "source": [
    "# chi2s = []\n",
    "\n",
    "# for i in range(n_combinations):\n",
    "#     temp_spot, temp_phot = temp_combinations[i]\n",
    "#     spotted_area, lam_offset, res = best_parameters[i, :]\n",
    "#     model, residuals = instr_model(temp_phot, temp_spot, spotted_area, \n",
    "#                                    lam_offset, res, slices, model_grid)\n",
    "#     chi2s.append(residuals)\n",
    "# chi2s = np.array([i[0] for i in chi2s])\n",
    "# best_params = np.hstack([best_parameters, np.atleast_2d(chi2s).T])"
   ]
  },
  {
   "cell_type": "code",
   "execution_count": null,
   "metadata": {
    "collapsed": false
   },
   "outputs": [],
   "source": [
    "best_params_path = 'data/best_params_h11.npy'\n",
    "\n",
    "np.save(best_params_path, best_parameters)\n",
    "# best_parameters = np.load(best_params_path)"
   ]
  },
  {
   "cell_type": "code",
   "execution_count": null,
   "metadata": {
    "collapsed": false
   },
   "outputs": [],
   "source": [
    "within_bounds = (best_parameters[:, 1] < 4.9) & (best_parameters[:, 1] > -4.9)\n",
    "inds = np.arange(len(best_parameters[:, 3]))[within_bounds]\n",
    "\n",
    "best_ind = inds[np.argmin(best_parameters[:, 3][inds])]"
   ]
  },
  {
   "cell_type": "code",
   "execution_count": null,
   "metadata": {
    "collapsed": true
   },
   "outputs": [],
   "source": [
    "# best_ind = np.argmin(best_parameters[:, 3])\n",
    "\n",
    "temp_spot, temp_phot = temp_combinations[best_ind]\n",
    "area = best_parameters[best_ind, 0]\n",
    "dlam = best_parameters[best_ind, 1]\n",
    "res = best_parameters[best_ind, 2]\n",
    "\n",
    "model, resid = instr_model(temp_phot, temp_spot, area, dlam, \n",
    "                           res, slices, model_grid)"
   ]
  },
  {
   "cell_type": "code",
   "execution_count": null,
   "metadata": {
    "collapsed": false
   },
   "outputs": [],
   "source": [
    "temp_spot, temp_phot, area"
   ]
  },
  {
   "cell_type": "code",
   "execution_count": null,
   "metadata": {
    "collapsed": false
   },
   "outputs": [],
   "source": [
    "from toolkit import instr_model\n",
    "\n",
    "lam_offset1 = -1.7\n",
    "#lam_offset2 = -1.35\n",
    "# model, resid = instr_model(4700, 3800, 0.03, lam_offset1,\n",
    "#                           9, slices, model_grid)\n",
    "cool_model, resid = instr_model(3800, 3800, 0.2, lam_offset1,\n",
    "                                9, slices, model_grid)"
   ]
  },
  {
   "cell_type": "code",
   "execution_count": null,
   "metadata": {
    "collapsed": false,
    "scrolled": false
   },
   "outputs": [],
   "source": [
    "def plot_spliced_spectrum(observed_spectrum, model_flux, other_model=None):\n",
    "    n_chunks = len(slices.wavelength_splits)\n",
    "    fig, ax = plt.subplots(n_chunks, 1, figsize=(8, 10))\n",
    "\n",
    "    for i, inds in enumerate(observed_spectrum.wavelength_splits):\n",
    "        min_ind, max_ind = inds\n",
    "\n",
    "        ax[i].errorbar(observed_spectrum.wavelength[min_ind:max_ind].value, \n",
    "                       observed_spectrum.flux[min_ind:max_ind], \n",
    "                       0.025*np.ones(max_ind-min_ind))\n",
    "        ax[i].plot(observed_spectrum.wavelength[min_ind:max_ind], \n",
    "                   model_flux[min_ind:max_ind])\n",
    "        \n",
    "        if other_model is not None:\n",
    "            ax[i].plot(observed_spectrum.wavelength[min_ind:max_ind], \n",
    "                       other_model[min_ind:max_ind], alpha=0.4)\n",
    "        \n",
    "        ax[i].set_xlim([observed_spectrum.wavelength[max_ind-1].value, \n",
    "                        observed_spectrum.wavelength[min_ind].value])\n",
    "        ax[i].set_ylim([0.9*observed_spectrum.flux[min_ind:max_ind].min(), \n",
    "                        1.1])\n",
    "\n",
    "    return fig, ax\n",
    "\n",
    "fig, ax = plot_spliced_spectrum(slices, model, cool_model)\n",
    "# lines = {\"CsII\": [7121.1697, 7123.8696, 7130.5399], \n",
    "#          \"FeII\": [7134.5425, 7128.0876],\n",
    "#          \"FI\": [7127.89]} \n",
    "# fig.savefig('test.png', dpi=300)"
   ]
  },
  {
   "cell_type": "code",
   "execution_count": null,
   "metadata": {
    "collapsed": false
   },
   "outputs": [],
   "source": [
    "fig, ax = plt.subplots(n_fit_params, 1, figsize=(14, 8), sharex=True)\n",
    "for i in range(n_fit_params):\n",
    "    ax[i].plot(best_parameters[:, i]);\n",
    "\n",
    "xticks = np.arange(0, n_combinations, 1)\n",
    "\n",
    "ax[-1].set_xticks(xticks)\n",
    "xticklabels = [', '.join(map(str, x)) for x in np.array(temp_combinations)[xticks, :]]\n",
    "ax[-1].set_xticklabels(xticklabels)\n",
    "#ax[-1].set_ylim([0, 5])\n",
    "\n",
    "for l in ax[-1].get_xticklabels():\n",
    "    l.set_rotation(30)\n",
    "    l.set_ha('right')\n",
    "\n",
    "ax[0].set_ylabel('covering fraction')\n",
    "ax[1].set_ylabel('wavelength offset')\n",
    "ax[2].set_ylabel('broadening coeff')\n",
    "ax[3].set_ylabel('$\\chi^2$')"
   ]
  },
  {
   "cell_type": "code",
   "execution_count": null,
   "metadata": {
    "collapsed": false
   },
   "outputs": [],
   "source": [
    "fig, ax = plt.subplots(n_fit_params, 1, figsize=(14, 8), sharex=True)\n",
    "for i in range(n_fit_params):\n",
    "    ax[i].plot(best_parameters[:, i], '.-');\n",
    "\n",
    "xticks = np.arange(0, n_combinations, 5)\n",
    "\n",
    "ax[-1].set_xticks(xticks)\n",
    "xticklabels = [', '.join(map(str, x)) for x in np.array(temp_combinations)[xticks, :]]\n",
    "ax[-1].set_xticklabels(xticklabels)\n",
    "# ax[-1].set_ylim([0, 2])\n",
    "# ax[-1].set_xlim([200, 300])\n",
    "ax[3].set_ylabel('$\\chi^2$')\n",
    "for l in ax[-1].get_xticklabels():\n",
    "    l.set_rotation(30)\n",
    "    l.set_ha('right')\n",
    "\n",
    "ax[0].set_ylabel('covering fraction')\n",
    "ax[1].set_ylabel('wavelength offset')\n",
    "ax[2].set_ylabel('broadening coeff')\n",
    "\n",
    "# ax[1].set_ylim([0.26, 0.28])\n",
    "\n",
    "for axis in ax:\n",
    "    axis.grid()"
   ]
  },
  {
   "cell_type": "code",
   "execution_count": null,
   "metadata": {
    "collapsed": false
   },
   "outputs": [],
   "source": [
    "# from skimage.filters import threshold_isodata\n",
    "# thresh = threshold_isodata(best_parameters[:, 3])\n",
    "thresh = 2120\n",
    "good_fits = best_parameters[:, 3] < thresh\n",
    "\n",
    "plt.hist(best_parameters[:, 3], 100);\n",
    "plt.axvline(thresh, color='r')"
   ]
  },
  {
   "cell_type": "code",
   "execution_count": null,
   "metadata": {
    "collapsed": false
   },
   "outputs": [],
   "source": [
    "good_temps = np.array(temp_combinations)[good_fits, :]\n",
    "\n",
    "fix_resolution = np.median(best_parameters[good_fits, 2])\n",
    "fix_delta_lam = np.median(best_parameters[good_fits, 1])\n",
    "\n",
    "temp_phot = np.max(good_temps, axis=1)\n",
    "delta_temp = np.diff(good_temps, axis=1)[:, 0]\n",
    "\n",
    "param_labels = ['f_S', 'd lambda', 'res']\n",
    "for i, label in enumerate(param_labels):\n",
    "    plt.figure()\n",
    "    plt.hist(best_parameters[good_fits, i], 10)\n",
    "    plt.xlabel(label)"
   ]
  },
  {
   "cell_type": "markdown",
   "metadata": {},
   "source": [
    "Determine parameter priors based on least squares fits:"
   ]
  },
  {
   "cell_type": "code",
   "execution_count": null,
   "metadata": {
    "collapsed": false
   },
   "outputs": [],
   "source": [
    "#temp_phot = 4780\n",
    "\n",
    "def random_in_range(min, max):\n",
    "    return (max-min)*np.random.rand(1)[0] + min\n",
    "\n",
    "def lnprior(theta):\n",
    "    temp_phot, delta_temp, spotted_area = theta\n",
    "#     delta_temp, spotted_area = theta\n",
    "    if ((3000 <= temp_phot <= 6200) and (200 <= delta_temp <= 3000) and \n",
    "        (0 <= spotted_area <= 0.15)):\n",
    "#     if ((0 <= delta_temp <= 1000) and (0 <= spotted_area <= 0.5)):\n",
    "        return 0.0\n",
    "    return -np.inf\n",
    "\n",
    "def lnlike(theta, model_grid, observed_spectrum):\n",
    "    temp_phot, delta_temp, spotted_area = theta\n",
    "#     delta_temp, spotted_area = theta\n",
    "    temp_spot = temp_phot - delta_temp\n",
    "    model, residuals = instr_model(temp_phot, temp_spot, spotted_area, fix_delta_lam, \n",
    "                                   fix_resolution, observed_spectrum, model_grid)\n",
    "    return -0.5*residuals#[0] #-0.5*np.sum((y-model)**2/yerr**2)\n",
    "\n",
    "def lnprob(theta, model_grid, observed_spectrum):\n",
    "    lp = lnprior(theta)\n",
    "    if not np.isfinite(lp):\n",
    "        return -np.inf\n",
    "    return lp + lnlike(theta, model_grid, observed_spectrum)\n",
    "\n",
    "from emcee import EnsembleSampler\n",
    "\n",
    "initp = np.array([4400, 500, 0.3])\n",
    "# initp = np.array([1000, 0.3])\n",
    "ndim, nwalkers = len(initp), 4*len(initp)\n",
    "\n",
    "pos = []\n",
    "\n",
    "indices = np.arange(np.count_nonzero(good_fits))\n",
    "np.random.shuffle(indices)\n",
    "\n",
    "counter = -1\n",
    "while len(pos) < nwalkers:\n",
    "    counter += 1\n",
    "    index = indices[counter % len(indices)]\n",
    "\n",
    "    realization = np.array([temp_phot[index] + 50 * np.random.randn(), \n",
    "                            delta_temp[index] + 0.1 * np.random.randn(), \n",
    "                            best_parameters[good_fits, 0][index]  + 0.1 * np.random.randn()])\n",
    "#     realization = np.array([delta_temp[index], best_parameters[good_fits, 0][index]])\n",
    "    if np.isfinite(lnprior(realization)):\n",
    "        pos.append(realization)\n",
    "\n",
    "sampler = EnsembleSampler(nwalkers, ndim, lnprob, threads=4,\n",
    "                          args=(model_grid, slices))"
   ]
  },
  {
   "cell_type": "code",
   "execution_count": null,
   "metadata": {
    "collapsed": false
   },
   "outputs": [],
   "source": [
    "n_steps = 1*nwalkers\n",
    "sampler.run_mcmc(pos, n_steps);"
   ]
  },
  {
   "cell_type": "code",
   "execution_count": null,
   "metadata": {
    "collapsed": false
   },
   "outputs": [],
   "source": [
    "from corner import corner\n",
    "corner(sampler.flatchain)\n",
    "plt.show()"
   ]
  },
  {
   "cell_type": "code",
   "execution_count": null,
   "metadata": {
    "collapsed": false,
    "scrolled": true
   },
   "outputs": [],
   "source": [
    "plt.plot(sampler.lnprobability.T);"
   ]
  },
  {
   "cell_type": "code",
   "execution_count": null,
   "metadata": {
    "collapsed": false
   },
   "outputs": [],
   "source": [
    "for i in range(sampler.chain.shape[-1]):\n",
    "    plt.figure()\n",
    "    plt.plot(sampler.chain[..., i].T)"
   ]
  },
  {
   "cell_type": "code",
   "execution_count": null,
   "metadata": {
    "collapsed": false
   },
   "outputs": [],
   "source": [
    "best_step = sampler.flatchain[np.argmax(sampler.flatlnprobability)]\n",
    "\n",
    "#temp_phot = best_step[0]\n",
    "#temp_spot = best_step[0] - best_step[1]\n",
    "temp_spot = temp_phot - best_step[0]\n",
    "model, resid = instr_model(temp_phot, temp_spot, best_step[1], fix_delta_lam, \n",
    "                           fix_resolution, slices, model_grid)"
   ]
  },
  {
   "cell_type": "code",
   "execution_count": null,
   "metadata": {
    "collapsed": false
   },
   "outputs": [],
   "source": [
    "print(list(map(\"{0:.5f}\".format, best_step)))"
   ]
  },
  {
   "cell_type": "code",
   "execution_count": null,
   "metadata": {
    "collapsed": false
   },
   "outputs": [],
   "source": [
    "slices.plot()\n",
    "print(resid)\n",
    "plt.plot(slices.wavelength, model)# - slices.flux)"
   ]
  },
  {
   "cell_type": "code",
   "execution_count": null,
   "metadata": {
    "collapsed": false
   },
   "outputs": [],
   "source": [
    "def plot_spliced_spectrum(observed_spectrum, model_flux, plot_lines=False):\n",
    "    n_chunks = len(slices.wavelength_splits)\n",
    "    fig, ax = plt.subplots(n_chunks, 1, figsize=(8, 10))\n",
    "\n",
    "    for i, inds in enumerate(observed_spectrum.wavelength_splits):\n",
    "        min_ind, max_ind = inds\n",
    "#         ax[i].plot(observed_spectrum.wavelength[min_ind:max_ind], \n",
    "#                    observed_spectrum.flux[min_ind:max_ind])\n",
    "\n",
    "        ax[i].errorbar(observed_spectrum.wavelength[min_ind:max_ind].value, \n",
    "                       observed_spectrum.flux[min_ind:max_ind], \n",
    "                       0.025*np.ones(max_ind-min_ind))\n",
    "        ax[i].plot(observed_spectrum.wavelength[min_ind:max_ind], \n",
    "                   model_flux[min_ind:max_ind])\n",
    "        ax[i].set_xlim([observed_spectrum.wavelength[max_ind-1].value, \n",
    "                        observed_spectrum.wavelength[min_ind].value])\n",
    "        ax[i].set_ylim([0.2, 1.1])\n",
    "\n",
    "    return fig, ax\n",
    "\n",
    "fig, ax = plot_spliced_spectrum(slices, model, plot_lines=True)\n",
    "# lines = {\"CsII\": [7121.1697, 7123.8696, 7130.5399], \n",
    "#          \"FeII\": [7134.5425, 7128.0876],\n",
    "#          \"FI\": [7127.89]} \n",
    "# fig.savefig('test.png', dpi=300)"
   ]
  },
  {
   "cell_type": "code",
   "execution_count": null,
   "metadata": {
    "collapsed": false
   },
   "outputs": [],
   "source": [
    "list(model_grid.cache.keys())"
   ]
  },
  {
   "cell_type": "code",
   "execution_count": null,
   "metadata": {
    "collapsed": true
   },
   "outputs": [],
   "source": []
  }
 ],
 "metadata": {
  "kernelspec": {
   "display_name": "Python 3",
   "language": "python",
   "name": "python3"
  },
  "language_info": {
   "codemirror_mode": {
    "name": "ipython",
    "version": 3
   },
   "file_extension": ".py",
   "mimetype": "text/x-python",
   "name": "python",
   "nbconvert_exporter": "python",
   "pygments_lexer": "ipython3",
   "version": "3.5.2"
  }
 },
 "nbformat": 4,
 "nbformat_minor": 0
}
