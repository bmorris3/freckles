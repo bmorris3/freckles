{
 "cells": [
  {
   "cell_type": "markdown",
   "metadata": {},
   "source": [
    "# Sanity check\n",
    "\n",
    "$$ F _ { \\text { total } } = \\frac { f _ { S } R _ { \\lambda } F _ { S } + \\left( 1 - f _ { S } \\right) F _ { Q } } { f _ { S } R _ { \\lambda } + \\left( 1 - f _ { S } \\right) } $$"
   ]
  },
  {
   "cell_type": "code",
   "execution_count": 86,
   "metadata": {},
   "outputs": [
    {
     "data": {
      "text/plain": [
       "(1.496, 1.7013733993700595)"
      ]
     },
     "execution_count": 86,
     "metadata": {},
     "output_type": "execute_result"
    }
   ],
   "source": [
    "from astropy.modeling.blackbody import blackbody_lambda\n",
    "import numpy as np\n",
    "import astropy.units as u\n",
    "\n",
    "# Gaia BP - RP color:\n",
    "eqvir_observed = 1.4960\n",
    "hr5568 = 2.1873\n",
    "cyg61a = 1.5818\n",
    "\n",
    "fs = 0.5\n",
    "\n",
    "wl = np.linspace(400, 1100) * u.nm\n",
    "# bb_cool = np.trapz(blackbody_lambda(wl, 3300), wl)\n",
    "# bb_hot = np.trapz(blackbody_lambda(wl, 4519), wl)\n",
    "\n",
    "test_lambda = 7000 * u.Angstrom\n",
    "bb_cool = blackbody_lambda(test_lambda, 3300)\n",
    "bb_hot = blackbody_lambda(test_lambda, 4519)\n",
    "\n",
    "R = (bb_cool/bb_hot).value\n",
    "\n",
    "def color_combination(blue, red, fs):\n",
    "    W_Q = (1 - fs)/( fs*R + (1 - fs) )\n",
    "    W_S = (fs * R)/( fs*R + (1 - fs) )\n",
    "    return 2.5 * np.log10( W_Q * 10**(blue / 2.5) + W_S * 10**(red / 2.5))\n",
    "\n",
    "# Following eqn 1 of ONeal 2004\n",
    "# eqvir_computed = (fs * hr5568 * R + (1 - fs) * cyg61a) / (fs * R + (1 - fs))\n",
    "eqvir_observed, color_combination(cyg61a, hr5568, 0.50)"
   ]
  },
  {
   "cell_type": "code",
   "execution_count": 84,
   "metadata": {},
   "outputs": [
    {
     "data": {
      "text/plain": [
       "(0.875, 0.87160156205229455)"
      ]
     },
     "execution_count": 84,
     "metadata": {},
     "output_type": "execute_result"
    }
   ],
   "source": [
    "ekdra = 0.8750\n",
    "solar_spectrum = 0.8170 # actually 51 Peg\n",
    "spot_proxy = 2.1969 # actually GJ4099 w/ T_eff ~ 3800\n",
    "\n",
    "ekdra, color_combination(solar_spectrum, spot_proxy, 0.1)"
   ]
  },
  {
   "cell_type": "markdown",
   "metadata": {},
   "source": [
    "$$W _ { Q } = \\left( 1 - f _ { S } \\right) / \\left[ \\left( f _ { S } R _ { \\lambda } \\right) + \\left( 1 - f _ { S } \\right) \\right]$$\n",
    "\n",
    "$$ W _ { S } = \\left( f _ { S } R _ { \\lambda } \\right) / \\left[ \\left( f _ { S } R _ { \\lambda } \\right) + \\left( 1 - f _ { S } \\right) \\right] $$"
   ]
  },
  {
   "cell_type": "code",
   "execution_count": 38,
   "metadata": {},
   "outputs": [
    {
     "name": "stdout",
     "output_type": "stream",
     "text": [
      "0.8770133072792698 0.12298669272073001\n"
     ]
    },
    {
     "data": {
      "text/plain": [
       "1.656268442442402"
      ]
     },
     "execution_count": 38,
     "metadata": {},
     "output_type": "execute_result"
    }
   ],
   "source": [
    "W_Q = (1 - fs)/( fs*R + (1 - fs) )\n",
    "W_S = (fs * R)/( fs*R + (1 - fs) )\n",
    "print(W_Q, W_S)\n",
    "(W_S * hr5568 + W_Q * cyg61a) #/ (fs * R + (1 - fs))"
   ]
  },
  {
   "cell_type": "code",
   "execution_count": 44,
   "metadata": {},
   "outputs": [
    {
     "data": {
      "text/plain": [
       "1.8012428074494167"
      ]
     },
     "execution_count": 44,
     "metadata": {},
     "output_type": "execute_result"
    }
   ],
   "source": [
    "2.5 * np.log10(0.3 * 10**(hr5568 / 2.5) + 0.7 * 10**(cyg61a / 2.5))"
   ]
  },
  {
   "cell_type": "code",
   "execution_count": null,
   "metadata": {},
   "outputs": [],
   "source": [
    "2.5 * log10(0.3 * 10^(B_V_0 / 2.5) + 0.7 * 10^(B_V_1 / 2.5))"
   ]
  }
 ],
 "metadata": {
  "kernelspec": {
   "display_name": "Python 3",
   "language": "python",
   "name": "python3"
  },
  "language_info": {
   "codemirror_mode": {
    "name": "ipython",
    "version": 3
   },
   "file_extension": ".py",
   "mimetype": "text/x-python",
   "name": "python",
   "nbconvert_exporter": "python",
   "pygments_lexer": "ipython3",
   "version": "3.5.4"
  }
 },
 "nbformat": 4,
 "nbformat_minor": 2
}
