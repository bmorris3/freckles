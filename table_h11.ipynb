{
 "cells": [
  {
   "cell_type": "code",
   "execution_count": 117,
   "metadata": {},
   "outputs": [],
   "source": [
    "%matplotlib inline\n",
    "import matplotlib.pyplot as plt\n",
    "import json\n",
    "from astropy.io import ascii\n",
    "import numpy as np\n",
    "from astropy.table import Table, Column, Row\n",
    "import sys\n",
    "import pandas as pd\n",
    "from astropy.time import Time"
   ]
  },
  {
   "cell_type": "code",
   "execution_count": 125,
   "metadata": {},
   "outputs": [],
   "source": [
    "results = json.load(open('bandbyband_h11_results.json', 'r'))"
   ]
  },
  {
   "cell_type": "code",
   "execution_count": 126,
   "metadata": {},
   "outputs": [
    {
     "data": {
      "image/png": "[encoded data removed]",
      "text/plain": [
       "<Figure size 288x216 with 1 Axes>"
      ]
     },
     "metadata": {},
     "output_type": "display_data"
    }
   ],
   "source": [
    "results_upper = dict()\n",
    "\n",
    "fig, ax = plt.subplots(figsize=(4, 3))\n",
    "for k, v in results.items():\n",
    "    results_upper[k] = {ki: vi['f_S'] + vi['f_S_upper'] for ki, vi in v.items()}\n",
    "    \n",
    "    t = Time(k, format='isot')\n",
    "    for ki, vi in v.items():\n",
    "        ax.errorbar(t.decimalyear, vi['f_S'], np.array([[vi['f_S_lower'], vi['f_S_upper']]]), color='k', fmt='.')\n",
    "        \n",
    "for s in ['right', 'top']:\n",
    "    ax.spines[s].set_visible(False)\n",
    "    \n",
    "ax.grid(ls=':')\n",
    "ax.set_xlabel('Year', fontsize=14)\n",
    "ax.set_ylabel('$f_S$', fontsize=14)\n",
    "ax.set_ylim([0.05, 0.25])\n",
    "plt.setp(ax.get_xticklabels(), rotation=30, ha='right')\n",
    "fig.savefig('paper_plots/h11_timeseries.pdf', bbox_inches='tight')\n",
    "plt.show()"
   ]
  },
  {
   "cell_type": "code",
   "execution_count": 120,
   "metadata": {},
   "outputs": [],
   "source": [
    "\n",
    "\n",
    "df = pd.DataFrame(results_upper).transpose()\n",
    "\n",
    "table = Table([Column(Time([str(i) for i in df.index], format='isot').jd, 'JD'), \n",
    "               Column(df['7054'], '7054'), \n",
    "               Column(df['7087'], '7087'), Column(df['7125'], '7125'), Column(df['8859'], '8859')])"
   ]
  },
  {
   "cell_type": "code",
   "execution_count": 121,
   "metadata": {},
   "outputs": [],
   "source": [
    "rows = []\n",
    "for i, row in enumerate(table): \n",
    "    new_row = [row['JD']]\n",
    "    for name, col in zip(row.colnames, row): \n",
    "        if name != 'JD': \n",
    "            new_row.append(\"$<{0}$\".format(round(col, 3)))\n",
    "    rows.append(new_row)\n",
    "\n",
    "formatted_table = Table(rows=rows, names=row.colnames)"
   ]
  },
  {
   "cell_type": "code",
   "execution_count": 122,
   "metadata": {},
   "outputs": [
    {
     "name": "stderr",
     "output_type": "stream",
     "text": [
      "WARNING: AstropyDeprecationWarning: h11_allbands.tex already exists. Automatically overwriting ASCII files is deprecated. Use the argument 'overwrite=True' in the future. [astropy.io.ascii.ui]\n"
     ]
    }
   ],
   "source": [
    "formatted_table.write(\"h11_allbands.tex\", format='latex')"
   ]
  },
  {
   "cell_type": "code",
   "execution_count": 123,
   "metadata": {},
   "outputs": [
    {
     "name": "stdout",
     "output_type": "stream",
     "text": [
      "\\begin{table}\n",
      "\\begin{tabular}{ccccc}\n",
      "JD & 7054 & 7087 & 7125 & 8859 \\\\\n",
      "2457854.90557 & $<0.139$ & $<0.147$ & $<0.162$ & $<0.169$ \\\\\n",
      "2457854.92122 & $<0.142$ & $<0.149$ & $<0.162$ & $<0.166$ \\\\\n",
      "2457854.93687 & $<0.134$ & $<0.152$ & $<0.173$ & $<0.165$ \\\\\n",
      "2457854.95271 & $<0.138$ & $<0.151$ & $<0.166$ & $<0.173$ \\\\\n",
      "2457854.96838 & $<0.129$ & $<0.156$ & $<0.171$ & $<0.176$ \\\\\n",
      "2457854.98403 & $<0.133$ & $<0.152$ & $<0.159$ & $<0.172$ \\\\\n",
      "2457916.81118 & $<0.136$ & $<0.149$ & $<0.176$ & $<0.18$ \\\\\n",
      "2457916.83378 & $<0.135$ & $<0.149$ & $<0.168$ & $<0.178$ \\\\\n",
      "2457916.89373 & $<0.135$ & $<0.146$ & $<0.165$ & $<0.177$ \\\\\n",
      "2457916.91633 & $<0.135$ & $<0.151$ & $<0.17$ & $<0.187$ \\\\\n",
      "2457916.93719 & $<0.139$ & $<0.147$ & $<0.171$ & $<0.179$ \\\\\n",
      "2457924.80896 & $<0.139$ & $<0.15$ & $<0.166$ & $<0.149$ \\\\\n",
      "2457924.826 & $<0.146$ & $<0.155$ & $<0.175$ & $<0.158$ \\\\\n",
      "2458001.65522 & $<0.15$ & $<0.153$ & $<0.168$ & $<0.166$ \\\\\n",
      "2458001.67781 & $<0.148$ & $<0.149$ & $<0.148$ & $<0.151$ \\\\\n",
      "2458007.6439 & $<0.147$ & $<0.15$ & $<0.148$ & $<0.171$ \\\\\n",
      "2458270.74782 & $<0.138$ & $<0.151$ & $<0.161$ & $<0.156$ \\\\\n",
      "2458270.76695 & $<0.14$ & $<0.149$ & $<0.17$ & $<0.162$ \\\\\n",
      "2458270.78885 & $<0.144$ & $<0.162$ & $<0.172$ & $<0.163$ \\\\\n",
      "\\end{tabular}\n",
      "\\end{table}\n"
     ]
    }
   ],
   "source": [
    "!cat h11_allbands.tex"
   ]
  },
  {
   "cell_type": "code",
   "execution_count": 124,
   "metadata": {},
   "outputs": [
    {
     "data": {
      "image/png": "[encoded data removed]",
      "text/plain": [
       "<Figure size 288x216 with 1 Axes>"
      ]
     },
     "metadata": {},
     "output_type": "display_data"
    }
   ],
   "source": [
    "fig, ax = plt.subplots(figsize=(4, 3))\n",
    "\n",
    "#ax.plot_date(Time(table['JD'], format='jd').plot_date, table['7125'], uplims=True)\n",
    "ax.errorbar(Time(table['JD'], format='jd').plot_date, table['7054'], yerr=0.01, fmt='_', uplims=True)\n",
    "\n",
    "import matplotlib.dates as mdates\n",
    "import matplotlib.cbook as cbook\n",
    "\n",
    "years = mdates.YearLocator()   # every year\n",
    "months = mdates.MonthLocator()  # every month\n",
    "yearsFmt = mdates.DateFormatter('%Y-%m')\n",
    "\n",
    "ax.xaxis.set_major_locator(months)\n",
    "ax.xaxis.set_major_formatter(yearsFmt)\n",
    "\n",
    "plt.setp(ax.get_xticklabels(), rotation=30, ha='right')\n",
    "\n",
    "for label in ax.xaxis.get_ticklabels()[::2]:\n",
    "    label.set_visible(False)\n",
    "\n",
    "for s in ['right', 'top']:\n",
    "    ax.spines[s].set_visible(False)\n",
    "    \n",
    "ax.set(ylabel='$f_S$', title='HAT-P-11: 7054 $\\AA$', ylim=[0, 0.35])\n",
    "\n",
    "ax.grid(ls=':')\n",
    "# fig.savefig('paper_plots/h11_upper_lims.pdf', bbox_inches='tight')"
   ]
  },
  {
   "cell_type": "code",
   "execution_count": null,
   "metadata": {},
   "outputs": [],
   "source": []
  },
  {
   "cell_type": "code",
   "execution_count": null,
   "metadata": {},
   "outputs": [],
   "source": []
  }
 ],
 "metadata": {
  "kernelspec": {
   "display_name": "Python 3",
   "language": "python",
   "name": "python3"
  },
  "language_info": {
   "codemirror_mode": {
    "name": "ipython",
    "version": 3
   },
   "file_extension": ".py",
   "mimetype": "text/x-python",
   "name": "python",
   "nbconvert_exporter": "python",
   "pygments_lexer": "ipython3",
   "version": "3.5.4"
  }
 },
 "nbformat": 4,
 "nbformat_minor": 2
}
