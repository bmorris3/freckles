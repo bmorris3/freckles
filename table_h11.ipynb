{
 "cells": [
  {
   "cell_type": "code",
   "execution_count": 151,
   "metadata": {},
   "outputs": [],
   "source": [
    "%matplotlib inline\n",
    "import matplotlib.pyplot as plt\n",
    "import json\n",
    "from astropy.io import ascii\n",
    "import numpy as np\n",
    "from astropy.table import Table, Column, Row\n",
    "import sys"
   ]
  },
  {
   "cell_type": "code",
   "execution_count": 59,
   "metadata": {},
   "outputs": [],
   "source": [
    "results = json.load(open('bandbyband_h11_results.json', 'r'))"
   ]
  },
  {
   "cell_type": "code",
   "execution_count": 77,
   "metadata": {},
   "outputs": [],
   "source": [
    "results_upper = dict()\n",
    "for k, v in results.items():\n",
    "    results_upper[k] = {ki: vi['f_S_upper'] for ki, vi in v.items()}"
   ]
  },
  {
   "cell_type": "code",
   "execution_count": 152,
   "metadata": {},
   "outputs": [],
   "source": [
    "import pandas as pd\n",
    "from astropy.time import Time\n",
    "\n",
    "df = pd.DataFrame(results_upper).transpose()\n",
    "\n",
    "table = Table([Column(Time([str(i) for i in df.index], format='isot').jd, 'JD'), \n",
    "               Column(df['5598'], '5598'), Column(df['7054'], '7054'), \n",
    "               Column(df['7087'], '7087'), Column(df['7125'], '7125')])"
   ]
  },
  {
   "cell_type": "code",
   "execution_count": 153,
   "metadata": {},
   "outputs": [],
   "source": [
    "rows = []\n",
    "for i, row in enumerate(table): \n",
    "    new_row = [row['JD']]\n",
    "    for name, col in zip(row.colnames, row): \n",
    "        if name != 'JD': \n",
    "            new_row.append(\"$<{0}$\".format(round(col, 3)))\n",
    "    rows.append(new_row)\n",
    "\n",
    "formatted_table = Table(rows=rows, names=row.colnames)"
   ]
  },
  {
   "cell_type": "code",
   "execution_count": 193,
   "metadata": {},
   "outputs": [],
   "source": [
    "formatted_table.write(\"h11_allbands.tex\", format='latex')"
   ]
  },
  {
   "cell_type": "code",
   "execution_count": 194,
   "metadata": {},
   "outputs": [
    {
     "name": "stdout",
     "output_type": "stream",
     "text": [
      "\\begin{table}\n",
      "\\begin{tabular}{ccccc}\n",
      "JD & 5598 & 7054 & 7087 & 7125 \\\\\n",
      "2457854.90557 & $<0.143$ & $<0.187$ & $<0.192$ & $<0.056$ \\\\\n",
      "2457854.92122 & $<0.156$ & $<0.183$ & $<0.159$ & $<0.081$ \\\\\n",
      "2457854.93687 & $<0.152$ & $<0.185$ & $<0.163$ & $<0.045$ \\\\\n",
      "2457854.95271 & $<0.11$ & $<0.187$ & $<0.143$ & $<0.041$ \\\\\n",
      "2457854.96838 & $<0.135$ & $<0.202$ & $<0.16$ & $<0.058$ \\\\\n",
      "2457854.98403 & $<0.139$ & $<0.186$ & $<0.17$ & $<0.037$ \\\\\n",
      "2457916.81118 & $<0.164$ & $<0.197$ & $<0.174$ & $<0.032$ \\\\\n",
      "2457916.83378 & $<0.15$ & $<0.167$ & $<0.193$ & $<0.053$ \\\\\n",
      "2457916.89373 & $<0.159$ & $<0.18$ & $<0.142$ & $<0.038$ \\\\\n",
      "2457916.91633 & $<0.156$ & $<0.196$ & $<0.16$ & $<0.047$ \\\\\n",
      "2457916.93719 & $<0.138$ & $<0.173$ & $<0.164$ & $<0.054$ \\\\\n",
      "2457924.80896 & $<0.146$ & $<0.185$ & $<0.172$ & $<0.051$ \\\\\n",
      "2457924.826 & $<0.125$ & $<0.185$ & $<0.154$ & $<0.041$ \\\\\n",
      "2458001.65522 & $<0.199$ & $<0.163$ & $<0.155$ & $<0.078$ \\\\\n",
      "2458001.67781 & $<0.139$ & $<0.159$ & $<0.168$ & $<0.189$ \\\\\n",
      "2458007.6439 & $<0.128$ & $<0.15$ & $<0.171$ & $<0.159$ \\\\\n",
      "2458270.74782 & $<0.146$ & $<0.17$ & $<0.168$ & $<0.043$ \\\\\n",
      "2458270.76695 & $<0.152$ & $<0.19$ & $<0.152$ & $<0.043$ \\\\\n",
      "2458270.78885 & $<0.125$ & $<0.18$ & $<0.168$ & $<0.043$ \\\\\n",
      "\\end{tabular}\n",
      "\\end{table}\n"
     ]
    }
   ],
   "source": [
    "!cat h11_allbands.tex"
   ]
  },
  {
   "cell_type": "code",
   "execution_count": 192,
   "metadata": {},
   "outputs": [
    {
     "data": {
      "image/png": "[encoded data removed]",
      "text/plain": [
       "<Figure size 288x216 with 1 Axes>"
      ]
     },
     "metadata": {},
     "output_type": "display_data"
    }
   ],
   "source": [
    "fig, ax = plt.subplots(figsize=(4, 3))\n",
    "\n",
    "#ax.plot_date(Time(table['JD'], format='jd').plot_date, table['7125'], uplims=True)\n",
    "ax.errorbar(Time(table['JD'], format='jd').plot_date, table['7125'], yerr=0.01, fmt='_', uplims=True)\n",
    "\n",
    "import matplotlib.dates as mdates\n",
    "import matplotlib.cbook as cbook\n",
    "\n",
    "years = mdates.YearLocator()   # every year\n",
    "months = mdates.MonthLocator()  # every month\n",
    "yearsFmt = mdates.DateFormatter('%Y-%m')\n",
    "\n",
    "ax.xaxis.set_major_locator(months)\n",
    "ax.xaxis.set_major_formatter(yearsFmt)\n",
    "\n",
    "plt.setp(ax.get_xticklabels(), rotation=30, ha='right')\n",
    "\n",
    "for label in ax.xaxis.get_ticklabels()[::2]:\n",
    "    label.set_visible(False)\n",
    "\n",
    "for s in ['right', 'top']:\n",
    "    ax.spines[s].set_visible(False)\n",
    "    \n",
    "ax.set(ylabel='$f_S$', title='HAT-P-11: 7125 $\\AA$', ylim=[0, 0.2])\n",
    "\n",
    "ax.grid(ls=':')\n",
    "fig.savefig('paper_plots/h11_7125.pdf', bbox_inches='tight')"
   ]
  },
  {
   "cell_type": "code",
   "execution_count": null,
   "metadata": {},
   "outputs": [],
   "source": []
  }
 ],
 "metadata": {
  "kernelspec": {
   "display_name": "Python 3",
   "language": "python",
   "name": "python3"
  },
  "language_info": {
   "codemirror_mode": {
    "name": "ipython",
    "version": 3
   },
   "file_extension": ".py",
   "mimetype": "text/x-python",
   "name": "python",
   "nbconvert_exporter": "python",
   "pygments_lexer": "ipython3",
   "version": "3.5.4"
  }
 },
 "nbformat": 4,
 "nbformat_minor": 2
}
